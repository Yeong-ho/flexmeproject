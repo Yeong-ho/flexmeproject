{
 "cells": [
  {
   "cell_type": "code",
   "execution_count": 1,
   "metadata": {
    "id": "nWhPUUnPveS3"
   },
   "outputs": [],
   "source": [
    "import tensorflow as tf\n",
    "from tensorflow.keras.models import Sequential, Model\n",
    "from tensorflow.keras.layers import Dense, Dropout, Input\n",
    "from tensorflow.keras.applications import MobileNet, Xception, ResNet50, InceptionV3\n",
    "from tensorflow.keras.layers import Flatten, Conv2D, MaxPooling2D\n",
    "from tensorflow.keras.preprocessing.image import ImageDataGenerator"
   ]
  },
  {
   "cell_type": "markdown",
   "metadata": {
    "id": "tF5KinX3zpAR"
   },
   "source": [
    "Google Drive 에서 데이터 파일 마운트 하려면 다음과 같이 하면되지만, 프로그래밍 편의를 위해 wget 으로 직접 다운로드 함\n",
    "\n",
    "from google.colab import drive   \n",
    "\n",
    "drive.mount('/content/gdrive/')  \n",
    "\n",
    "import shutil\n",
    "\n",
    "shutil.copy('/content/gdrive/My Drive/Colab Notebooks/dataset/GTSRB_Final_Training_Images.zip', '/content/')"
   ]
  },
  {
   "cell_type": "code",
   "execution_count": 2,
   "metadata": {
    "colab": {
     "base_uri": "https://localhost:8080/"
    },
    "id": "esUP4a8Yq7h6",
    "outputId": "6e1f5355-76e5-430e-c8f4-aaab9de1487e"
   },
   "outputs": [
    {
     "name": "stdout",
     "output_type": "stream",
     "text": [
      "--2021-10-08 15:46:30--  https://sid.erda.dk/public/archives/daaeac0d7ce1152aea9b61d9f1e19370/GTSRB_Final_Training_Images.zip\n",
      "Resolving sid.erda.dk (sid.erda.dk)... 130.225.104.13\n",
      "Connecting to sid.erda.dk (sid.erda.dk)|130.225.104.13|:443... connected.\n",
      "HTTP request sent, awaiting response... 200 OK\n",
      "Length: 276294756 (263M) [application/zip]\n",
      "Saving to: ‘GTSRB_Final_Training_Images.zip’\n",
      "\n",
      "GTSRB_Final_Trainin 100%[===================>] 263.50M  10.5MB/s    in 22s     \n",
      "\n",
      "2021-10-08 15:46:52 (12.2 MB/s) - ‘GTSRB_Final_Training_Images.zip’ saved [276294756/276294756]\n",
      "\n"
     ]
    }
   ],
   "source": [
    "# 파일 다운로드\n",
    "\n",
    "!wget https://sid.erda.dk/public/archives/daaeac0d7ce1152aea9b61d9f1e19370/GTSRB_Final_Training_Images.zip"
   ]
  },
  {
   "cell_type": "code",
   "execution_count": 3,
   "metadata": {
    "id": "5iDRtTO7rpXp"
   },
   "outputs": [],
   "source": [
    "import os\n",
    "import shutil\n",
    "\n",
    "if os.path.exists('/content/GTSRB/'):    # 작업 디렉토리는 GTSRB\n",
    "    \n",
    "    shutil.rmtree('/content/GTSRB/')\n",
    "    print('/content/GTSRB/  is removed !!!')"
   ]
  },
  {
   "cell_type": "code",
   "execution_count": 4,
   "metadata": {
    "id": "ajx57MQ3X6v1"
   },
   "outputs": [],
   "source": [
    "# 압축파일 풀기\n",
    "\n",
    "import zipfile\n",
    "\n",
    "with zipfile.ZipFile('/content/GTSRB_Final_Training_Images.zip', 'r') as target_file:\n",
    "\n",
    "    target_file.extractall('/content/GTSRB_Final_Training_Images/') "
   ]
  },
  {
   "cell_type": "markdown",
   "metadata": {
    "id": "ZqNacGsEYZq_"
   },
   "source": [
    "압축을 풀어보면, 데이터 디렉토리 구조는 다음과 같음\n",
    "\n",
    "GTSRB_Final_Training_Images\n",
    " |- GTSRB\n",
    "     |- Final_Training\n",
    "         |- Images\n",
    "             |- 00000\n",
    "             |- 00001\n",
    "             |- 00002\n",
    "             |- .....\n",
    "             |- 00042\n",
    "\n",
    "이러한 데릭토리 구조에서 딥러닝 학습을 위한 일반적인 디렉토리 구조로 변경할 계획임. 즉 train : test = 8: 2 비율로 나누어서 각각의 디렉토리에 저장하는 데이터 전처리 코드 필요함\n",
    "\n",
    "GTSRB\n",
    " |- train\n",
    "     |- 00000\n",
    "     |- 00001\n",
    "     |- .....\n",
    "     |- 00042\n",
    " |- test\n",
    "     |- 00000\n",
    "     |- 00001\n",
    "     |- .....\n",
    "     |- 00042"
   ]
  },
  {
   "cell_type": "code",
   "execution_count": 5,
   "metadata": {
    "colab": {
     "base_uri": "https://localhost:8080/"
    },
    "id": "hR1kZT1uaC5t",
    "outputId": "0fc0344d-54d3-4772-f7c3-4c8621728006"
   },
   "outputs": [
    {
     "name": "stdout",
     "output_type": "stream",
     "text": [
      "total label nums =  43\n",
      "=================================================\n",
      "['00012', '00020', '00006', '00009', '00007', '00016', '00021', '00027', '00039', '00004', '00028', '00026', '00017', '00034', '00038', '00014', '00035', '00029', '00008', '00013', '00000', '00033', '00025', '00037', '00022', '00011', '00015', '00001', '00005', '00042', '00002', '00003', '00023', '00031', '00019', '00024', '00032', '00041', '00010', '00018', '00036', '00030', '00040']\n"
     ]
    }
   ],
   "source": [
    "# 데이터 전체 개수 확인\n",
    "\n",
    "import os\n",
    "import glob\n",
    "\n",
    "# 데이터 정답 (label) 개수 및 종류 확인\n",
    "\n",
    "label_name_list = os.listdir('/content/GTSRB_Final_Training_Images/GTSRB/Final_Training/Images/')\n",
    "\n",
    "print('total label nums = ', len(label_name_list))\n",
    "print('=================================================')\n",
    "print(label_name_list)"
   ]
  },
  {
   "cell_type": "markdown",
   "metadata": {
    "id": "UJn1-6zhcbH9"
   },
   "source": [
    "먼저 /content/GTSRB/train, /content/GTSRB/test 생성"
   ]
  },
  {
   "cell_type": "code",
   "execution_count": 6,
   "metadata": {
    "colab": {
     "base_uri": "https://localhost:8080/"
    },
    "id": "lprX0QnjaC93",
    "outputId": "fbac158f-1d65-4a23-e522-d931cf5c2a49"
   },
   "outputs": [
    {
     "name": "stdout",
     "output_type": "stream",
     "text": [
      "GTSRB dir is created !!\n",
      "GTSRB/train dir is created !!\n",
      "GTSRB/test dir is created !!\n"
     ]
    }
   ],
   "source": [
    "import os\n",
    "\n",
    "# GTSTB 디렉토리 생성\n",
    "\n",
    "if not os.path.exists('/content/GTSRB/'):\n",
    "\n",
    "    os.mkdir('/content/GTSRB/')\n",
    "    print('GTSRB dir is created !!')\n",
    "\n",
    "# train 디렉토리 생성\n",
    "\n",
    "if not os.path.exists('/content/GTSRB/train/'):\n",
    "\n",
    "    os.mkdir('/content/GTSRB/train/')\n",
    "    print('GTSRB/train dir is created !!')\n",
    "\n",
    "# test 디렉토리 생성\n",
    "\n",
    "if not os.path.exists('/content/GTSRB/test/'):\n",
    "\n",
    "    os.mkdir('/content/GTSRB/test/')\n",
    "    print('GTSRB/test dir is created !!')"
   ]
  },
  {
   "cell_type": "markdown",
   "metadata": {
    "id": "_mxHi_Pnd2MZ"
   },
   "source": [
    "이미지 데이터를 먼저 train 디렉토리로 복사함"
   ]
  },
  {
   "cell_type": "code",
   "execution_count": 7,
   "metadata": {
    "colab": {
     "base_uri": "https://localhost:8080/"
    },
    "id": "tV7Dj4ZneDWZ",
    "outputId": "6a153127-95ed-4d3b-fd59-e070e63d23ba"
   },
   "outputs": [
    {
     "name": "stdout",
     "output_type": "stream",
     "text": [
      "/content/GTSRB/train/00012 is created !!\n",
      "/content/GTSRB/train/00020 is created !!\n",
      "/content/GTSRB/train/00006 is created !!\n",
      "/content/GTSRB/train/00009 is created !!\n",
      "/content/GTSRB/train/00007 is created !!\n",
      "/content/GTSRB/train/00016 is created !!\n",
      "/content/GTSRB/train/00021 is created !!\n",
      "/content/GTSRB/train/00027 is created !!\n",
      "/content/GTSRB/train/00039 is created !!\n",
      "/content/GTSRB/train/00004 is created !!\n",
      "/content/GTSRB/train/00028 is created !!\n",
      "/content/GTSRB/train/00026 is created !!\n",
      "/content/GTSRB/train/00017 is created !!\n",
      "/content/GTSRB/train/00034 is created !!\n",
      "/content/GTSRB/train/00038 is created !!\n",
      "/content/GTSRB/train/00014 is created !!\n",
      "/content/GTSRB/train/00035 is created !!\n",
      "/content/GTSRB/train/00029 is created !!\n",
      "/content/GTSRB/train/00008 is created !!\n",
      "/content/GTSRB/train/00013 is created !!\n",
      "/content/GTSRB/train/00000 is created !!\n",
      "/content/GTSRB/train/00033 is created !!\n",
      "/content/GTSRB/train/00025 is created !!\n",
      "/content/GTSRB/train/00037 is created !!\n",
      "/content/GTSRB/train/00022 is created !!\n",
      "/content/GTSRB/train/00011 is created !!\n",
      "/content/GTSRB/train/00015 is created !!\n",
      "/content/GTSRB/train/00001 is created !!\n",
      "/content/GTSRB/train/00005 is created !!\n",
      "/content/GTSRB/train/00042 is created !!\n",
      "/content/GTSRB/train/00002 is created !!\n",
      "/content/GTSRB/train/00003 is created !!\n",
      "/content/GTSRB/train/00023 is created !!\n",
      "/content/GTSRB/train/00031 is created !!\n",
      "/content/GTSRB/train/00019 is created !!\n",
      "/content/GTSRB/train/00024 is created !!\n",
      "/content/GTSRB/train/00032 is created !!\n",
      "/content/GTSRB/train/00041 is created !!\n",
      "/content/GTSRB/train/00010 is created !!\n",
      "/content/GTSRB/train/00018 is created !!\n",
      "/content/GTSRB/train/00036 is created !!\n",
      "/content/GTSRB/train/00030 is created !!\n",
      "/content/GTSRB/train/00040 is created !!\n",
      "43 43\n",
      "========================================================================\n",
      "total [00012] image file nums => [2101]\n",
      "total copy nums =>  2101\n",
      "========================================================================\n",
      "========================================================================\n",
      "total [00020] image file nums => [361]\n",
      "total copy nums =>  361\n",
      "========================================================================\n",
      "========================================================================\n",
      "total [00006] image file nums => [421]\n",
      "total copy nums =>  421\n",
      "========================================================================\n",
      "========================================================================\n",
      "total [00009] image file nums => [1471]\n",
      "total copy nums =>  1471\n",
      "========================================================================\n",
      "========================================================================\n",
      "total [00007] image file nums => [1441]\n",
      "total copy nums =>  1441\n",
      "========================================================================\n",
      "========================================================================\n",
      "total [00016] image file nums => [421]\n",
      "total copy nums =>  421\n",
      "========================================================================\n",
      "========================================================================\n",
      "total [00021] image file nums => [331]\n",
      "total copy nums =>  331\n",
      "========================================================================\n",
      "========================================================================\n",
      "total [00027] image file nums => [241]\n",
      "total copy nums =>  241\n",
      "========================================================================\n",
      "========================================================================\n",
      "total [00039] image file nums => [301]\n",
      "total copy nums =>  301\n",
      "========================================================================\n",
      "========================================================================\n",
      "total [00004] image file nums => [1981]\n",
      "total copy nums =>  1981\n",
      "========================================================================\n",
      "========================================================================\n",
      "total [00028] image file nums => [541]\n",
      "total copy nums =>  541\n",
      "========================================================================\n",
      "========================================================================\n",
      "total [00026] image file nums => [601]\n",
      "total copy nums =>  601\n",
      "========================================================================\n",
      "========================================================================\n",
      "total [00017] image file nums => [1111]\n",
      "total copy nums =>  1111\n",
      "========================================================================\n",
      "========================================================================\n",
      "total [00034] image file nums => [421]\n",
      "total copy nums =>  421\n",
      "========================================================================\n",
      "========================================================================\n",
      "total [00038] image file nums => [2071]\n",
      "total copy nums =>  2071\n",
      "========================================================================\n",
      "========================================================================\n",
      "total [00014] image file nums => [781]\n",
      "total copy nums =>  781\n",
      "========================================================================\n",
      "========================================================================\n",
      "total [00035] image file nums => [1201]\n",
      "total copy nums =>  1201\n",
      "========================================================================\n",
      "========================================================================\n",
      "total [00029] image file nums => [271]\n",
      "total copy nums =>  271\n",
      "========================================================================\n",
      "========================================================================\n",
      "total [00008] image file nums => [1411]\n",
      "total copy nums =>  1411\n",
      "========================================================================\n",
      "========================================================================\n",
      "total [00013] image file nums => [2161]\n",
      "total copy nums =>  2161\n",
      "========================================================================\n",
      "========================================================================\n",
      "total [00000] image file nums => [211]\n",
      "total copy nums =>  211\n",
      "========================================================================\n",
      "========================================================================\n",
      "total [00033] image file nums => [690]\n",
      "total copy nums =>  690\n",
      "========================================================================\n",
      "========================================================================\n",
      "total [00025] image file nums => [1501]\n",
      "total copy nums =>  1501\n",
      "========================================================================\n",
      "========================================================================\n",
      "total [00037] image file nums => [211]\n",
      "total copy nums =>  211\n",
      "========================================================================\n",
      "========================================================================\n",
      "total [00022] image file nums => [391]\n",
      "total copy nums =>  391\n",
      "========================================================================\n",
      "========================================================================\n",
      "total [00011] image file nums => [1321]\n",
      "total copy nums =>  1321\n",
      "========================================================================\n",
      "========================================================================\n",
      "total [00015] image file nums => [631]\n",
      "total copy nums =>  631\n",
      "========================================================================\n",
      "========================================================================\n",
      "total [00001] image file nums => [2221]\n",
      "total copy nums =>  2221\n",
      "========================================================================\n",
      "========================================================================\n",
      "total [00005] image file nums => [1861]\n",
      "total copy nums =>  1861\n",
      "========================================================================\n",
      "========================================================================\n",
      "total [00042] image file nums => [241]\n",
      "total copy nums =>  241\n",
      "========================================================================\n",
      "========================================================================\n",
      "total [00002] image file nums => [2251]\n",
      "total copy nums =>  2251\n",
      "========================================================================\n",
      "========================================================================\n",
      "total [00003] image file nums => [1411]\n",
      "total copy nums =>  1411\n",
      "========================================================================\n",
      "========================================================================\n",
      "total [00023] image file nums => [511]\n",
      "total copy nums =>  511\n",
      "========================================================================\n",
      "========================================================================\n",
      "total [00031] image file nums => [781]\n",
      "total copy nums =>  781\n",
      "========================================================================\n",
      "========================================================================\n",
      "total [00019] image file nums => [211]\n",
      "total copy nums =>  211\n",
      "========================================================================\n",
      "========================================================================\n",
      "total [00024] image file nums => [271]\n",
      "total copy nums =>  271\n",
      "========================================================================\n",
      "========================================================================\n",
      "total [00032] image file nums => [241]\n",
      "total copy nums =>  241\n",
      "========================================================================\n",
      "========================================================================\n",
      "total [00041] image file nums => [241]\n",
      "total copy nums =>  241\n",
      "========================================================================\n",
      "========================================================================\n",
      "total [00010] image file nums => [2011]\n",
      "total copy nums =>  2011\n",
      "========================================================================\n",
      "========================================================================\n",
      "total [00018] image file nums => [1201]\n",
      "total copy nums =>  1201\n",
      "========================================================================\n",
      "========================================================================\n",
      "total [00036] image file nums => [391]\n",
      "total copy nums =>  391\n",
      "========================================================================\n",
      "========================================================================\n",
      "total [00030] image file nums => [451]\n",
      "total copy nums =>  451\n",
      "========================================================================\n",
      "========================================================================\n",
      "total [00040] image file nums => [361]\n",
      "total copy nums =>  361\n",
      "========================================================================\n"
     ]
    }
   ],
   "source": [
    "import shutil\n",
    "import os\n",
    "import glob\n",
    "\n",
    "src_root_dir = '/content//GTSRB_Final_Training_Images/GTSRB/Final_Training/Images/'\n",
    "dst_root_dir = '/content/GTSRB/train/'\n",
    "\n",
    "# train 디렉토리에 먼저 label 디렉토리 생성함\n",
    "\n",
    "label_name_list = os.listdir('/content//GTSRB_Final_Training_Images/GTSRB/Final_Training/Images/')\n",
    "\n",
    "count = 0\n",
    "\n",
    "for label_name in label_name_list:\n",
    "\n",
    "    dst_label_name_dir = dst_root_dir + label_name\n",
    "\n",
    "    if not os.path.exists(dst_label_name_dir):\n",
    "        os.mkdir(dst_label_name_dir)\n",
    "        print(dst_label_name_dir + ' is created !!')\n",
    "        count = count + 1\n",
    "\n",
    "print(len(label_name_list), count)\n",
    "\n",
    "# 원본 데이터 보존을 위해 파일 복사 src dir => dst dir\n",
    "\n",
    "for label_name in label_name_list:\n",
    "\n",
    "    image_file_list = glob.glob(src_root_dir+label_name+'/*')\n",
    "\n",
    "    print('========================================================================')\n",
    "    print('total [%s] image file nums => [%s]' % (label_name ,len(image_file_list)))\n",
    "\n",
    "    copy_nums = 0\n",
    "\n",
    "    for image_file in image_file_list:\n",
    "\n",
    "        shutil.copy(image_file, dst_root_dir+label_name)\n",
    "\n",
    "        copy_nums = copy_nums + 1\n",
    "\n",
    "    print('total copy nums => ', copy_nums)\n",
    "    print('========================================================================')"
   ]
  },
  {
   "cell_type": "markdown",
   "metadata": {
    "id": "qKf-B7wpkTfN"
   },
   "source": [
    "train 데이터에서 test 데이터를 분리함. 분리비율 8 : 2"
   ]
  },
  {
   "cell_type": "code",
   "execution_count": 8,
   "metadata": {
    "colab": {
     "base_uri": "https://localhost:8080/"
    },
    "id": "8aWwfYeshlPx",
    "outputId": "c4dfc543-c817-47b4-ed36-4ff72243fc37"
   },
   "outputs": [
    {
     "name": "stdout",
     "output_type": "stream",
     "text": [
      "/content/GTSRB/test/00012 is created !!\n",
      "/content/GTSRB/test/00020 is created !!\n",
      "/content/GTSRB/test/00006 is created !!\n",
      "/content/GTSRB/test/00009 is created !!\n",
      "/content/GTSRB/test/00007 is created !!\n",
      "/content/GTSRB/test/00016 is created !!\n",
      "/content/GTSRB/test/00021 is created !!\n",
      "/content/GTSRB/test/00027 is created !!\n",
      "/content/GTSRB/test/00039 is created !!\n",
      "/content/GTSRB/test/00004 is created !!\n",
      "/content/GTSRB/test/00028 is created !!\n",
      "/content/GTSRB/test/00026 is created !!\n",
      "/content/GTSRB/test/00017 is created !!\n",
      "/content/GTSRB/test/00034 is created !!\n",
      "/content/GTSRB/test/00038 is created !!\n",
      "/content/GTSRB/test/00014 is created !!\n",
      "/content/GTSRB/test/00035 is created !!\n",
      "/content/GTSRB/test/00029 is created !!\n",
      "/content/GTSRB/test/00008 is created !!\n",
      "/content/GTSRB/test/00013 is created !!\n",
      "/content/GTSRB/test/00000 is created !!\n",
      "/content/GTSRB/test/00033 is created !!\n",
      "/content/GTSRB/test/00025 is created !!\n",
      "/content/GTSRB/test/00037 is created !!\n",
      "/content/GTSRB/test/00022 is created !!\n",
      "/content/GTSRB/test/00011 is created !!\n",
      "/content/GTSRB/test/00015 is created !!\n",
      "/content/GTSRB/test/00001 is created !!\n",
      "/content/GTSRB/test/00005 is created !!\n",
      "/content/GTSRB/test/00042 is created !!\n",
      "/content/GTSRB/test/00002 is created !!\n",
      "/content/GTSRB/test/00003 is created !!\n",
      "/content/GTSRB/test/00023 is created !!\n",
      "/content/GTSRB/test/00031 is created !!\n",
      "/content/GTSRB/test/00019 is created !!\n",
      "/content/GTSRB/test/00024 is created !!\n",
      "/content/GTSRB/test/00032 is created !!\n",
      "/content/GTSRB/test/00041 is created !!\n",
      "/content/GTSRB/test/00010 is created !!\n",
      "/content/GTSRB/test/00018 is created !!\n",
      "/content/GTSRB/test/00036 is created !!\n",
      "/content/GTSRB/test/00030 is created !!\n",
      "/content/GTSRB/test/00040 is created !!\n",
      "43 43\n",
      "========================================================================\n",
      "total [00012] image file nums => [2101]\n",
      "split nums =>  420\n",
      "total move nums =>  420\n",
      "========================================================================\n",
      "========================================================================\n",
      "total [00020] image file nums => [361]\n",
      "split nums =>  72\n",
      "total move nums =>  72\n",
      "========================================================================\n",
      "========================================================================\n",
      "total [00006] image file nums => [421]\n",
      "split nums =>  84\n",
      "total move nums =>  84\n",
      "========================================================================\n",
      "========================================================================\n",
      "total [00009] image file nums => [1471]\n",
      "split nums =>  294\n",
      "total move nums =>  294\n",
      "========================================================================\n",
      "========================================================================\n",
      "total [00007] image file nums => [1441]\n",
      "split nums =>  288\n",
      "total move nums =>  288\n",
      "========================================================================\n",
      "========================================================================\n",
      "total [00016] image file nums => [421]\n",
      "split nums =>  84\n",
      "total move nums =>  84\n",
      "========================================================================\n",
      "========================================================================\n",
      "total [00021] image file nums => [331]\n",
      "split nums =>  66\n",
      "total move nums =>  66\n",
      "========================================================================\n",
      "========================================================================\n",
      "total [00027] image file nums => [241]\n",
      "split nums =>  48\n",
      "total move nums =>  48\n",
      "========================================================================\n",
      "========================================================================\n",
      "total [00039] image file nums => [301]\n",
      "split nums =>  60\n",
      "total move nums =>  60\n",
      "========================================================================\n",
      "========================================================================\n",
      "total [00004] image file nums => [1981]\n",
      "split nums =>  396\n",
      "total move nums =>  396\n",
      "========================================================================\n",
      "========================================================================\n",
      "total [00028] image file nums => [541]\n",
      "split nums =>  108\n",
      "total move nums =>  108\n",
      "========================================================================\n",
      "========================================================================\n",
      "total [00026] image file nums => [601]\n",
      "split nums =>  120\n",
      "total move nums =>  120\n",
      "========================================================================\n",
      "========================================================================\n",
      "total [00017] image file nums => [1111]\n",
      "split nums =>  222\n",
      "total move nums =>  222\n",
      "========================================================================\n",
      "========================================================================\n",
      "total [00034] image file nums => [421]\n",
      "split nums =>  84\n",
      "total move nums =>  84\n",
      "========================================================================\n",
      "========================================================================\n",
      "total [00038] image file nums => [2071]\n",
      "split nums =>  414\n",
      "total move nums =>  414\n",
      "========================================================================\n",
      "========================================================================\n",
      "total [00014] image file nums => [781]\n",
      "split nums =>  156\n",
      "total move nums =>  156\n",
      "========================================================================\n",
      "========================================================================\n",
      "total [00035] image file nums => [1201]\n",
      "split nums =>  240\n",
      "total move nums =>  240\n",
      "========================================================================\n",
      "========================================================================\n",
      "total [00029] image file nums => [271]\n",
      "split nums =>  54\n",
      "total move nums =>  54\n",
      "========================================================================\n",
      "========================================================================\n",
      "total [00008] image file nums => [1411]\n",
      "split nums =>  282\n",
      "total move nums =>  282\n",
      "========================================================================\n",
      "========================================================================\n",
      "total [00013] image file nums => [2161]\n",
      "split nums =>  432\n",
      "total move nums =>  432\n",
      "========================================================================\n",
      "========================================================================\n",
      "total [00000] image file nums => [211]\n",
      "split nums =>  42\n",
      "total move nums =>  42\n",
      "========================================================================\n",
      "========================================================================\n",
      "total [00033] image file nums => [690]\n",
      "split nums =>  138\n",
      "total move nums =>  138\n",
      "========================================================================\n",
      "========================================================================\n",
      "total [00025] image file nums => [1501]\n",
      "split nums =>  300\n",
      "total move nums =>  300\n",
      "========================================================================\n",
      "========================================================================\n",
      "total [00037] image file nums => [211]\n",
      "split nums =>  42\n",
      "total move nums =>  42\n",
      "========================================================================\n",
      "========================================================================\n",
      "total [00022] image file nums => [391]\n",
      "split nums =>  78\n",
      "total move nums =>  78\n",
      "========================================================================\n",
      "========================================================================\n",
      "total [00011] image file nums => [1321]\n",
      "split nums =>  264\n",
      "total move nums =>  264\n",
      "========================================================================\n",
      "========================================================================\n",
      "total [00015] image file nums => [631]\n",
      "split nums =>  126\n",
      "total move nums =>  126\n",
      "========================================================================\n",
      "========================================================================\n",
      "total [00001] image file nums => [2221]\n",
      "split nums =>  444\n",
      "total move nums =>  444\n",
      "========================================================================\n",
      "========================================================================\n",
      "total [00005] image file nums => [1861]\n",
      "split nums =>  372\n",
      "total move nums =>  372\n",
      "========================================================================\n",
      "========================================================================\n",
      "total [00042] image file nums => [241]\n",
      "split nums =>  48\n",
      "total move nums =>  48\n",
      "========================================================================\n",
      "========================================================================\n",
      "total [00002] image file nums => [2251]\n",
      "split nums =>  450\n",
      "total move nums =>  450\n",
      "========================================================================\n",
      "========================================================================\n",
      "total [00003] image file nums => [1411]\n",
      "split nums =>  282\n",
      "total move nums =>  282\n",
      "========================================================================\n",
      "========================================================================\n",
      "total [00023] image file nums => [511]\n",
      "split nums =>  102\n",
      "total move nums =>  102\n",
      "========================================================================\n",
      "========================================================================\n",
      "total [00031] image file nums => [781]\n",
      "split nums =>  156\n",
      "total move nums =>  156\n",
      "========================================================================\n",
      "========================================================================\n",
      "total [00019] image file nums => [211]\n",
      "split nums =>  42\n",
      "total move nums =>  42\n",
      "========================================================================\n",
      "========================================================================\n",
      "total [00024] image file nums => [271]\n",
      "split nums =>  54\n",
      "total move nums =>  54\n",
      "========================================================================\n",
      "========================================================================\n",
      "total [00032] image file nums => [241]\n",
      "split nums =>  48\n",
      "total move nums =>  48\n",
      "========================================================================\n",
      "========================================================================\n",
      "total [00041] image file nums => [241]\n",
      "split nums =>  48\n",
      "total move nums =>  48\n",
      "========================================================================\n",
      "========================================================================\n",
      "total [00010] image file nums => [2011]\n",
      "split nums =>  402\n",
      "total move nums =>  402\n",
      "========================================================================\n",
      "========================================================================\n",
      "total [00018] image file nums => [1201]\n",
      "split nums =>  240\n",
      "total move nums =>  240\n",
      "========================================================================\n",
      "========================================================================\n",
      "total [00036] image file nums => [391]\n",
      "split nums =>  78\n",
      "total move nums =>  78\n",
      "========================================================================\n",
      "========================================================================\n",
      "total [00030] image file nums => [451]\n",
      "split nums =>  90\n",
      "total move nums =>  90\n",
      "========================================================================\n",
      "========================================================================\n",
      "total [00040] image file nums => [361]\n",
      "split nums =>  72\n",
      "total move nums =>  72\n",
      "========================================================================\n"
     ]
    }
   ],
   "source": [
    "import os\n",
    "import glob\n",
    "import shutil\n",
    "import random\n",
    "\n",
    "# 분리 비율\n",
    "ratio = 0.2    # train : test = 8 : 2\n",
    "\n",
    "\n",
    "src_root_dir = '/content/GTSRB/train/'\n",
    "dst_root_dir = '/content/GTSRB/test/'\n",
    "\n",
    "# train 디렉토리에 먼저 label 디렉토리 생성함\n",
    "\n",
    "label_name_list = os.listdir(src_root_dir)\n",
    "\n",
    "count = 0\n",
    "\n",
    "for label_name in label_name_list:\n",
    "\n",
    "    dst_label_name_dir = dst_root_dir + label_name\n",
    "\n",
    "    if not os.path.exists(dst_label_name_dir):\n",
    "        os.mkdir(dst_label_name_dir)\n",
    "        print(dst_label_name_dir + ' is created !!')\n",
    "        count = count + 1\n",
    "\n",
    "print(len(label_name_list), count)\n",
    "\n",
    "# 파일 move src dir => dst dir\n",
    "\n",
    "for label_name in label_name_list:\n",
    "\n",
    "    train_image_file_list = glob.glob(src_root_dir+label_name+'/*')\n",
    "\n",
    "    print('========================================================================')\n",
    "    print('total [%s] image file nums => [%s]' % (label_name ,len(train_image_file_list)))\n",
    "\n",
    "    # data shuffle\n",
    "    split_num = int(ratio*len(train_image_file_list))\n",
    "\n",
    "    print('split nums => ', split_num)\n",
    "\n",
    "    # extract test data from train data\n",
    "    test_image_file_list = train_image_file_list[0:split_num]\n",
    "\n",
    "    move_nums = 0\n",
    "\n",
    "    for image_file in test_image_file_list:\n",
    "\n",
    "        shutil.move(image_file, dst_root_dir+label_name)    # move \n",
    "\n",
    "        move_nums = move_nums + 1\n",
    "\n",
    "    print('total move nums => ', move_nums)\n",
    "    print('========================================================================')"
   ]
  },
  {
   "cell_type": "code",
   "execution_count": 9,
   "metadata": {
    "colab": {
     "base_uri": "https://localhost:8080/"
    },
    "id": "U8bswoIYmUiL",
    "outputId": "a2268486-187c-4b38-81ad-40bfb6ee145d"
   },
   "outputs": [
    {
     "name": "stdout",
     "output_type": "stream",
     "text": [
      "43 43\n",
      "train =>  00000 169  , test =>  00000 42\n",
      "=======================================================\n",
      "train =>  00001 1777  , test =>  00001 444\n",
      "=======================================================\n",
      "train =>  00002 1801  , test =>  00002 450\n",
      "=======================================================\n",
      "train =>  00003 1129  , test =>  00003 282\n",
      "=======================================================\n",
      "train =>  00004 1585  , test =>  00004 396\n",
      "=======================================================\n",
      "train =>  00005 1489  , test =>  00005 372\n",
      "=======================================================\n",
      "train =>  00006 337  , test =>  00006 84\n",
      "=======================================================\n",
      "train =>  00007 1153  , test =>  00007 288\n",
      "=======================================================\n",
      "train =>  00008 1129  , test =>  00008 282\n",
      "=======================================================\n",
      "train =>  00009 1177  , test =>  00009 294\n",
      "=======================================================\n",
      "train =>  00010 1609  , test =>  00010 402\n",
      "=======================================================\n",
      "train =>  00011 1057  , test =>  00011 264\n",
      "=======================================================\n",
      "train =>  00012 1681  , test =>  00012 420\n",
      "=======================================================\n",
      "train =>  00013 1729  , test =>  00013 432\n",
      "=======================================================\n",
      "train =>  00014 625  , test =>  00014 156\n",
      "=======================================================\n",
      "train =>  00015 505  , test =>  00015 126\n",
      "=======================================================\n",
      "train =>  00016 337  , test =>  00016 84\n",
      "=======================================================\n",
      "train =>  00017 889  , test =>  00017 222\n",
      "=======================================================\n",
      "train =>  00018 961  , test =>  00018 240\n",
      "=======================================================\n",
      "train =>  00019 169  , test =>  00019 42\n",
      "=======================================================\n",
      "train =>  00020 289  , test =>  00020 72\n",
      "=======================================================\n",
      "train =>  00021 265  , test =>  00021 66\n",
      "=======================================================\n",
      "train =>  00022 313  , test =>  00022 78\n",
      "=======================================================\n",
      "train =>  00023 409  , test =>  00023 102\n",
      "=======================================================\n",
      "train =>  00024 217  , test =>  00024 54\n",
      "=======================================================\n",
      "train =>  00025 1201  , test =>  00025 300\n",
      "=======================================================\n",
      "train =>  00026 481  , test =>  00026 120\n",
      "=======================================================\n",
      "train =>  00027 193  , test =>  00027 48\n",
      "=======================================================\n",
      "train =>  00028 433  , test =>  00028 108\n",
      "=======================================================\n",
      "train =>  00029 217  , test =>  00029 54\n",
      "=======================================================\n",
      "train =>  00030 361  , test =>  00030 90\n",
      "=======================================================\n",
      "train =>  00031 625  , test =>  00031 156\n",
      "=======================================================\n",
      "train =>  00032 193  , test =>  00032 48\n",
      "=======================================================\n",
      "train =>  00033 552  , test =>  00033 138\n",
      "=======================================================\n",
      "train =>  00034 337  , test =>  00034 84\n",
      "=======================================================\n",
      "train =>  00035 961  , test =>  00035 240\n",
      "=======================================================\n",
      "train =>  00036 313  , test =>  00036 78\n",
      "=======================================================\n",
      "train =>  00037 169  , test =>  00037 42\n",
      "=======================================================\n",
      "train =>  00038 1657  , test =>  00038 414\n",
      "=======================================================\n",
      "train =>  00039 241  , test =>  00039 60\n",
      "=======================================================\n",
      "train =>  00040 289  , test =>  00040 72\n",
      "=======================================================\n",
      "train =>  00041 193  , test =>  00041 48\n",
      "=======================================================\n",
      "train =>  00042 193  , test =>  00042 48\n",
      "=======================================================\n"
     ]
    }
   ],
   "source": [
    "# train : test 데이터 비율 확인\n",
    "\n",
    "src_root_dir = '/content/GTSRB/train/'\n",
    "dst_root_dir = '/content/GTSRB/test/'\n",
    "\n",
    "train_label_name_list = os.listdir(src_root_dir)\n",
    "test_label_name_list = os.listdir(src_root_dir)\n",
    "\n",
    "train_label_name_list.sort()\n",
    "test_label_name_list.sort()\n",
    "\n",
    "if train_label_name_list != test_label_name_list:\n",
    "    print('fatal error !!!!')\n",
    "else:\n",
    "    print(len(train_label_name_list), len(test_label_name_list))\n",
    "\n",
    "# 데이터 개수 확인\n",
    "\n",
    "for label_name in train_label_name_list:\n",
    "\n",
    "    train_data_nums = len(os.listdir(src_root_dir+label_name))\n",
    "    test_data_nums = len(os.listdir(dst_root_dir+label_name))\n",
    "\n",
    "    print('train => ', label_name, train_data_nums, ' , test => ', label_name, test_data_nums)\n",
    "    print('=======================================================')"
   ]
  },
  {
   "cell_type": "markdown",
   "metadata": {
    "id": "OUNuCTyCj-m6"
   },
   "source": [
    "ImageDatagenerator 생성"
   ]
  },
  {
   "cell_type": "code",
   "execution_count": 10,
   "metadata": {
    "id": "tNzA0-OjkCCV"
   },
   "outputs": [],
   "source": [
    "IMG_WIDTH = 32\n",
    "IMG_HEIGHT = 32"
   ]
  },
  {
   "cell_type": "code",
   "execution_count": 11,
   "metadata": {
    "id": "bbF9CYD_kKHQ"
   },
   "outputs": [],
   "source": [
    "# ImageDataGenerator 이용하여 데이터 불러옴\n",
    "\n",
    "train_data_gen = ImageDataGenerator(rescale=1./255, \n",
    "                                    rotation_range=10, \n",
    "                                    width_shift_range=0.2, \n",
    "                                    height_shift_range=0.2, \n",
    "                                    shear_range=0.2,\n",
    "                                    zoom_range=0.2)\n",
    "\n",
    "test_data_gen = ImageDataGenerator(rescale=1./255)"
   ]
  },
  {
   "cell_type": "code",
   "execution_count": 13,
   "metadata": {
    "id": "5cn8pgfemMQw"
   },
   "outputs": [],
   "source": [
    "train_dir = '/content/GTSRB/train/'\n",
    "test_dir = '/content/GTSRB/test/'"
   ]
  },
  {
   "cell_type": "code",
   "execution_count": 14,
   "metadata": {
    "colab": {
     "base_uri": "https://localhost:8080/"
    },
    "id": "N5RAHWA8kCJt",
    "outputId": "43a41874-27fe-4ce2-cbdb-8a4f492d59e3"
   },
   "outputs": [
    {
     "name": "stdout",
     "output_type": "stream",
     "text": [
      "Found 31375 images belonging to 43 classes.\n",
      "Found 7834 images belonging to 43 classes.\n"
     ]
    }
   ],
   "source": [
    "train_data = train_data_gen.flow_from_directory(train_dir, batch_size=16, \n",
    "                                                color_mode='rgb', class_mode='sparse',\n",
    "                                                target_size=(IMG_WIDTH,IMG_HEIGHT))\n",
    "\n",
    "\n",
    "test_data = test_data_gen.flow_from_directory(test_dir, batch_size=16, \n",
    "                                              color_mode='rgb', class_mode='sparse',\n",
    "                                              target_size=(IMG_WIDTH,IMG_HEIGHT))"
   ]
  },
  {
   "cell_type": "code",
   "execution_count": 15,
   "metadata": {
    "colab": {
     "base_uri": "https://localhost:8080/"
    },
    "id": "-IRt41UZ-8Em",
    "outputId": "8a981063-dffc-4dc3-93f4-c2be7c3077fd"
   },
   "outputs": [
    {
     "name": "stdout",
     "output_type": "stream",
     "text": [
      "dict_items([('00000', 0), ('00001', 1), ('00002', 2), ('00003', 3), ('00004', 4), ('00005', 5), ('00006', 6), ('00007', 7), ('00008', 8), ('00009', 9), ('00010', 10), ('00011', 11), ('00012', 12), ('00013', 13), ('00014', 14), ('00015', 15), ('00016', 16), ('00017', 17), ('00018', 18), ('00019', 19), ('00020', 20), ('00021', 21), ('00022', 22), ('00023', 23), ('00024', 24), ('00025', 25), ('00026', 26), ('00027', 27), ('00028', 28), ('00029', 29), ('00030', 30), ('00031', 31), ('00032', 32), ('00033', 33), ('00034', 34), ('00035', 35), ('00036', 36), ('00037', 37), ('00038', 38), ('00039', 39), ('00040', 40), ('00041', 41), ('00042', 42)])\n",
      "dict_items([('00000', 0), ('00001', 1), ('00002', 2), ('00003', 3), ('00004', 4), ('00005', 5), ('00006', 6), ('00007', 7), ('00008', 8), ('00009', 9), ('00010', 10), ('00011', 11), ('00012', 12), ('00013', 13), ('00014', 14), ('00015', 15), ('00016', 16), ('00017', 17), ('00018', 18), ('00019', 19), ('00020', 20), ('00021', 21), ('00022', 22), ('00023', 23), ('00024', 24), ('00025', 25), ('00026', 26), ('00027', 27), ('00028', 28), ('00029', 29), ('00030', 30), ('00031', 31), ('00032', 32), ('00033', 33), ('00034', 34), ('00035', 35), ('00036', 36), ('00037', 37), ('00038', 38), ('00039', 39), ('00040', 40), ('00041', 41), ('00042', 42)])\n",
      "31375\n",
      "7834\n",
      "43\n",
      "43\n"
     ]
    }
   ],
   "source": [
    "# 정답 확인\n",
    "\n",
    "print(train_data.class_indices.items())\n",
    "print(test_data.class_indices.items())\n",
    "\n",
    "print(len(train_data.classes))\n",
    "print(len(test_data.classes))\n",
    "\n",
    "print(train_data.num_classes)\n",
    "print(test_data.num_classes)"
   ]
  },
  {
   "cell_type": "markdown",
   "metadata": {
    "id": "YOscWaGQ_Ttt"
   },
   "source": [
    "Transfer Learning base 모델 구축"
   ]
  },
  {
   "cell_type": "code",
   "execution_count": 16,
   "metadata": {
    "colab": {
     "base_uri": "https://localhost:8080/"
    },
    "id": "6rRieP1wUD63",
    "outputId": "99d56054-9660-4a0f-9fb2-c87828848146"
   },
   "outputs": [
    {
     "name": "stdout",
     "output_type": "stream",
     "text": [
      "WARNING:tensorflow:`input_shape` is undefined or non-square, or `rows` is not in [128, 160, 192, 224]. Weights for input shape (224, 224) will be loaded as the default.\n",
      "Downloading data from https://storage.googleapis.com/tensorflow/keras-applications/mobilenet/mobilenet_1_0_224_tf_no_top.h5\n",
      "17227776/17225924 [==============================] - 0s 0us/step\n",
      "17235968/17225924 [==============================] - 0s 0us/step\n"
     ]
    }
   ],
   "source": [
    "base_model = MobileNet(weights='imagenet', include_top=False, input_shape=(IMG_WIDTH,IMG_HEIGHT,3))"
   ]
  },
  {
   "cell_type": "code",
   "execution_count": 17,
   "metadata": {
    "colab": {
     "base_uri": "https://localhost:8080/"
    },
    "id": "ISOTB0okwnAc",
    "outputId": "87868ced-b092-4150-8303-bf13999e877e"
   },
   "outputs": [
    {
     "name": "stdout",
     "output_type": "stream",
     "text": [
      "Model: \"sequential\"\n",
      "_________________________________________________________________\n",
      "Layer (type)                 Output Shape              Param #   \n",
      "=================================================================\n",
      "mobilenet_1.00_224 (Function (None, 1, 1, 1024)        3228864   \n",
      "_________________________________________________________________\n",
      "flatten (Flatten)            (None, 1024)              0         \n",
      "_________________________________________________________________\n",
      "dense (Dense)                (None, 128)               131200    \n",
      "_________________________________________________________________\n",
      "dropout (Dropout)            (None, 128)               0         \n",
      "_________________________________________________________________\n",
      "dense_1 (Dense)              (None, 43)                5547      \n",
      "=================================================================\n",
      "Total params: 3,365,611\n",
      "Trainable params: 3,343,723\n",
      "Non-trainable params: 21,888\n",
      "_________________________________________________________________\n"
     ]
    }
   ],
   "source": [
    "n_classes = len(os.listdir('/content/GTSRB/train/'))  # 정답 개수\n",
    "\n",
    "model = Sequential()\n",
    "\n",
    "model.add(base_model)\n",
    "\n",
    "model.add(Flatten())\n",
    "\n",
    "model.add(Dense(128, activation='relu'))\n",
    "model.add(Dropout(0.5))\n",
    "model.add(Dense(n_classes, activation='softmax'))\n",
    "\n",
    "model.summary()"
   ]
  },
  {
   "cell_type": "code",
   "execution_count": 18,
   "metadata": {
    "id": "ndPGvLsXx0XF"
   },
   "outputs": [],
   "source": [
    "model.compile(loss='sparse_categorical_crossentropy',\n",
    "              optimizer=tf.keras.optimizers.Adam(2e-5), metrics=['accuracy'])"
   ]
  },
  {
   "cell_type": "code",
   "execution_count": 19,
   "metadata": {
    "colab": {
     "base_uri": "https://localhost:8080/"
    },
    "id": "Rsq5HiT5yEA_",
    "outputId": "f25b034f-0b42-420b-e2fa-00c732995f07"
   },
   "outputs": [
    {
     "name": "stdout",
     "output_type": "stream",
     "text": [
      "Epoch 1/50\n",
      "1961/1961 [==============================] - 100s 34ms/step - loss: 4.3331 - accuracy: 0.0697 - val_loss: 3.2614 - val_accuracy: 0.1647\n",
      "\n",
      "Epoch 00001: val_loss improved from inf to 3.26141, saving model to ./GTSRB_MobileNet_Colab.h5\n",
      "Epoch 2/50\n",
      "1961/1961 [==============================] - 66s 33ms/step - loss: 3.3827 - accuracy: 0.1459 - val_loss: 2.8919 - val_accuracy: 0.2494\n",
      "\n",
      "Epoch 00002: val_loss improved from 3.26141 to 2.89193, saving model to ./GTSRB_MobileNet_Colab.h5\n",
      "Epoch 3/50\n",
      "1961/1961 [==============================] - 66s 34ms/step - loss: 3.0346 - accuracy: 0.2148 - val_loss: 2.5182 - val_accuracy: 0.3277\n",
      "\n",
      "Epoch 00003: val_loss improved from 2.89193 to 2.51818, saving model to ./GTSRB_MobileNet_Colab.h5\n",
      "Epoch 4/50\n",
      "1961/1961 [==============================] - 66s 34ms/step - loss: 2.7609 - accuracy: 0.2716 - val_loss: 2.1881 - val_accuracy: 0.3951\n",
      "\n",
      "Epoch 00004: val_loss improved from 2.51818 to 2.18807, saving model to ./GTSRB_MobileNet_Colab.h5\n",
      "Epoch 5/50\n",
      "1961/1961 [==============================] - 66s 34ms/step - loss: 2.5248 - accuracy: 0.3201 - val_loss: 1.9310 - val_accuracy: 0.4627\n",
      "\n",
      "Epoch 00005: val_loss improved from 2.18807 to 1.93101, saving model to ./GTSRB_MobileNet_Colab.h5\n",
      "Epoch 6/50\n",
      "1961/1961 [==============================] - 66s 34ms/step - loss: 2.3228 - accuracy: 0.3618 - val_loss: 1.7150 - val_accuracy: 0.5028\n",
      "\n",
      "Epoch 00006: val_loss improved from 1.93101 to 1.71503, saving model to ./GTSRB_MobileNet_Colab.h5\n",
      "Epoch 7/50\n",
      "1961/1961 [==============================] - 66s 34ms/step - loss: 2.1363 - accuracy: 0.4044 - val_loss: 1.5350 - val_accuracy: 0.5513\n",
      "\n",
      "Epoch 00007: val_loss improved from 1.71503 to 1.53505, saving model to ./GTSRB_MobileNet_Colab.h5\n",
      "Epoch 8/50\n",
      "1961/1961 [==============================] - 66s 34ms/step - loss: 2.0060 - accuracy: 0.4299 - val_loss: 1.3934 - val_accuracy: 0.5845\n",
      "\n",
      "Epoch 00008: val_loss improved from 1.53505 to 1.39343, saving model to ./GTSRB_MobileNet_Colab.h5\n",
      "Epoch 9/50\n",
      "1961/1961 [==============================] - 66s 34ms/step - loss: 1.8789 - accuracy: 0.4555 - val_loss: 1.2619 - val_accuracy: 0.6109\n",
      "\n",
      "Epoch 00009: val_loss improved from 1.39343 to 1.26189, saving model to ./GTSRB_MobileNet_Colab.h5\n",
      "Epoch 10/50\n",
      "1961/1961 [==============================] - 66s 34ms/step - loss: 1.7547 - accuracy: 0.4853 - val_loss: 1.1458 - val_accuracy: 0.6371\n",
      "\n",
      "Epoch 00010: val_loss improved from 1.26189 to 1.14575, saving model to ./GTSRB_MobileNet_Colab.h5\n",
      "Epoch 11/50\n",
      "1961/1961 [==============================] - 66s 34ms/step - loss: 1.6647 - accuracy: 0.5044 - val_loss: 1.0561 - val_accuracy: 0.6670\n",
      "\n",
      "Epoch 00011: val_loss improved from 1.14575 to 1.05612, saving model to ./GTSRB_MobileNet_Colab.h5\n",
      "Epoch 12/50\n",
      "1961/1961 [==============================] - 66s 34ms/step - loss: 1.5661 - accuracy: 0.5341 - val_loss: 0.9630 - val_accuracy: 0.6979\n",
      "\n",
      "Epoch 00012: val_loss improved from 1.05612 to 0.96296, saving model to ./GTSRB_MobileNet_Colab.h5\n",
      "Epoch 13/50\n",
      "1961/1961 [==============================] - 67s 34ms/step - loss: 1.4639 - accuracy: 0.5562 - val_loss: 0.8665 - val_accuracy: 0.7270\n",
      "\n",
      "Epoch 00013: val_loss improved from 0.96296 to 0.86650, saving model to ./GTSRB_MobileNet_Colab.h5\n",
      "Epoch 14/50\n",
      "1961/1961 [==============================] - 66s 34ms/step - loss: 1.3937 - accuracy: 0.5775 - val_loss: 0.7975 - val_accuracy: 0.7476\n",
      "\n",
      "Epoch 00014: val_loss improved from 0.86650 to 0.79755, saving model to ./GTSRB_MobileNet_Colab.h5\n",
      "Epoch 15/50\n",
      "1961/1961 [==============================] - 66s 34ms/step - loss: 1.3049 - accuracy: 0.6047 - val_loss: 0.7231 - val_accuracy: 0.7723\n",
      "\n",
      "Epoch 00015: val_loss improved from 0.79755 to 0.72310, saving model to ./GTSRB_MobileNet_Colab.h5\n",
      "Epoch 16/50\n",
      "1961/1961 [==============================] - 67s 34ms/step - loss: 1.2475 - accuracy: 0.6224 - val_loss: 0.6592 - val_accuracy: 0.7899\n",
      "\n",
      "Epoch 00016: val_loss improved from 0.72310 to 0.65916, saving model to ./GTSRB_MobileNet_Colab.h5\n",
      "Epoch 17/50\n",
      "1961/1961 [==============================] - 66s 34ms/step - loss: 1.1847 - accuracy: 0.6366 - val_loss: 0.6086 - val_accuracy: 0.8103\n",
      "\n",
      "Epoch 00017: val_loss improved from 0.65916 to 0.60861, saving model to ./GTSRB_MobileNet_Colab.h5\n",
      "Epoch 18/50\n",
      "1961/1961 [==============================] - 67s 34ms/step - loss: 1.1054 - accuracy: 0.6585 - val_loss: 0.5702 - val_accuracy: 0.8196\n",
      "\n",
      "Epoch 00018: val_loss improved from 0.60861 to 0.57018, saving model to ./GTSRB_MobileNet_Colab.h5\n",
      "Epoch 19/50\n",
      "1961/1961 [==============================] - 67s 34ms/step - loss: 1.0682 - accuracy: 0.6728 - val_loss: 0.5268 - val_accuracy: 0.8309\n",
      "\n",
      "Epoch 00019: val_loss improved from 0.57018 to 0.52679, saving model to ./GTSRB_MobileNet_Colab.h5\n",
      "Epoch 20/50\n",
      "1961/1961 [==============================] - 66s 34ms/step - loss: 1.0146 - accuracy: 0.6860 - val_loss: 0.4834 - val_accuracy: 0.8464\n",
      "\n",
      "Epoch 00020: val_loss improved from 0.52679 to 0.48337, saving model to ./GTSRB_MobileNet_Colab.h5\n",
      "Epoch 21/50\n",
      "1961/1961 [==============================] - 66s 34ms/step - loss: 0.9606 - accuracy: 0.7011 - val_loss: 0.4483 - val_accuracy: 0.8582\n",
      "\n",
      "Epoch 00021: val_loss improved from 0.48337 to 0.44828, saving model to ./GTSRB_MobileNet_Colab.h5\n",
      "Epoch 22/50\n",
      "1961/1961 [==============================] - 66s 34ms/step - loss: 0.9063 - accuracy: 0.7244 - val_loss: 0.3974 - val_accuracy: 0.8767\n",
      "\n",
      "Epoch 00022: val_loss improved from 0.44828 to 0.39742, saving model to ./GTSRB_MobileNet_Colab.h5\n",
      "Epoch 23/50\n",
      "1961/1961 [==============================] - 66s 34ms/step - loss: 0.8746 - accuracy: 0.7316 - val_loss: 0.3765 - val_accuracy: 0.8817\n",
      "\n",
      "Epoch 00023: val_loss improved from 0.39742 to 0.37655, saving model to ./GTSRB_MobileNet_Colab.h5\n",
      "Epoch 24/50\n",
      "1961/1961 [==============================] - 67s 34ms/step - loss: 0.8365 - accuracy: 0.7429 - val_loss: 0.3438 - val_accuracy: 0.8866\n",
      "\n",
      "Epoch 00024: val_loss improved from 0.37655 to 0.34381, saving model to ./GTSRB_MobileNet_Colab.h5\n",
      "Epoch 25/50\n",
      "1961/1961 [==============================] - 68s 34ms/step - loss: 0.7961 - accuracy: 0.7550 - val_loss: 0.3259 - val_accuracy: 0.8943\n",
      "\n",
      "Epoch 00025: val_loss improved from 0.34381 to 0.32589, saving model to ./GTSRB_MobileNet_Colab.h5\n",
      "Epoch 26/50\n",
      "1961/1961 [==============================] - 66s 34ms/step - loss: 0.7560 - accuracy: 0.7639 - val_loss: 0.3197 - val_accuracy: 0.8989\n",
      "\n",
      "Epoch 00026: val_loss improved from 0.32589 to 0.31966, saving model to ./GTSRB_MobileNet_Colab.h5\n",
      "Epoch 27/50\n",
      "1961/1961 [==============================] - 66s 34ms/step - loss: 0.7200 - accuracy: 0.7769 - val_loss: 0.2739 - val_accuracy: 0.9147\n",
      "\n",
      "Epoch 00027: val_loss improved from 0.31966 to 0.27385, saving model to ./GTSRB_MobileNet_Colab.h5\n",
      "Epoch 28/50\n",
      "1961/1961 [==============================] - 67s 34ms/step - loss: 0.6866 - accuracy: 0.7889 - val_loss: 0.2544 - val_accuracy: 0.9209\n",
      "\n",
      "Epoch 00028: val_loss improved from 0.27385 to 0.25438, saving model to ./GTSRB_MobileNet_Colab.h5\n",
      "Epoch 29/50\n",
      "1961/1961 [==============================] - 67s 34ms/step - loss: 0.6632 - accuracy: 0.7969 - val_loss: 0.2352 - val_accuracy: 0.9306\n",
      "\n",
      "Epoch 00029: val_loss improved from 0.25438 to 0.23522, saving model to ./GTSRB_MobileNet_Colab.h5\n",
      "Epoch 30/50\n",
      "1961/1961 [==============================] - 68s 34ms/step - loss: 0.6371 - accuracy: 0.8028 - val_loss: 0.2320 - val_accuracy: 0.9292\n",
      "\n",
      "Epoch 00030: val_loss improved from 0.23522 to 0.23198, saving model to ./GTSRB_MobileNet_Colab.h5\n",
      "Epoch 31/50\n",
      "1961/1961 [==============================] - 68s 35ms/step - loss: 0.6138 - accuracy: 0.8104 - val_loss: 0.2268 - val_accuracy: 0.9283\n",
      "\n",
      "Epoch 00031: val_loss improved from 0.23198 to 0.22682, saving model to ./GTSRB_MobileNet_Colab.h5\n",
      "Epoch 32/50\n",
      "1961/1961 [==============================] - 68s 34ms/step - loss: 0.5846 - accuracy: 0.8208 - val_loss: 0.2072 - val_accuracy: 0.9372\n",
      "\n",
      "Epoch 00032: val_loss improved from 0.22682 to 0.20723, saving model to ./GTSRB_MobileNet_Colab.h5\n",
      "Epoch 33/50\n",
      "1961/1961 [==============================] - 67s 34ms/step - loss: 0.5662 - accuracy: 0.8247 - val_loss: 0.1993 - val_accuracy: 0.9405\n",
      "\n",
      "Epoch 00033: val_loss improved from 0.20723 to 0.19925, saving model to ./GTSRB_MobileNet_Colab.h5\n",
      "Epoch 34/50\n",
      "1961/1961 [==============================] - 68s 34ms/step - loss: 0.5311 - accuracy: 0.8356 - val_loss: 0.1939 - val_accuracy: 0.9386\n",
      "\n",
      "Epoch 00034: val_loss improved from 0.19925 to 0.19389, saving model to ./GTSRB_MobileNet_Colab.h5\n",
      "Epoch 35/50\n",
      "1961/1961 [==============================] - 68s 35ms/step - loss: 0.5161 - accuracy: 0.8408 - val_loss: 0.1733 - val_accuracy: 0.9474\n",
      "\n",
      "Epoch 00035: val_loss improved from 0.19389 to 0.17327, saving model to ./GTSRB_MobileNet_Colab.h5\n",
      "Epoch 36/50\n",
      "1961/1961 [==============================] - 68s 35ms/step - loss: 0.4992 - accuracy: 0.8471 - val_loss: 0.1664 - val_accuracy: 0.9511\n",
      "\n",
      "Epoch 00036: val_loss improved from 0.17327 to 0.16642, saving model to ./GTSRB_MobileNet_Colab.h5\n",
      "Epoch 37/50\n",
      "1961/1961 [==============================] - 68s 35ms/step - loss: 0.4917 - accuracy: 0.8509 - val_loss: 0.1580 - val_accuracy: 0.9529\n",
      "\n",
      "Epoch 00037: val_loss improved from 0.16642 to 0.15800, saving model to ./GTSRB_MobileNet_Colab.h5\n",
      "Epoch 38/50\n",
      "1961/1961 [==============================] - 68s 35ms/step - loss: 0.4607 - accuracy: 0.8573 - val_loss: 0.1527 - val_accuracy: 0.9528\n",
      "\n",
      "Epoch 00038: val_loss improved from 0.15800 to 0.15273, saving model to ./GTSRB_MobileNet_Colab.h5\n",
      "Epoch 39/50\n",
      "1961/1961 [==============================] - 67s 34ms/step - loss: 0.4650 - accuracy: 0.8589 - val_loss: 0.1428 - val_accuracy: 0.9567\n",
      "\n",
      "Epoch 00039: val_loss improved from 0.15273 to 0.14277, saving model to ./GTSRB_MobileNet_Colab.h5\n",
      "Epoch 40/50\n",
      "1961/1961 [==============================] - 68s 35ms/step - loss: 0.4401 - accuracy: 0.8655 - val_loss: 0.1420 - val_accuracy: 0.9556\n",
      "\n",
      "Epoch 00040: val_loss improved from 0.14277 to 0.14197, saving model to ./GTSRB_MobileNet_Colab.h5\n",
      "Epoch 41/50\n",
      "1961/1961 [==============================] - 68s 35ms/step - loss: 0.4262 - accuracy: 0.8706 - val_loss: 0.1258 - val_accuracy: 0.9630\n",
      "\n",
      "Epoch 00041: val_loss improved from 0.14197 to 0.12578, saving model to ./GTSRB_MobileNet_Colab.h5\n",
      "Epoch 42/50\n",
      "1961/1961 [==============================] - 67s 34ms/step - loss: 0.4130 - accuracy: 0.8744 - val_loss: 0.1317 - val_accuracy: 0.9620\n",
      "\n",
      "Epoch 00042: val_loss did not improve from 0.12578\n",
      "Epoch 43/50\n",
      "1961/1961 [==============================] - 67s 34ms/step - loss: 0.3938 - accuracy: 0.8772 - val_loss: 0.1241 - val_accuracy: 0.9634\n",
      "\n",
      "Epoch 00043: val_loss improved from 0.12578 to 0.12408, saving model to ./GTSRB_MobileNet_Colab.h5\n",
      "Epoch 44/50\n",
      "1961/1961 [==============================] - 68s 35ms/step - loss: 0.3825 - accuracy: 0.8825 - val_loss: 0.1279 - val_accuracy: 0.9594\n",
      "\n",
      "Epoch 00044: val_loss did not improve from 0.12408\n",
      "Epoch 45/50\n",
      "1961/1961 [==============================] - 67s 34ms/step - loss: 0.3687 - accuracy: 0.8880 - val_loss: 0.1156 - val_accuracy: 0.9639\n",
      "\n",
      "Epoch 00045: val_loss improved from 0.12408 to 0.11558, saving model to ./GTSRB_MobileNet_Colab.h5\n",
      "Epoch 46/50\n",
      "1961/1961 [==============================] - 67s 34ms/step - loss: 0.3629 - accuracy: 0.8917 - val_loss: 0.1175 - val_accuracy: 0.9645\n",
      "\n",
      "Epoch 00046: val_loss did not improve from 0.11558\n",
      "Epoch 47/50\n",
      "1961/1961 [==============================] - 67s 34ms/step - loss: 0.3475 - accuracy: 0.8938 - val_loss: 0.1044 - val_accuracy: 0.9696\n",
      "\n",
      "Epoch 00047: val_loss improved from 0.11558 to 0.10440, saving model to ./GTSRB_MobileNet_Colab.h5\n",
      "Epoch 48/50\n",
      "1961/1961 [==============================] - 67s 34ms/step - loss: 0.3441 - accuracy: 0.8951 - val_loss: 0.1021 - val_accuracy: 0.9696\n",
      "\n",
      "Epoch 00048: val_loss improved from 0.10440 to 0.10213, saving model to ./GTSRB_MobileNet_Colab.h5\n",
      "Epoch 49/50\n",
      "1961/1961 [==============================] - 68s 34ms/step - loss: 0.3357 - accuracy: 0.8987 - val_loss: 0.0932 - val_accuracy: 0.9712\n",
      "\n",
      "Epoch 00049: val_loss improved from 0.10213 to 0.09322, saving model to ./GTSRB_MobileNet_Colab.h5\n",
      "Epoch 50/50\n",
      "1961/1961 [==============================] - 68s 34ms/step - loss: 0.3194 - accuracy: 0.9003 - val_loss: 0.0961 - val_accuracy: 0.9723\n",
      "\n",
      "Epoch 00050: val_loss did not improve from 0.09322\n",
      "elapsed time =>  0:57:04.719197\n"
     ]
    }
   ],
   "source": [
    "from tensorflow.keras.callbacks import ModelCheckpoint, EarlyStopping\n",
    "from datetime import datetime\n",
    "\n",
    "save_file_name = './GTSRB_MobileNet_Colab.h5'\n",
    "\n",
    "checkpoint = ModelCheckpoint(save_file_name,       # file명을 지정\n",
    "                             monitor='val_loss',   # val_loss 값이 개선되었을때 호출\n",
    "                             verbose=1,            # 로그를 출력\n",
    "                             save_best_only=True,  # 가장 best 값만 저장\n",
    "                             mode='auto'           \n",
    "                            )\n",
    "\n",
    "earlystopping = EarlyStopping(monitor='val_loss', # 모니터 기준 설정 (val loss) \n",
    "                              patience=5,         # 5회 Epoch동안 개선되지 않는다면 종료\n",
    "                             )\n",
    "\n",
    "start_time = datetime.now()\n",
    "\n",
    "hist = model.fit(train_data, \n",
    "                 epochs=50, \n",
    "                 validation_data=test_data,\n",
    "                 callbacks=[checkpoint, earlystopping])\n",
    "\n",
    "end_time = datetime.now()\n",
    "\n",
    "print('elapsed time => ', end_time-start_time)"
   ]
  },
  {
   "cell_type": "code",
   "execution_count": 20,
   "metadata": {
    "colab": {
     "base_uri": "https://localhost:8080/"
    },
    "id": "TNQbhxp_yOU4",
    "outputId": "0f299b07-c50c-46cd-f61b-ce969e224108"
   },
   "outputs": [
    {
     "name": "stdout",
     "output_type": "stream",
     "text": [
      "490/490 [==============================] - 6s 13ms/step - loss: 0.0961 - accuracy: 0.9723\n"
     ]
    },
    {
     "data": {
      "text/plain": [
       "[0.09611529856920242, 0.9723002314567566]"
      ]
     },
     "execution_count": 20,
     "metadata": {},
     "output_type": "execute_result"
    }
   ],
   "source": [
    "model.evaluate(test_data)"
   ]
  },
  {
   "cell_type": "code",
   "execution_count": 21,
   "metadata": {
    "id": "FIhDr-BmJjen"
   },
   "outputs": [],
   "source": [
    "best_model = tf.keras.models.load_model('./GTSRB_MobileNet_Colab.h5')"
   ]
  },
  {
   "cell_type": "code",
   "execution_count": 22,
   "metadata": {
    "colab": {
     "base_uri": "https://localhost:8080/"
    },
    "id": "4uqfzd-qJxdX",
    "outputId": "f1043758-dede-496d-b145-1a722be99058"
   },
   "outputs": [
    {
     "name": "stdout",
     "output_type": "stream",
     "text": [
      "490/490 [==============================] - 7s 13ms/step - loss: 0.0932 - accuracy: 0.9712\n"
     ]
    },
    {
     "data": {
      "text/plain": [
       "[0.09322334080934525, 0.9711514115333557]"
      ]
     },
     "execution_count": 22,
     "metadata": {},
     "output_type": "execute_result"
    }
   ],
   "source": [
    "best_model.evaluate(test_data)"
   ]
  },
  {
   "cell_type": "code",
   "execution_count": 23,
   "metadata": {
    "colab": {
     "base_uri": "https://localhost:8080/"
    },
    "id": "4u9Y23Hd7EQW",
    "outputId": "7a588d8d-e0c0-4b26-e0fa-16f3c5bf15d4"
   },
   "outputs": [
    {
     "name": "stdout",
     "output_type": "stream",
     "text": [
      "(7834, 43)\n"
     ]
    }
   ],
   "source": [
    "y_pred = best_model.predict(test_data)\n",
    "\n",
    "print(y_pred.shape)"
   ]
  },
  {
   "cell_type": "code",
   "execution_count": 24,
   "metadata": {
    "colab": {
     "base_uri": "https://localhost:8080/",
     "height": 295
    },
    "id": "z7hIF36fyR6O",
    "outputId": "8776e852-7e35-4fac-f594-b332f46ba2e6"
   },
   "outputs": [
    {
     "data": {
      "image/png": "[encoded data removed]",
      "text/plain": [
       "<Figure size 432x288 with 1 Axes>"
      ]
     },
     "metadata": {
      "needs_background": "light"
     },
     "output_type": "display_data"
    }
   ],
   "source": [
    "import matplotlib.pyplot as plt\n",
    "\n",
    "plt.plot(hist.history['accuracy'], label='train')\n",
    "plt.plot(hist.history['val_accuracy'], label='validation')\n",
    "plt.title('Accuracy Trend')\n",
    "plt.ylabel('accuracy')\n",
    "plt.xlabel('epoch')\n",
    "plt.legend(loc='best')\n",
    "plt.grid()\n",
    "plt.show()"
   ]
  },
  {
   "cell_type": "code",
   "execution_count": 25,
   "metadata": {
    "colab": {
     "base_uri": "https://localhost:8080/",
     "height": 295
    },
    "id": "ikuZTLbMybAQ",
    "outputId": "754fedf9-9eac-4afd-9b10-7fb71eb1770a"
   },
   "outputs": [
    {
     "data": {
      "image/png": "[encoded data removed]",
      "text/plain": [
       "<Figure size 432x288 with 1 Axes>"
      ]
     },
     "metadata": {
      "needs_background": "light"
     },
     "output_type": "display_data"
    }
   ],
   "source": [
    "plt.plot(hist.history['loss'], label='train')\n",
    "plt.plot(hist.history['val_loss'], label='validation')\n",
    "plt.title('Loss Trend')\n",
    "plt.ylabel('loss')\n",
    "plt.xlabel('epoch')\n",
    "plt.legend(loc='best')\n",
    "plt.grid()\n",
    "plt.show()"
   ]
  },
  {
   "cell_type": "code",
   "execution_count": null,
   "metadata": {
    "id": "PByUMR0n0Z8B"
   },
   "outputs": [],
   "source": []
  }
 ],
 "metadata": {
  "accelerator": "GPU",
  "colab": {
   "collapsed_sections": [],
   "name": "TransferLearning_Example_4.ipynb",
   "provenance": []
  },
  "kernelspec": {
   "display_name": "Python 3 (ipykernel)",
   "language": "python",
   "name": "python3"
  },
  "language_info": {
   "codemirror_mode": {
    "name": "ipython",
    "version": 3
   },
   "file_extension": ".py",
   "mimetype": "text/x-python",
   "name": "python",
   "nbconvert_exporter": "python",
   "pygments_lexer": "ipython3",
   "version": "3.9.12"
  }
 },
 "nbformat": 4,
 "nbformat_minor": 1
}
