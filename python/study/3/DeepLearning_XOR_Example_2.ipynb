{
 "cells": [
  {
   "cell_type": "markdown",
   "metadata": {
    "id": "HVPjIORrOxp8"
   },
   "source": [
    "## numerical_derivative, sigmoid 함수 정의"
   ]
  },
  {
   "cell_type": "code",
   "execution_count": 1,
   "metadata": {
    "id": "ONLApAPKOxqO"
   },
   "outputs": [],
   "source": [
    "import numpy as np\n",
    "from datetime import datetime\n",
    "\n",
    "np.random.seed(0)\n",
    "\n",
    "def numerical_derivative(f, x):\n",
    "    delta_x = 1e-4 # 0.0001\n",
    "    grad = np.zeros_like(x)\n",
    "    \n",
    "    it = np.nditer(x, flags=['multi_index'], op_flags=['readwrite'])\n",
    "    \n",
    "    while not it.finished:\n",
    "        idx = it.multi_index        \n",
    "        tmp_val = x[idx]\n",
    "        x[idx] = float(tmp_val) + delta_x\n",
    "        fx1 = f(x) # f(x+delta_x)\n",
    "        \n",
    "        x[idx] = float(tmp_val) - delta_x \n",
    "        fx2 = f(x) # f(x-delta_x)\n",
    "        grad[idx] = (fx1 - fx2) / (2*delta_x)\n",
    "        \n",
    "        x[idx] = tmp_val \n",
    "        it.iternext()   \n",
    "        \n",
    "    return grad"
   ]
  },
  {
   "cell_type": "code",
   "execution_count": 2,
   "metadata": {
    "id": "l9KYhcJ6Oxqb"
   },
   "outputs": [],
   "source": [
    "# 최종출력은 y = sigmoid(Wx+b) 이며, 손실함수는 cross-entropy 로 나타냄\n",
    "\n",
    "def sigmoid(z):\n",
    "    return 1 / (1+np.exp(-z))"
   ]
  },
  {
   "cell_type": "markdown",
   "metadata": {
    "id": "KLkHhqE1PB_C"
   },
   "source": [
    "## data definition"
   ]
  },
  {
   "cell_type": "code",
   "execution_count": 3,
   "metadata": {
    "colab": {
     "base_uri": "https://localhost:8080/"
    },
    "id": "dR6A0Sc1Oxqc",
    "outputId": "fbd0f5ee-e7f1-4246-b662-93523624301f"
   },
   "outputs": [
    {
     "name": "stdout",
     "output_type": "stream",
     "text": [
      "xor_xdata.shape =  (4, 2) , xor_tdata.shape =  (4, 1)\n"
     ]
    }
   ],
   "source": [
    "xor_xdata = np.array([ [0,0], [0,1], [1,0], [1,1] ])  \n",
    "xor_tdata = np.array([0, 1, 1, 0]).reshape(4,1)\n",
    "\n",
    "print(\"xor_xdata.shape = \", xor_xdata.shape, \", xor_tdata.shape = \", xor_tdata.shape)"
   ]
  },
  {
   "cell_type": "markdown",
   "metadata": {
    "id": "sFnhA47FPFzp"
   },
   "source": [
    "## initialize weights and bias"
   ]
  },
  {
   "cell_type": "code",
   "execution_count": 4,
   "metadata": {
    "colab": {
     "base_uri": "https://localhost:8080/"
    },
    "id": "9MtmDwl2Oxqf",
    "outputId": "afde59a9-baaa-453f-df93-5b869d48d620"
   },
   "outputs": [
    {
     "name": "stdout",
     "output_type": "stream",
     "text": [
      "[[0.5488135  0.71518937]\n",
      " [0.60276338 0.54488318]] [0.79172504 0.52889492]\n",
      "[[0.4236548  0.64589411]\n",
      " [0.43758721 0.891773  ]] [0.56804456 0.92559664]\n",
      "[[0.96366276]\n",
      " [0.38344152]] [0.07103606]\n"
     ]
    }
   ],
   "source": [
    "input_nodes = 2\n",
    "hidden_nodes_1 = 2\n",
    "hidden_nodes_2 = 2\n",
    "output_nodes = 1\n",
    "\n",
    "W2 = np.random.rand(input_nodes, hidden_nodes_1)  \n",
    "W3 = np.random.rand(hidden_nodes_1, hidden_nodes_2)  \n",
    "W4 = np.random.rand(hidden_nodes_2, output_nodes)  \n",
    "\n",
    "b2 = np.random.rand(hidden_nodes_1)   \n",
    "b3 = np.random.rand(hidden_nodes_2)\n",
    "b4 = np.random.rand(output_nodes)\n",
    "\n",
    "print(W2, b2)\n",
    "print(W3, b3)\n",
    "print(W4, b4)"
   ]
  },
  {
   "cell_type": "markdown",
   "metadata": {
    "id": "BIrUcRvcPQeG"
   },
   "source": [
    "## define loss function and output, y"
   ]
  },
  {
   "cell_type": "code",
   "execution_count": 5,
   "metadata": {
    "id": "ldAtOucnOxqg"
   },
   "outputs": [],
   "source": [
    "def loss_func(x, t):\n",
    "    \n",
    "    delta = 1e-7    # log 무한대 발산 방지\n",
    "    \n",
    "    z2 = np.dot(x, W2) + b2\n",
    "    a2 = sigmoid(z2)\n",
    "\n",
    "    z3 = np.dot(a2, W3) + b3\n",
    "    a3 = sigmoid(z3)\n",
    "    \n",
    "    z4 = np.dot(a3, W4) + b4\n",
    "    y = a4 = sigmoid(z4)\n",
    "    \n",
    "    # cross-entropy \n",
    "    return  -np.sum( t*np.log(y + delta) + (1-t)*np.log((1 - y)+delta ) ) \n",
    "\n",
    "    # MSE\n",
    "    #return np.sum((t-y)**2) / len(x)"
   ]
  },
  {
   "cell_type": "markdown",
   "metadata": {
    "id": "0OAKzLBvPU5e"
   },
   "source": [
    "## XOR learning"
   ]
  },
  {
   "cell_type": "code",
   "execution_count": 6,
   "metadata": {
    "colab": {
     "base_uri": "https://localhost:8080/"
    },
    "id": "4uaeY4ijOxqi",
    "outputId": "0ca50e18-2c47-494b-9236-8e572374daf6"
   },
   "outputs": [
    {
     "name": "stdout",
     "output_type": "stream",
     "text": [
      "Initial loss value =  3.405048556373006\n",
      "step =  0 loss value =  3.1743120631642556\n",
      "step =  500 loss value =  2.7699744827525397\n",
      "step =  1000 loss value =  2.766944842114001\n",
      "step =  1500 loss value =  2.757405912950661\n",
      "step =  2000 loss value =  2.691397342763064\n",
      "step =  2500 loss value =  2.1348678001728882\n",
      "step =  3000 loss value =  1.9702507589427216\n",
      "step =  3500 loss value =  1.932871860307101\n",
      "step =  4000 loss value =  1.8582275931333836\n",
      "step =  4500 loss value =  0.21983374173522524\n",
      "step =  5000 loss value =  0.08620567899700891\n",
      "step =  5500 loss value =  0.05289833815411835\n",
      "step =  6000 loss value =  0.03729973909186515\n",
      "step =  6500 loss value =  0.02829789317839094\n",
      "step =  7000 loss value =  0.022531917921996315\n",
      "step =  7500 loss value =  0.018581800656425354\n",
      "step =  8000 loss value =  0.015737397590679734\n",
      "step =  8500 loss value =  0.013607298411100501\n",
      "step =  9000 loss value =  0.011960810485895456\n",
      "step =  9500 loss value =  0.010654644278799065\n",
      "step =  10000 loss value =  0.009595842746286902\n",
      "step =  10500 loss value =  0.00872183382472334\n",
      "step =  11000 loss value =  0.007989142650158538\n",
      "step =  11500 loss value =  0.007366723773948055\n",
      "step =  12000 loss value =  0.006831872127670301\n",
      "step =  12500 loss value =  0.0063676313349990315\n",
      "step =  13000 loss value =  0.005961102380874817\n",
      "step =  13500 loss value =  0.005602310795857574\n",
      "step =  14000 loss value =  0.0052834300977331935\n",
      "step =  14500 loss value =  0.004998238242165309\n",
      "step =  15000 loss value =  0.004741729954638632\n",
      "step =  15500 loss value =  0.004509835500619319\n",
      "step =  16000 loss value =  0.00429921349599177\n",
      "step =  16500 loss value =  0.004107096100931962\n",
      "step =  17000 loss value =  0.003931171853509517\n",
      "step =  17500 loss value =  0.003769495936136369\n",
      "step =  18000 loss value =  0.0036204206992076536\n",
      "step =  18500 loss value =  0.003482541324831461\n",
      "step =  19000 loss value =  0.003354652933422933\n",
      "step =  19500 loss value =  0.003235716429024076\n",
      "step =  20000 loss value =  0.0031248310828865212\n",
      "step =  20500 loss value =  0.003021212359874754\n",
      "step =  21000 loss value =  0.0029241738584629804\n",
      "step =  21500 loss value =  0.002833112504046031\n",
      "step =  22000 loss value =  0.002747496334015497\n",
      "step =  22500 loss value =  0.0026668543622426813\n",
      "step =  23000 loss value =  0.0025907681226442015\n",
      "step =  23500 loss value =  0.002518864577105625\n",
      "step =  24000 loss value =  0.002450810138420858\n",
      "step =  24500 loss value =  0.002386305609599519\n",
      "step =  25000 loss value =  0.002325081880140672\n",
      "step =  25500 loss value =  0.002266896250816241\n",
      "step =  26000 loss value =  0.0022115292826722544\n",
      "step =  26500 loss value =  0.0021587820852977226\n",
      "step =  27000 loss value =  0.002108473974697437\n",
      "step =  27500 loss value =  0.0020604404434642403\n",
      "step =  28000 loss value =  0.0020145313958746616\n",
      "step =  28500 loss value =  0.0019706096084497983\n",
      "step =  29000 loss value =  0.0019285493832283155\n",
      "step =  29500 loss value =  0.0018882353662141547\n",
      "step =  30000 loss value =  0.0018495615078788458\n",
      "\n",
      "Elapsed Time =>  0:00:35.705206\n"
     ]
    }
   ],
   "source": [
    "learning_rate = 1e-1  # 1e-2 에서 변경한 부분\n",
    "\n",
    "f = lambda x : loss_func(xor_xdata, xor_tdata)  \n",
    "\n",
    "print(\"Initial loss value = \", loss_func(xor_xdata, xor_tdata) )\n",
    "\n",
    "start_time = datetime.now()\n",
    "\n",
    "for step in range(30001):  \n",
    "    \n",
    "    W2 -= learning_rate * numerical_derivative(f, W2)\n",
    "    \n",
    "    b2 -= learning_rate * numerical_derivative(f, b2)\n",
    "\n",
    "    W3 -= learning_rate * numerical_derivative(f, W3)\n",
    "    \n",
    "    b3 -= learning_rate * numerical_derivative(f, b3)\n",
    "    \n",
    "    W4 -= learning_rate * numerical_derivative(f, W4)\n",
    "    \n",
    "    b4 -= learning_rate * numerical_derivative(f, b4)\n",
    "    \n",
    "    \n",
    "    \n",
    "    if (step % 500 == 0):\n",
    "        print(\"step = \", step, \"loss value = \", loss_func(xor_xdata, xor_tdata) )\n",
    "        \n",
    "end_time = datetime.now()\n",
    "        \n",
    "print(\"\")\n",
    "print(\"Elapsed Time => \", end_time - start_time)"
   ]
  },
  {
   "cell_type": "markdown",
   "metadata": {
    "id": "MdCQM7SiPL_N"
   },
   "source": [
    "## evaluate and predict"
   ]
  },
  {
   "cell_type": "code",
   "execution_count": 7,
   "metadata": {
    "id": "Eb-JN1wnPOkt"
   },
   "outputs": [],
   "source": [
    "# 학습을 마친 후, 임의의 데이터에 대해 미래 값 예측 함수\n",
    "# 입력변수 test_data : numpy type\n",
    "def predict(test_data):\n",
    "    \n",
    "    z2 = np.dot(test_data, W2) + b2\n",
    "    a2 = sigmoid(z2)\n",
    "\n",
    "    z3 = np.dot(a2, W3) + b3\n",
    "    a3 = sigmoid(z3)\n",
    "    \n",
    "    z4 = np.dot(a3, W4) + b4\n",
    "    y = a4 = sigmoid(z4)\n",
    "    \n",
    "    if y > 0.5:\n",
    "        pred_val = 1\n",
    "    else:\n",
    "        pred_val = 0\n",
    "\n",
    "    return y, pred_val"
   ]
  },
  {
   "cell_type": "code",
   "execution_count": 8,
   "metadata": {
    "colab": {
     "base_uri": "https://localhost:8080/"
    },
    "id": "kypteKwcOxqk",
    "outputId": "36e41ed7-3c1f-4eb5-b4dc-0bf5ad3c4711"
   },
   "outputs": [
    {
     "name": "stdout",
     "output_type": "stream",
     "text": [
      "(array([0.00010228]), 0)\n",
      "(array([0.99950326]), 1)\n",
      "(array([0.99950329]), 1)\n",
      "(array([0.0007537]), 0)\n"
     ]
    }
   ],
   "source": [
    "test_data = np.array([ [0, 0], [0, 1], [1, 0], [1, 1] ])\n",
    "\n",
    "for input_data in test_data:\n",
    "\n",
    "    print(predict(input_data))"
   ]
  },
  {
   "cell_type": "code",
   "execution_count": null,
   "metadata": {
    "id": "eBEvqwwhOxqt"
   },
   "outputs": [],
   "source": []
  }
 ],
 "metadata": {
  "anaconda-cloud": {},
  "colab": {
   "collapsed_sections": [],
   "name": "DeepLearning_XOR_Example.ipynb",
   "provenance": []
  },
  "kernelspec": {
   "display_name": "Python 3",
   "language": "python",
   "name": "python3"
  },
  "language_info": {
   "codemirror_mode": {
    "name": "ipython",
    "version": 3
   },
   "file_extension": ".py",
   "mimetype": "text/x-python",
   "name": "python",
   "nbconvert_exporter": "python",
   "pygments_lexer": "ipython3",
   "version": "3.8.3"
  }
 },
 "nbformat": 4,
 "nbformat_minor": 1
}
