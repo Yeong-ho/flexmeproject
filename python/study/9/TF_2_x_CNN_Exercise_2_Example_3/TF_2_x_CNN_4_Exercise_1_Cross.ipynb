{
 "cells": [
  {
   "cell_type": "code",
   "execution_count": 1,
   "metadata": {
    "id": "Mz7L7JQA0zBd"
   },
   "outputs": [],
   "source": [
    "import tensorflow as tf\n",
    "\n",
    "from tensorflow.keras.layers import Flatten, Dense, Conv2D, MaxPool2D\n",
    "from tensorflow.keras.models import Sequential\n",
    "from tensorflow.keras.optimizers import Adam\n",
    "from tensorflow.keras.datasets import mnist\n",
    "from tensorflow.keras.utils import to_categorical  # one-hot encoding\n",
    "\n",
    "import numpy as np\n",
    "from datetime import datetime\n",
    "import matplotlib.pyplot as plt"
   ]
  },
  {
   "cell_type": "code",
   "execution_count": 8,
   "metadata": {
    "colab": {
     "base_uri": "https://localhost:8080/"
    },
    "id": "hWSWQdg61_pp",
    "outputId": "ae6b0290-74a0-466a-fc7f-b8589bf3458c"
   },
   "outputs": [
    {
     "name": "stdout",
     "output_type": "stream",
     "text": [
      "x_train.shape =  (60000, 28, 28)  , x_test.shape =  (10000, 28, 28)\n",
      "t_train.shape =  (60000,)  , t_test.shape =  (10000,)\n"
     ]
    }
   ],
   "source": [
    "(x_train, t_train), (x_test, t_test) = mnist.load_data()\n",
    "\n",
    "x_train = x_train / 255.0\n",
    "x_test = x_test / 255.0\n",
    "\n",
    "print('x_train.shape = ', x_train.shape, ' , x_test.shape = ', x_test.shape)\n",
    "print('t_train.shape = ', t_train.shape, ' , t_test.shape = ', t_test.shape)"
   ]
  },
  {
   "cell_type": "code",
   "execution_count": 9,
   "metadata": {
    "colab": {
     "base_uri": "https://localhost:8080/",
     "height": 589
    },
    "id": "8dvRVX7M_0dY",
    "outputId": "d5cfca5d-7c59-4c1f-872a-166074a9ce99"
   },
   "outputs": [
    {
     "data": {
      "image/png": "[encoded data removed]",
      "text/plain": [
       "<Figure size 720x720 with 25 Axes>"
      ]
     },
     "metadata": {},
     "output_type": "display_data"
    }
   ],
   "source": [
    "# 데이터 출력\n",
    "\n",
    "plt.figure(figsize=(10,10))\n",
    "\n",
    "for index in range(25):\n",
    "\n",
    "    plt.subplot(5, 5, index+1)\n",
    "    plt.xticks([])\n",
    "    plt.yticks([])\n",
    "    plt.grid(False)\n",
    "    plt.imshow(x_train[index], cmap='gray')\n",
    "    plt.xlabel(str(t_train[index]))\n",
    "\n",
    "plt.show()"
   ]
  },
  {
   "cell_type": "code",
   "execution_count": 10,
   "metadata": {
    "id": "IOMP5GBMzorY"
   },
   "outputs": [],
   "source": [
    "# one hot encoding\n",
    "\n",
    "t_train = to_categorical(t_train, 10)\n",
    "\n",
    "t_test = to_categorical(t_test, 10)"
   ]
  },
  {
   "cell_type": "code",
   "execution_count": 11,
   "metadata": {
    "id": "TyTj4TLi3L2Q"
   },
   "outputs": [],
   "source": [
    "model = Sequential()\n",
    "\n",
    "model.add(Conv2D(input_shape=(28,28,1), \n",
    "                 kernel_size=3, filters=32, \n",
    "                 strides=(1,1), activation='relu', padding='SAME'))\n",
    "\n",
    "model.add(MaxPool2D(pool_size=(2,2), padding='SAME'))\n",
    "\n",
    "model.add(Flatten())\n",
    "\n",
    "model.add(Dense(10, activation='softmax'))"
   ]
  },
  {
   "cell_type": "code",
   "execution_count": 12,
   "metadata": {
    "colab": {
     "base_uri": "https://localhost:8080/"
    },
    "id": "PRkYkMr6Dk1H",
    "outputId": "ada56552-f872-49d2-de96-cc0a7ec9d0f1"
   },
   "outputs": [
    {
     "name": "stdout",
     "output_type": "stream",
     "text": [
      "Model: \"sequential_1\"\n",
      "_________________________________________________________________\n",
      "Layer (type)                 Output Shape              Param #   \n",
      "=================================================================\n",
      "conv2d_1 (Conv2D)            (None, 28, 28, 32)        320       \n",
      "_________________________________________________________________\n",
      "max_pooling2d_1 (MaxPooling2 (None, 14, 14, 32)        0         \n",
      "_________________________________________________________________\n",
      "flatten_1 (Flatten)          (None, 6272)              0         \n",
      "_________________________________________________________________\n",
      "dense_1 (Dense)              (None, 10)                62730     \n",
      "=================================================================\n",
      "Total params: 63,050\n",
      "Trainable params: 63,050\n",
      "Non-trainable params: 0\n",
      "_________________________________________________________________\n"
     ]
    }
   ],
   "source": [
    "# model compile\n",
    "# one hot encoding 방식이기 때문에, loss=categorical_crossentropy 정의\n",
    "\n",
    "model.compile(optimizer=Adam(learning_rate=0.001), \n",
    "              loss='categorical_crossentropy', metrics=['accuracy'])\n",
    "\n",
    "model.summary()"
   ]
  },
  {
   "cell_type": "code",
   "execution_count": 13,
   "metadata": {
    "colab": {
     "base_uri": "https://localhost:8080/"
    },
    "id": "lWC9NA-G5vvz",
    "outputId": "ee10a802-e4ac-4490-ee77-11b3ef745538"
   },
   "outputs": [
    {
     "name": "stdout",
     "output_type": "stream",
     "text": [
      "Epoch 1/50\n",
      "960/960 [==============================] - 36s 5ms/step - loss: 0.2770 - accuracy: 0.9227 - val_loss: 0.1207 - val_accuracy: 0.9666\n",
      "Epoch 2/50\n",
      "960/960 [==============================] - 5s 5ms/step - loss: 0.1032 - accuracy: 0.9706 - val_loss: 0.0900 - val_accuracy: 0.9750\n",
      "Epoch 3/50\n",
      "960/960 [==============================] - 5s 5ms/step - loss: 0.0749 - accuracy: 0.9782 - val_loss: 0.0814 - val_accuracy: 0.9762\n",
      "Epoch 4/50\n",
      "960/960 [==============================] - 5s 5ms/step - loss: 0.0604 - accuracy: 0.9814 - val_loss: 0.0706 - val_accuracy: 0.9803\n",
      "Epoch 5/50\n",
      "960/960 [==============================] - 5s 5ms/step - loss: 0.0509 - accuracy: 0.9850 - val_loss: 0.0674 - val_accuracy: 0.9791\n",
      "Epoch 6/50\n",
      "960/960 [==============================] - 5s 5ms/step - loss: 0.0446 - accuracy: 0.9865 - val_loss: 0.0696 - val_accuracy: 0.9787\n",
      "Epoch 7/50\n",
      "960/960 [==============================] - 5s 5ms/step - loss: 0.0383 - accuracy: 0.9885 - val_loss: 0.0711 - val_accuracy: 0.9806\n",
      "Epoch 8/50\n",
      "960/960 [==============================] - 5s 5ms/step - loss: 0.0338 - accuracy: 0.9902 - val_loss: 0.0663 - val_accuracy: 0.9814\n",
      "Epoch 9/50\n",
      "960/960 [==============================] - 5s 5ms/step - loss: 0.0295 - accuracy: 0.9914 - val_loss: 0.0644 - val_accuracy: 0.9807\n",
      "Epoch 10/50\n",
      "960/960 [==============================] - 5s 5ms/step - loss: 0.0268 - accuracy: 0.9921 - val_loss: 0.0655 - val_accuracy: 0.9812\n",
      "Epoch 11/50\n",
      "960/960 [==============================] - 5s 5ms/step - loss: 0.0227 - accuracy: 0.9935 - val_loss: 0.0688 - val_accuracy: 0.9801\n",
      "Epoch 12/50\n",
      "960/960 [==============================] - 5s 5ms/step - loss: 0.0208 - accuracy: 0.9937 - val_loss: 0.0723 - val_accuracy: 0.9805\n",
      "Epoch 13/50\n",
      "960/960 [==============================] - 5s 5ms/step - loss: 0.0181 - accuracy: 0.9943 - val_loss: 0.0712 - val_accuracy: 0.9811\n",
      "Epoch 14/50\n",
      "960/960 [==============================] - 5s 5ms/step - loss: 0.0155 - accuracy: 0.9955 - val_loss: 0.0708 - val_accuracy: 0.9822\n",
      "Epoch 15/50\n",
      "960/960 [==============================] - 5s 5ms/step - loss: 0.0133 - accuracy: 0.9966 - val_loss: 0.0765 - val_accuracy: 0.9807\n",
      "Epoch 16/50\n",
      "960/960 [==============================] - 5s 5ms/step - loss: 0.0117 - accuracy: 0.9968 - val_loss: 0.0845 - val_accuracy: 0.9795\n",
      "Epoch 17/50\n",
      "960/960 [==============================] - 5s 5ms/step - loss: 0.0101 - accuracy: 0.9975 - val_loss: 0.0809 - val_accuracy: 0.9813\n",
      "Epoch 18/50\n",
      "960/960 [==============================] - 5s 5ms/step - loss: 0.0094 - accuracy: 0.9975 - val_loss: 0.0861 - val_accuracy: 0.9797\n",
      "Epoch 19/50\n",
      "960/960 [==============================] - 5s 5ms/step - loss: 0.0079 - accuracy: 0.9980 - val_loss: 0.0836 - val_accuracy: 0.9813\n",
      "Epoch 20/50\n",
      "960/960 [==============================] - 5s 5ms/step - loss: 0.0074 - accuracy: 0.9982 - val_loss: 0.0898 - val_accuracy: 0.9806\n",
      "Epoch 21/50\n",
      "960/960 [==============================] - 5s 5ms/step - loss: 0.0064 - accuracy: 0.9982 - val_loss: 0.0886 - val_accuracy: 0.9814\n",
      "Epoch 22/50\n",
      "960/960 [==============================] - 5s 5ms/step - loss: 0.0059 - accuracy: 0.9985 - val_loss: 0.0901 - val_accuracy: 0.9820\n",
      "Epoch 23/50\n",
      "960/960 [==============================] - 5s 5ms/step - loss: 0.0046 - accuracy: 0.9990 - val_loss: 0.0856 - val_accuracy: 0.9818\n",
      "Epoch 24/50\n",
      "960/960 [==============================] - 5s 5ms/step - loss: 0.0049 - accuracy: 0.9988 - val_loss: 0.0956 - val_accuracy: 0.9812\n",
      "Epoch 25/50\n",
      "960/960 [==============================] - 5s 5ms/step - loss: 0.0042 - accuracy: 0.9991 - val_loss: 0.0939 - val_accuracy: 0.9813\n",
      "Epoch 26/50\n",
      "960/960 [==============================] - 5s 5ms/step - loss: 0.0041 - accuracy: 0.9989 - val_loss: 0.1031 - val_accuracy: 0.9793\n",
      "Epoch 27/50\n",
      "960/960 [==============================] - 5s 5ms/step - loss: 0.0026 - accuracy: 0.9996 - val_loss: 0.0933 - val_accuracy: 0.9810\n",
      "Epoch 28/50\n",
      "960/960 [==============================] - 5s 5ms/step - loss: 0.0029 - accuracy: 0.9993 - val_loss: 0.1039 - val_accuracy: 0.9806\n",
      "Epoch 29/50\n",
      "960/960 [==============================] - 5s 5ms/step - loss: 0.0034 - accuracy: 0.9992 - val_loss: 0.1101 - val_accuracy: 0.9782\n",
      "Epoch 30/50\n",
      "960/960 [==============================] - 5s 5ms/step - loss: 0.0030 - accuracy: 0.9993 - val_loss: 0.1018 - val_accuracy: 0.9818\n",
      "Epoch 31/50\n",
      "960/960 [==============================] - 5s 5ms/step - loss: 0.0020 - accuracy: 0.9997 - val_loss: 0.1057 - val_accuracy: 0.9815\n",
      "Epoch 32/50\n",
      "960/960 [==============================] - 5s 5ms/step - loss: 0.0023 - accuracy: 0.9996 - val_loss: 0.1046 - val_accuracy: 0.9825\n",
      "Epoch 33/50\n",
      "960/960 [==============================] - 5s 5ms/step - loss: 0.0026 - accuracy: 0.9994 - val_loss: 0.1025 - val_accuracy: 0.9823\n",
      "Epoch 34/50\n",
      "960/960 [==============================] - 5s 5ms/step - loss: 0.0013 - accuracy: 0.9998 - val_loss: 0.1087 - val_accuracy: 0.9815\n",
      "Epoch 35/50\n",
      "960/960 [==============================] - 5s 5ms/step - loss: 0.0014 - accuracy: 0.9998 - val_loss: 0.1135 - val_accuracy: 0.9801\n",
      "Epoch 36/50\n",
      "960/960 [==============================] - 5s 5ms/step - loss: 0.0031 - accuracy: 0.9989 - val_loss: 0.1151 - val_accuracy: 0.9817\n",
      "Epoch 37/50\n",
      "960/960 [==============================] - 5s 5ms/step - loss: 0.0014 - accuracy: 0.9998 - val_loss: 0.1192 - val_accuracy: 0.9807\n",
      "Epoch 38/50\n",
      "960/960 [==============================] - 5s 5ms/step - loss: 9.9015e-04 - accuracy: 0.9998 - val_loss: 0.1136 - val_accuracy: 0.9822\n",
      "Epoch 39/50\n",
      "960/960 [==============================] - 5s 5ms/step - loss: 3.9376e-04 - accuracy: 1.0000 - val_loss: 0.1117 - val_accuracy: 0.9822\n",
      "Epoch 40/50\n",
      "960/960 [==============================] - 5s 5ms/step - loss: 0.0020 - accuracy: 0.9994 - val_loss: 0.1252 - val_accuracy: 0.9789\n",
      "Epoch 41/50\n",
      "960/960 [==============================] - 5s 5ms/step - loss: 0.0033 - accuracy: 0.9989 - val_loss: 0.1179 - val_accuracy: 0.9815\n",
      "Epoch 42/50\n",
      "960/960 [==============================] - 5s 5ms/step - loss: 8.1760e-04 - accuracy: 0.9998 - val_loss: 0.1192 - val_accuracy: 0.9822\n",
      "Epoch 43/50\n",
      "960/960 [==============================] - 5s 5ms/step - loss: 2.0990e-04 - accuracy: 1.0000 - val_loss: 0.1166 - val_accuracy: 0.9823\n",
      "Epoch 44/50\n",
      "960/960 [==============================] - 5s 5ms/step - loss: 1.6037e-04 - accuracy: 1.0000 - val_loss: 0.1182 - val_accuracy: 0.9826\n",
      "Epoch 45/50\n",
      "960/960 [==============================] - 5s 5ms/step - loss: 1.4461e-04 - accuracy: 1.0000 - val_loss: 0.1169 - val_accuracy: 0.9821\n",
      "Epoch 46/50\n",
      "960/960 [==============================] - 5s 5ms/step - loss: 0.0037 - accuracy: 0.9987 - val_loss: 0.1494 - val_accuracy: 0.9782\n",
      "Epoch 47/50\n",
      "960/960 [==============================] - 5s 5ms/step - loss: 0.0029 - accuracy: 0.9990 - val_loss: 0.1236 - val_accuracy: 0.9807\n",
      "Epoch 48/50\n",
      "960/960 [==============================] - 5s 5ms/step - loss: 3.9721e-04 - accuracy: 1.0000 - val_loss: 0.1234 - val_accuracy: 0.9817\n",
      "Epoch 49/50\n",
      "960/960 [==============================] - 5s 5ms/step - loss: 1.5878e-04 - accuracy: 1.0000 - val_loss: 0.1232 - val_accuracy: 0.9826\n",
      "Epoch 50/50\n",
      "960/960 [==============================] - 5s 5ms/step - loss: 1.1229e-04 - accuracy: 1.0000 - val_loss: 0.1247 - val_accuracy: 0.9822\n",
      "\n",
      "\n",
      "Elapsed Time =>  0:04:28.223106\n"
     ]
    }
   ],
   "source": [
    "start_time = datetime.now()\n",
    "\n",
    "hist = model.fit(x_train.reshape(-1,28,28,1), t_train, \n",
    "                 batch_size=50, epochs=50, validation_split=0.2)\n",
    "\n",
    "end_time = datetime.now()\n",
    "\n",
    "print('\\n\\nElapsed Time => ', end_time - start_time)"
   ]
  },
  {
   "cell_type": "code",
   "execution_count": 14,
   "metadata": {
    "colab": {
     "base_uri": "https://localhost:8080/"
    },
    "id": "2C2fV-8K6XsU",
    "outputId": "a3339c45-37de-4c97-d9eb-3eb2503bf5bd"
   },
   "outputs": [
    {
     "name": "stdout",
     "output_type": "stream",
     "text": [
      "313/313 [==============================] - 1s 4ms/step - loss: 0.1081 - accuracy: 0.9827\n"
     ]
    },
    {
     "data": {
      "text/plain": [
       "[0.10812240839004517, 0.982699990272522]"
      ]
     },
     "execution_count": 14,
     "metadata": {},
     "output_type": "execute_result"
    }
   ],
   "source": [
    "model.evaluate(x_test.reshape(-1,28,28,1), t_test)"
   ]
  },
  {
   "cell_type": "code",
   "execution_count": 15,
   "metadata": {
    "colab": {
     "base_uri": "https://localhost:8080/",
     "height": 295
    },
    "id": "NrWw136Q8rCX",
    "outputId": "4b381262-3253-4cb9-8e47-29af57193146"
   },
   "outputs": [
    {
     "data": {
      "image/png": "[encoded data removed]",
      "text/plain": [
       "<Figure size 432x288 with 1 Axes>"
      ]
     },
     "metadata": {
      "needs_background": "light"
     },
     "output_type": "display_data"
    }
   ],
   "source": [
    "plt.title('Loss')\n",
    "plt.grid()\n",
    "plt.xlabel('epochs')\n",
    "plt.ylabel('loss')\n",
    "plt.plot(hist.history['loss'], label='train loss')\n",
    "plt.plot(hist.history['val_loss'], label='validation loss')\n",
    "plt.legend(loc='best')\n",
    "\n",
    "plt.show()"
   ]
  },
  {
   "cell_type": "code",
   "execution_count": 16,
   "metadata": {
    "colab": {
     "base_uri": "https://localhost:8080/",
     "height": 295
    },
    "id": "X63MrOy663OK",
    "outputId": "8a431636-59af-458c-b469-c398357426ed"
   },
   "outputs": [
    {
     "data": {
      "image/png": "[encoded data removed]",
      "text/plain": [
       "<Figure size 432x288 with 1 Axes>"
      ]
     },
     "metadata": {
      "needs_background": "light"
     },
     "output_type": "display_data"
    }
   ],
   "source": [
    "plt.title('Accuracy')\n",
    "plt.grid()\n",
    "plt.xlabel('epochs')\n",
    "plt.ylabel('accuracy')\n",
    "plt.plot(hist.history['accuracy'], label='train accuracy')\n",
    "plt.plot(hist.history['val_accuracy'], label='validation accuracy')\n",
    "plt.legend(loc='best')\n",
    "\n",
    "plt.show()"
   ]
  },
  {
   "cell_type": "code",
   "execution_count": 17,
   "metadata": {
    "colab": {
     "base_uri": "https://localhost:8080/"
    },
    "id": "K6kQvNeHxCpj",
    "outputId": "5195f812-1e3e-45d9-a2a6-051074b06219"
   },
   "outputs": [
    {
     "name": "stdout",
     "output_type": "stream",
     "text": [
      "891\n",
      "<class 'numpy.ndarray'> (1, 10)\n",
      "[[1.89882075e-27 4.84834846e-11 1.00000000e+00 2.81559674e-17\n",
      "  0.00000000e+00 9.59995959e-26 1.03758224e-20 3.60946180e-36\n",
      "  2.25638489e-20 1.11731789e-23]]\n",
      "2 [0. 0. 1. 0. 0. 0. 0. 0. 0. 0.]\n"
     ]
    }
   ],
   "source": [
    "rand_idx = np.random.randint(len(x_test))\n",
    "\n",
    "print(rand_idx)\n",
    "\n",
    "predicted_val = model.predict(x_test[rand_idx].reshape(-1,28,28,1))\n",
    "\n",
    "print(type(predicted_val), predicted_val.shape)\n",
    "\n",
    "print(predicted_val)\n",
    "\n",
    "print(np.argmax(predicted_val), t_test[rand_idx])"
   ]
  },
  {
   "cell_type": "code",
   "execution_count": null,
   "metadata": {
    "id": "uKwSZIhR7Fkk"
   },
   "outputs": [],
   "source": []
  }
 ],
 "metadata": {
  "accelerator": "GPU",
  "colab": {
   "collapsed_sections": [],
   "name": "TF_2_x_CNN_4_Exercise_Cross.ipynb",
   "provenance": []
  },
  "kernelspec": {
   "display_name": "Python 3",
   "language": "python",
   "name": "python3"
  },
  "language_info": {
   "codemirror_mode": {
    "name": "ipython",
    "version": 3
   },
   "file_extension": ".py",
   "mimetype": "text/x-python",
   "name": "python",
   "nbconvert_exporter": "python",
   "pygments_lexer": "ipython3",
   "version": "3.7.3"
  }
 },
 "nbformat": 4,
 "nbformat_minor": 1
}
