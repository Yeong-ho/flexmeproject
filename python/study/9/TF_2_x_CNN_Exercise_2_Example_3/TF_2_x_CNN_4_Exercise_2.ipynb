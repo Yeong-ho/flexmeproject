{
 "cells": [
  {
   "cell_type": "code",
   "execution_count": 1,
   "metadata": {
    "id": "Mz7L7JQA0zBd"
   },
   "outputs": [],
   "source": [
    "import tensorflow as tf\n",
    "\n",
    "from tensorflow.keras.layers import Flatten, Dense, Conv2D, MaxPool2D\n",
    "from tensorflow.keras.models import Sequential\n",
    "from tensorflow.keras.optimizers import Adam\n",
    "from tensorflow.keras.datasets import mnist\n",
    "\n",
    "import numpy as np\n",
    "from datetime import datetime\n",
    "import matplotlib.pyplot as plt"
   ]
  },
  {
   "cell_type": "code",
   "execution_count": 2,
   "metadata": {
    "colab": {
     "base_uri": "https://localhost:8080/"
    },
    "id": "hWSWQdg61_pp",
    "outputId": "01fa2905-7201-4b41-f93f-5f1217dce7d3"
   },
   "outputs": [
    {
     "name": "stdout",
     "output_type": "stream",
     "text": [
      "x_train.shape =  (60000, 28, 28)  , x_test.shape =  (10000, 28, 28)\n",
      "t_train.shape =  (60000,)  , t_test.shape =  (10000,)\n"
     ]
    }
   ],
   "source": [
    "(x_train, t_train), (x_test, t_test) = mnist.load_data()\n",
    "\n",
    "x_train = x_train / 255.0\n",
    "x_test = x_test / 255.0\n",
    "\n",
    "print('x_train.shape = ', x_train.shape, ' , x_test.shape = ', x_test.shape)\n",
    "print('t_train.shape = ', t_train.shape, ' , t_test.shape = ', t_test.shape)"
   ]
  },
  {
   "cell_type": "code",
   "execution_count": 3,
   "metadata": {
    "colab": {
     "base_uri": "https://localhost:8080/",
     "height": 589
    },
    "id": "8dvRVX7M_0dY",
    "outputId": "7baecaaa-e8ae-448e-e506-fe0de50847e6"
   },
   "outputs": [
    {
     "data": {
      "image/png": "[encoded data removed]",
      "text/plain": [
       "<Figure size 720x720 with 25 Axes>"
      ]
     },
     "metadata": {},
     "output_type": "display_data"
    }
   ],
   "source": [
    "# 데이터 출력\n",
    "\n",
    "plt.figure(figsize=(10,10))\n",
    "\n",
    "for index in range(25):\n",
    "\n",
    "    plt.subplot(5, 5, index+1)\n",
    "    plt.xticks([])\n",
    "    plt.yticks([])\n",
    "    plt.grid(False)\n",
    "    plt.imshow(x_train[index], cmap='gray')\n",
    "    plt.xlabel(str(t_train[index]))\n",
    "\n",
    "plt.show()"
   ]
  },
  {
   "cell_type": "code",
   "execution_count": 4,
   "metadata": {
    "id": "TyTj4TLi3L2Q"
   },
   "outputs": [],
   "source": [
    "model = Sequential()\n",
    "\n",
    "model.add(Conv2D(input_shape=(28,28,1), \n",
    "                 kernel_size=3, filters=32, \n",
    "                 strides=(1,1), activation='relu', padding='SAME'))\n",
    "\n",
    "model.add(MaxPool2D(pool_size=(2,2), padding='SAME'))\n",
    "\n",
    "model.add(Flatten())\n",
    "\n",
    "model.add(Dense(10, activation='softmax'))"
   ]
  },
  {
   "cell_type": "code",
   "execution_count": 5,
   "metadata": {
    "colab": {
     "base_uri": "https://localhost:8080/"
    },
    "id": "PRkYkMr6Dk1H",
    "outputId": "5c10aba0-52ab-492d-aa32-fd292780d382"
   },
   "outputs": [
    {
     "name": "stdout",
     "output_type": "stream",
     "text": [
      "Model: \"sequential\"\n",
      "_________________________________________________________________\n",
      "Layer (type)                 Output Shape              Param #   \n",
      "=================================================================\n",
      "conv2d (Conv2D)              (None, 28, 28, 32)        320       \n",
      "_________________________________________________________________\n",
      "max_pooling2d (MaxPooling2D) (None, 14, 14, 32)        0         \n",
      "_________________________________________________________________\n",
      "flatten (Flatten)            (None, 6272)              0         \n",
      "_________________________________________________________________\n",
      "dense (Dense)                (None, 10)                62730     \n",
      "=================================================================\n",
      "Total params: 63,050\n",
      "Trainable params: 63,050\n",
      "Non-trainable params: 0\n",
      "_________________________________________________________________\n"
     ]
    }
   ],
   "source": [
    "# model compile\n",
    "# one hot encoding 방식이 아니기 때문에, loss=sparse_categorical_crossentropy 정의\n",
    "\n",
    "model.compile(optimizer=Adam(learning_rate=0.001), \n",
    "              loss='sparse_categorical_crossentropy', metrics=['accuracy'])\n",
    "\n",
    "model.summary()"
   ]
  },
  {
   "cell_type": "code",
   "execution_count": 6,
   "metadata": {
    "colab": {
     "base_uri": "https://localhost:8080/"
    },
    "id": "lWC9NA-G5vvz",
    "outputId": "08e08ef8-2d5c-40dc-d505-bc7c38e86327"
   },
   "outputs": [
    {
     "name": "stdout",
     "output_type": "stream",
     "text": [
      "Epoch 1/50\n",
      "960/960 [==============================] - 11s 11ms/step - loss: 0.2854 - accuracy: 0.9175 - val_loss: 0.1292 - val_accuracy: 0.9651\n",
      "Epoch 2/50\n",
      "960/960 [==============================] - 11s 12ms/step - loss: 0.1078 - accuracy: 0.9690 - val_loss: 0.0948 - val_accuracy: 0.9736\n",
      "Epoch 3/50\n",
      "960/960 [==============================] - 12s 13ms/step - loss: 0.0774 - accuracy: 0.9777 - val_loss: 0.0821 - val_accuracy: 0.9761\n",
      "Epoch 4/50\n",
      "960/960 [==============================] - 13s 14ms/step - loss: 0.0626 - accuracy: 0.9817 - val_loss: 0.0704 - val_accuracy: 0.9803\n",
      "Epoch 5/50\n",
      "960/960 [==============================] - 12s 13ms/step - loss: 0.0535 - accuracy: 0.9841 - val_loss: 0.0682 - val_accuracy: 0.9800\n",
      "Epoch 6/50\n",
      "960/960 [==============================] - 13s 13ms/step - loss: 0.0461 - accuracy: 0.9859 - val_loss: 0.0707 - val_accuracy: 0.9787\n",
      "Epoch 7/50\n",
      "960/960 [==============================] - 17s 18ms/step - loss: 0.0411 - accuracy: 0.9876 - val_loss: 0.0700 - val_accuracy: 0.9793\n",
      "Epoch 8/50\n",
      "960/960 [==============================] - 18s 19ms/step - loss: 0.0362 - accuracy: 0.9888 - val_loss: 0.0653 - val_accuracy: 0.9812\n",
      "Epoch 9/50\n",
      "960/960 [==============================] - 14s 14ms/step - loss: 0.0314 - accuracy: 0.9908 - val_loss: 0.0671 - val_accuracy: 0.9818\n",
      "Epoch 10/50\n",
      "960/960 [==============================] - 13s 13ms/step - loss: 0.0281 - accuracy: 0.9920 - val_loss: 0.0675 - val_accuracy: 0.9813\n",
      "Epoch 11/50\n",
      "960/960 [==============================] - 15s 15ms/step - loss: 0.0244 - accuracy: 0.9927 - val_loss: 0.0674 - val_accuracy: 0.9821\n",
      "Epoch 12/50\n",
      "960/960 [==============================] - 14s 14ms/step - loss: 0.0214 - accuracy: 0.9941 - val_loss: 0.0738 - val_accuracy: 0.9811\n",
      "Epoch 13/50\n",
      "960/960 [==============================] - 13s 14ms/step - loss: 0.0199 - accuracy: 0.9942 - val_loss: 0.0784 - val_accuracy: 0.9798\n",
      "Epoch 14/50\n",
      "960/960 [==============================] - 12s 13ms/step - loss: 0.0167 - accuracy: 0.9952 - val_loss: 0.0717 - val_accuracy: 0.9829\n",
      "Epoch 15/50\n",
      "960/960 [==============================] - 13s 13ms/step - loss: 0.0148 - accuracy: 0.9961 - val_loss: 0.0748 - val_accuracy: 0.9818\n",
      "Epoch 16/50\n",
      "960/960 [==============================] - 12s 13ms/step - loss: 0.0122 - accuracy: 0.9968 - val_loss: 0.0799 - val_accuracy: 0.9805\n",
      "Epoch 17/50\n",
      "960/960 [==============================] - 13s 14ms/step - loss: 0.0115 - accuracy: 0.9968 - val_loss: 0.0809 - val_accuracy: 0.9812\n",
      "Epoch 18/50\n",
      "960/960 [==============================] - 12s 13ms/step - loss: 0.0097 - accuracy: 0.9975 - val_loss: 0.0822 - val_accuracy: 0.9814\n",
      "Epoch 19/50\n",
      "960/960 [==============================] - 12s 13ms/step - loss: 0.0079 - accuracy: 0.9981 - val_loss: 0.0840 - val_accuracy: 0.9805\n",
      "Epoch 20/50\n",
      "960/960 [==============================] - 12s 13ms/step - loss: 0.0081 - accuracy: 0.9977 - val_loss: 0.0864 - val_accuracy: 0.9800\n",
      "Epoch 21/50\n",
      "960/960 [==============================] - 12s 13ms/step - loss: 0.0065 - accuracy: 0.9986 - val_loss: 0.0912 - val_accuracy: 0.9817\n",
      "Epoch 22/50\n",
      "960/960 [==============================] - 12s 13ms/step - loss: 0.0062 - accuracy: 0.9984 - val_loss: 0.0929 - val_accuracy: 0.9814\n",
      "Epoch 23/50\n",
      "960/960 [==============================] - 12s 13ms/step - loss: 0.0048 - accuracy: 0.9991 - val_loss: 0.0939 - val_accuracy: 0.9811\n",
      "Epoch 24/50\n",
      "960/960 [==============================] - 12s 13ms/step - loss: 0.0047 - accuracy: 0.9988 - val_loss: 0.1040 - val_accuracy: 0.9802\n",
      "Epoch 25/50\n",
      "960/960 [==============================] - 13s 14ms/step - loss: 0.0047 - accuracy: 0.9989 - val_loss: 0.0975 - val_accuracy: 0.9806\n",
      "Epoch 26/50\n",
      "960/960 [==============================] - 12s 13ms/step - loss: 0.0042 - accuracy: 0.9990 - val_loss: 0.1037 - val_accuracy: 0.9808\n",
      "Epoch 27/50\n",
      "960/960 [==============================] - 12s 12ms/step - loss: 0.0037 - accuracy: 0.9991 - val_loss: 0.1011 - val_accuracy: 0.9812\n",
      "Epoch 28/50\n",
      "960/960 [==============================] - 12s 13ms/step - loss: 0.0021 - accuracy: 0.9998 - val_loss: 0.1029 - val_accuracy: 0.9805\n",
      "Epoch 29/50\n",
      "960/960 [==============================] - 12s 13ms/step - loss: 0.0041 - accuracy: 0.9989 - val_loss: 0.0980 - val_accuracy: 0.9819\n",
      "Epoch 30/50\n",
      "960/960 [==============================] - 13s 13ms/step - loss: 0.0029 - accuracy: 0.9994 - val_loss: 0.1054 - val_accuracy: 0.9812\n",
      "Epoch 31/50\n",
      "960/960 [==============================] - 12s 13ms/step - loss: 0.0017 - accuracy: 0.9998 - val_loss: 0.1049 - val_accuracy: 0.9820\n",
      "Epoch 32/50\n",
      "960/960 [==============================] - 12s 13ms/step - loss: 9.1761e-04 - accuracy: 0.9999 - val_loss: 0.1143 - val_accuracy: 0.9803\n",
      "Epoch 33/50\n",
      "960/960 [==============================] - 12s 12ms/step - loss: 0.0048 - accuracy: 0.9985 - val_loss: 0.1178 - val_accuracy: 0.9803\n",
      "Epoch 34/50\n",
      "960/960 [==============================] - 12s 12ms/step - loss: 0.0016 - accuracy: 0.9997 - val_loss: 0.1073 - val_accuracy: 0.9823\n",
      "Epoch 35/50\n",
      "960/960 [==============================] - 13s 13ms/step - loss: 0.0012 - accuracy: 0.9999 - val_loss: 0.1105 - val_accuracy: 0.9823\n",
      "Epoch 36/50\n",
      "960/960 [==============================] - 12s 13ms/step - loss: 6.2966e-04 - accuracy: 1.0000 - val_loss: 0.1072 - val_accuracy: 0.9821\n",
      "Epoch 37/50\n",
      "960/960 [==============================] - 12s 13ms/step - loss: 0.0035 - accuracy: 0.9990 - val_loss: 0.1189 - val_accuracy: 0.9807\n",
      "Epoch 38/50\n",
      "960/960 [==============================] - 13s 13ms/step - loss: 0.0026 - accuracy: 0.9992 - val_loss: 0.1115 - val_accuracy: 0.9811\n",
      "Epoch 39/50\n",
      "960/960 [==============================] - 12s 13ms/step - loss: 5.1283e-04 - accuracy: 1.0000 - val_loss: 0.1124 - val_accuracy: 0.9816\n",
      "Epoch 40/50\n",
      "960/960 [==============================] - 12s 13ms/step - loss: 3.8319e-04 - accuracy: 1.0000 - val_loss: 0.1128 - val_accuracy: 0.9820\n",
      "Epoch 41/50\n",
      "960/960 [==============================] - 13s 13ms/step - loss: 2.3496e-04 - accuracy: 1.0000 - val_loss: 0.1139 - val_accuracy: 0.9826\n",
      "Epoch 42/50\n",
      "960/960 [==============================] - 13s 13ms/step - loss: 0.0037 - accuracy: 0.9988 - val_loss: 0.1227 - val_accuracy: 0.9799\n",
      "Epoch 43/50\n",
      "960/960 [==============================] - 13s 13ms/step - loss: 0.0016 - accuracy: 0.9996 - val_loss: 0.1193 - val_accuracy: 0.9821\n",
      "Epoch 44/50\n",
      "960/960 [==============================] - 13s 13ms/step - loss: 3.6864e-04 - accuracy: 1.0000 - val_loss: 0.1178 - val_accuracy: 0.9819\n",
      "Epoch 45/50\n",
      "960/960 [==============================] - 12s 13ms/step - loss: 2.2377e-04 - accuracy: 1.0000 - val_loss: 0.1217 - val_accuracy: 0.9819\n",
      "Epoch 46/50\n",
      "960/960 [==============================] - 12s 13ms/step - loss: 2.2695e-04 - accuracy: 1.0000 - val_loss: 0.1206 - val_accuracy: 0.9812\n",
      "Epoch 47/50\n",
      "960/960 [==============================] - 13s 14ms/step - loss: 0.0032 - accuracy: 0.9990 - val_loss: 0.1387 - val_accuracy: 0.9791\n",
      "Epoch 48/50\n",
      "960/960 [==============================] - 14s 14ms/step - loss: 0.0012 - accuracy: 0.9997 - val_loss: 0.1234 - val_accuracy: 0.9812\n",
      "Epoch 49/50\n",
      "960/960 [==============================] - 14s 15ms/step - loss: 2.8558e-04 - accuracy: 1.0000 - val_loss: 0.1195 - val_accuracy: 0.9823\n",
      "Epoch 50/50\n",
      "960/960 [==============================] - 13s 13ms/step - loss: 1.3073e-04 - accuracy: 1.0000 - val_loss: 0.1207 - val_accuracy: 0.9824\n",
      "\n",
      "\n",
      "Elapsed Time =>  0:10:40.718335\n"
     ]
    }
   ],
   "source": [
    "start_time = datetime.now()\n",
    "\n",
    "hist = model.fit(x_train.reshape(-1,28,28,1), t_train, \n",
    "                 batch_size=50, epochs=50, validation_split=0.2)\n",
    "\n",
    "end_time = datetime.now()\n",
    "\n",
    "print('\\n\\nElapsed Time => ', end_time - start_time)"
   ]
  },
  {
   "cell_type": "code",
   "execution_count": 7,
   "metadata": {
    "colab": {
     "base_uri": "https://localhost:8080/"
    },
    "id": "2C2fV-8K6XsU",
    "outputId": "8f171f73-4c86-4b21-8d6a-9511a9816e0b"
   },
   "outputs": [
    {
     "name": "stdout",
     "output_type": "stream",
     "text": [
      "313/313 [==============================] - 1s 3ms/step - loss: 0.1052 - accuracy: 0.9835\n"
     ]
    },
    {
     "data": {
      "text/plain": [
       "[0.10518891364336014, 0.9835000038146973]"
      ]
     },
     "execution_count": 7,
     "metadata": {},
     "output_type": "execute_result"
    }
   ],
   "source": [
    "model.evaluate(x_test.reshape(-1,28,28,1), t_test)"
   ]
  },
  {
   "cell_type": "code",
   "execution_count": 8,
   "metadata": {
    "colab": {
     "base_uri": "https://localhost:8080/",
     "height": 295
    },
    "id": "NrWw136Q8rCX",
    "outputId": "2c89ce3e-644a-41d0-c31a-793c72e525ef"
   },
   "outputs": [
    {
     "data": {
      "image/png": "[encoded data removed]",
      "text/plain": [
       "<Figure size 432x288 with 1 Axes>"
      ]
     },
     "metadata": {
      "needs_background": "light"
     },
     "output_type": "display_data"
    }
   ],
   "source": [
    "plt.title('Loss')\n",
    "plt.grid()\n",
    "plt.xlabel('epochs')\n",
    "plt.ylabel('loss')\n",
    "plt.plot(hist.history['loss'], label='train loss')\n",
    "plt.plot(hist.history['val_loss'], label='validation loss')\n",
    "plt.legend(loc='best')\n",
    "\n",
    "plt.show()"
   ]
  },
  {
   "cell_type": "code",
   "execution_count": 9,
   "metadata": {
    "colab": {
     "base_uri": "https://localhost:8080/",
     "height": 295
    },
    "id": "X63MrOy663OK",
    "outputId": "f4f235ff-748d-422b-f075-d26661675188"
   },
   "outputs": [
    {
     "data": {
      "image/png": "[encoded data removed]",
      "text/plain": [
       "<Figure size 432x288 with 1 Axes>"
      ]
     },
     "metadata": {
      "needs_background": "light"
     },
     "output_type": "display_data"
    }
   ],
   "source": [
    "plt.title('Accuracy')\n",
    "plt.grid()\n",
    "plt.xlabel('epochs')\n",
    "plt.ylabel('accuracy')\n",
    "plt.plot(hist.history['accuracy'], label='train accuracy')\n",
    "plt.plot(hist.history['val_accuracy'], label='validation accuracy')\n",
    "plt.legend(loc='best')\n",
    "\n",
    "plt.show()"
   ]
  },
  {
   "cell_type": "markdown",
   "metadata": {},
   "source": [
    "## 먼저 x_test 를 4차원 tensor 변환"
   ]
  },
  {
   "cell_type": "code",
   "execution_count": 16,
   "metadata": {},
   "outputs": [
    {
     "name": "stdout",
     "output_type": "stream",
     "text": [
      "(10000, 28, 28, 1)\n"
     ]
    }
   ],
   "source": [
    "x_test = x_test.reshape(-1, 28, 28, 1)\n",
    "\n",
    "print(x_test.shape)"
   ]
  },
  {
   "cell_type": "markdown",
   "metadata": {},
   "source": [
    "## 중복하지 않고 random index 추출"
   ]
  },
  {
   "cell_type": "code",
   "execution_count": 17,
   "metadata": {
    "colab": {
     "base_uri": "https://localhost:8080/"
    },
    "id": "K6kQvNeHxCpj",
    "outputId": "08b14028-dcff-4907-f11a-3d35eaa2c55b"
   },
   "outputs": [
    {
     "name": "stdout",
     "output_type": "stream",
     "text": [
      "[3086 5660 7566]\n"
     ]
    }
   ],
   "source": [
    "rand_idx = np.random.choice(len(x_test), 3, replace=False)\n",
    "\n",
    "print(rand_idx)"
   ]
  },
  {
   "cell_type": "markdown",
   "metadata": {},
   "source": [
    "## axis=-1 이용하여 행 기준으로 predict 결과 추출"
   ]
  },
  {
   "cell_type": "code",
   "execution_count": 18,
   "metadata": {},
   "outputs": [
    {
     "name": "stdout",
     "output_type": "stream",
     "text": [
      "<class 'numpy.ndarray'> (3, 10)\n",
      "[4 6 0] [4 6 0]\n"
     ]
    }
   ],
   "source": [
    "predicted_val = model.predict(x_test[rand_idx])\n",
    "\n",
    "print(type(predicted_val), predicted_val.shape)\n",
    "\n",
    "print(np.argmax(predicted_val, axis=-1), t_test[rand_idx])"
   ]
  },
  {
   "cell_type": "markdown",
   "metadata": {},
   "source": [
    "## np.array() 이용하여 4차원 tensor 변환"
   ]
  },
  {
   "cell_type": "code",
   "execution_count": 19,
   "metadata": {
    "id": "uKwSZIhR7Fkk"
   },
   "outputs": [
    {
     "name": "stdout",
     "output_type": "stream",
     "text": [
      "3\n",
      "(3, 28, 28, 1)\n"
     ]
    }
   ],
   "source": [
    "test_data_list = [ x_test[idx]  for idx in rand_idx  ]\n",
    "\n",
    "print(len(test_data_list))\n",
    "\n",
    "test_data_array = np.array(test_data_list)\n",
    "\n",
    "print(test_data_array.shape)"
   ]
  },
  {
   "cell_type": "code",
   "execution_count": 20,
   "metadata": {},
   "outputs": [
    {
     "name": "stdout",
     "output_type": "stream",
     "text": [
      "<class 'numpy.ndarray'> (3, 10)\n",
      "[4 6 0] [4 6 0]\n"
     ]
    }
   ],
   "source": [
    "predicted_val = model.predict(test_data_array)\n",
    "\n",
    "print(type(predicted_val), predicted_val.shape)\n",
    "\n",
    "print(np.argmax(predicted_val, axis=-1), t_test[rand_idx])"
   ]
  },
  {
   "cell_type": "code",
   "execution_count": null,
   "metadata": {},
   "outputs": [],
   "source": []
  }
 ],
 "metadata": {
  "accelerator": "GPU",
  "colab": {
   "collapsed_sections": [],
   "name": "TF_2_x_CNN_4_Exercise_Sparse.ipynb",
   "provenance": []
  },
  "kernelspec": {
   "display_name": "Python 3",
   "language": "python",
   "name": "python3"
  },
  "language_info": {
   "codemirror_mode": {
    "name": "ipython",
    "version": 3
   },
   "file_extension": ".py",
   "mimetype": "text/x-python",
   "name": "python",
   "nbconvert_exporter": "python",
   "pygments_lexer": "ipython3",
   "version": "3.8.3"
  }
 },
 "nbformat": 4,
 "nbformat_minor": 1
}
