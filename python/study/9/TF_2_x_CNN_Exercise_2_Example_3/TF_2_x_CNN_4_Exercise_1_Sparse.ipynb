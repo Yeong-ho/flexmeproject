{
  "nbformat": 4,
  "nbformat_minor": 0,
  "metadata": {
    "colab": {
      "name": "TF_2_x_CNN_4_Exercise_Sparse.ipynb",
      "provenance": [],
      "collapsed_sections": []
    },
    "kernelspec": {
      "name": "python3",
      "display_name": "Python 3"
    },
    "accelerator": "GPU"
  },
  "cells": [
    {
      "cell_type": "code",
      "metadata": {
        "id": "Mz7L7JQA0zBd"
      },
      "source": [
        "import tensorflow as tf\n",
        "\n",
        "from tensorflow.keras.layers import Flatten, Dense, Conv2D, MaxPool2D\n",
        "from tensorflow.keras.models import Sequential\n",
        "from tensorflow.keras.optimizers import Adam\n",
        "from tensorflow.keras.datasets import mnist\n",
        "\n",
        "import numpy as np\n",
        "from datetime import datetime\n",
        "import matplotlib.pyplot as plt"
      ],
      "execution_count": 2,
      "outputs": []
    },
    {
      "cell_type": "code",
      "metadata": {
        "id": "hWSWQdg61_pp",
        "colab": {
          "base_uri": "https://localhost:8080/"
        },
        "outputId": "01fa2905-7201-4b41-f93f-5f1217dce7d3"
      },
      "source": [
        "(x_train, t_train), (x_test, t_test) = mnist.load_data()\n",
        "\n",
        "x_train = x_train / 255.0\n",
        "x_test = x_test / 255.0\n",
        "\n",
        "print('x_train.shape = ', x_train.shape, ' , x_test.shape = ', x_test.shape)\n",
        "print('t_train.shape = ', t_train.shape, ' , t_test.shape = ', t_test.shape)"
      ],
      "execution_count": 3,
      "outputs": [
        {
          "output_type": "stream",
          "name": "stdout",
          "text": [
            "Downloading data from https://storage.googleapis.com/tensorflow/tf-keras-datasets/mnist.npz\n",
            "11493376/11490434 [==============================] - 0s 0us/step\n",
            "11501568/11490434 [==============================] - 0s 0us/step\n",
            "x_train.shape =  (60000, 28, 28)  , x_test.shape =  (10000, 28, 28)\n",
            "t_train.shape =  (60000,)  , t_test.shape =  (10000,)\n"
          ]
        }
      ]
    },
    {
      "cell_type": "code",
      "metadata": {
        "id": "8dvRVX7M_0dY",
        "colab": {
          "base_uri": "https://localhost:8080/",
          "height": 589
        },
        "outputId": "7baecaaa-e8ae-448e-e506-fe0de50847e6"
      },
      "source": [
        "# 데이터 출력\n",
        "\n",
        "plt.figure(figsize=(10,10))\n",
        "\n",
        "for index in range(25):\n",
        "\n",
        "    plt.subplot(5, 5, index+1)\n",
        "    plt.xticks([])\n",
        "    plt.yticks([])\n",
        "    plt.grid(False)\n",
        "    plt.imshow(x_train[index], cmap='gray')\n",
        "    plt.xlabel(str(t_train[index]))\n",
        "\n",
        "plt.show()"
      ],
      "execution_count": 4,
      "outputs": [
        {
          "output_type": "display_data",
          "data": {
            "image/png": "[encoded data removed]",
            "text/plain": [
              "<Figure size 720x720 with 25 Axes>"
            ]
          },
          "metadata": {}
        }
      ]
    },
    {
      "cell_type": "code",
      "metadata": {
        "id": "TyTj4TLi3L2Q"
      },
      "source": [
        "model = Sequential()\n",
        "\n",
        "model.add(Conv2D(input_shape=(28,28,1), \n",
        "                 kernel_size=3, filters=32, \n",
        "                 strides=(1,1), activation='relu', padding='SAME'))\n",
        "\n",
        "model.add(MaxPool2D(pool_size=(2,2), padding='SAME'))\n",
        "\n",
        "model.add(Flatten())\n",
        "\n",
        "model.add(Dense(10, activation='softmax'))"
      ],
      "execution_count": 5,
      "outputs": []
    },
    {
      "cell_type": "code",
      "metadata": {
        "id": "PRkYkMr6Dk1H",
        "colab": {
          "base_uri": "https://localhost:8080/"
        },
        "outputId": "5c10aba0-52ab-492d-aa32-fd292780d382"
      },
      "source": [
        "# model compile\n",
        "# one hot encoding 방식이 아니기 때문에, loss=sparse_categorical_crossentropy 정의\n",
        "\n",
        "model.compile(optimizer=Adam(learning_rate=0.001), \n",
        "              loss='sparse_categorical_crossentropy', metrics=['accuracy'])\n",
        "\n",
        "model.summary()"
      ],
      "execution_count": 6,
      "outputs": [
        {
          "output_type": "stream",
          "name": "stdout",
          "text": [
            "Model: \"sequential\"\n",
            "_________________________________________________________________\n",
            "Layer (type)                 Output Shape              Param #   \n",
            "=================================================================\n",
            "conv2d (Conv2D)              (None, 28, 28, 32)        320       \n",
            "_________________________________________________________________\n",
            "max_pooling2d (MaxPooling2D) (None, 14, 14, 32)        0         \n",
            "_________________________________________________________________\n",
            "flatten (Flatten)            (None, 6272)              0         \n",
            "_________________________________________________________________\n",
            "dense (Dense)                (None, 10)                62730     \n",
            "=================================================================\n",
            "Total params: 63,050\n",
            "Trainable params: 63,050\n",
            "Non-trainable params: 0\n",
            "_________________________________________________________________\n"
          ]
        }
      ]
    },
    {
      "cell_type": "code",
      "metadata": {
        "id": "lWC9NA-G5vvz",
        "colab": {
          "base_uri": "https://localhost:8080/"
        },
        "outputId": "08e08ef8-2d5c-40dc-d505-bc7c38e86327"
      },
      "source": [
        "start_time = datetime.now()\n",
        "\n",
        "hist = model.fit(x_train.reshape(-1,28,28,1), t_train, \n",
        "                 batch_size=50, epochs=50, validation_split=0.2)\n",
        "\n",
        "end_time = datetime.now()\n",
        "\n",
        "print('\\n\\nElapsed Time => ', end_time - start_time)"
      ],
      "execution_count": 7,
      "outputs": [
        {
          "output_type": "stream",
          "name": "stdout",
          "text": [
            "Epoch 1/50\n",
            "960/960 [==============================] - 37s 5ms/step - loss: 0.2915 - accuracy: 0.9171 - val_loss: 0.1260 - val_accuracy: 0.9668\n",
            "Epoch 2/50\n",
            "960/960 [==============================] - 4s 5ms/step - loss: 0.1020 - accuracy: 0.9705 - val_loss: 0.0864 - val_accuracy: 0.9762\n",
            "Epoch 3/50\n",
            "960/960 [==============================] - 4s 5ms/step - loss: 0.0732 - accuracy: 0.9789 - val_loss: 0.0861 - val_accuracy: 0.9769\n",
            "Epoch 4/50\n",
            "960/960 [==============================] - 5s 5ms/step - loss: 0.0602 - accuracy: 0.9825 - val_loss: 0.0712 - val_accuracy: 0.9802\n",
            "Epoch 5/50\n",
            "960/960 [==============================] - 5s 5ms/step - loss: 0.0500 - accuracy: 0.9854 - val_loss: 0.0686 - val_accuracy: 0.9796\n",
            "Epoch 6/50\n",
            "960/960 [==============================] - 4s 4ms/step - loss: 0.0442 - accuracy: 0.9865 - val_loss: 0.0679 - val_accuracy: 0.9797\n",
            "Epoch 7/50\n",
            "960/960 [==============================] - 4s 4ms/step - loss: 0.0386 - accuracy: 0.9881 - val_loss: 0.0671 - val_accuracy: 0.9808\n",
            "Epoch 8/50\n",
            "960/960 [==============================] - 5s 5ms/step - loss: 0.0348 - accuracy: 0.9896 - val_loss: 0.0662 - val_accuracy: 0.9810\n",
            "Epoch 9/50\n",
            "960/960 [==============================] - 4s 4ms/step - loss: 0.0295 - accuracy: 0.9911 - val_loss: 0.0677 - val_accuracy: 0.9803\n",
            "Epoch 10/50\n",
            "960/960 [==============================] - 4s 4ms/step - loss: 0.0257 - accuracy: 0.9926 - val_loss: 0.0752 - val_accuracy: 0.9783\n",
            "Epoch 11/50\n",
            "960/960 [==============================] - 4s 4ms/step - loss: 0.0228 - accuracy: 0.9937 - val_loss: 0.0714 - val_accuracy: 0.9812\n",
            "Epoch 12/50\n",
            "960/960 [==============================] - 4s 5ms/step - loss: 0.0201 - accuracy: 0.9944 - val_loss: 0.0691 - val_accuracy: 0.9817\n",
            "Epoch 13/50\n",
            "960/960 [==============================] - 4s 5ms/step - loss: 0.0174 - accuracy: 0.9954 - val_loss: 0.0730 - val_accuracy: 0.9806\n",
            "Epoch 14/50\n",
            "960/960 [==============================] - 5s 5ms/step - loss: 0.0150 - accuracy: 0.9956 - val_loss: 0.0729 - val_accuracy: 0.9808\n",
            "Epoch 15/50\n",
            "960/960 [==============================] - 4s 5ms/step - loss: 0.0127 - accuracy: 0.9965 - val_loss: 0.0742 - val_accuracy: 0.9812\n",
            "Epoch 16/50\n",
            "960/960 [==============================] - 4s 4ms/step - loss: 0.0111 - accuracy: 0.9974 - val_loss: 0.0782 - val_accuracy: 0.9799\n",
            "Epoch 17/50\n",
            "960/960 [==============================] - 4s 4ms/step - loss: 0.0095 - accuracy: 0.9978 - val_loss: 0.0797 - val_accuracy: 0.9816\n",
            "Epoch 18/50\n",
            "960/960 [==============================] - 4s 4ms/step - loss: 0.0086 - accuracy: 0.9980 - val_loss: 0.0780 - val_accuracy: 0.9805\n",
            "Epoch 19/50\n",
            "960/960 [==============================] - 4s 5ms/step - loss: 0.0069 - accuracy: 0.9984 - val_loss: 0.0853 - val_accuracy: 0.9799\n",
            "Epoch 20/50\n",
            "960/960 [==============================] - 4s 5ms/step - loss: 0.0062 - accuracy: 0.9986 - val_loss: 0.0886 - val_accuracy: 0.9793\n",
            "Epoch 21/50\n",
            "960/960 [==============================] - 4s 4ms/step - loss: 0.0064 - accuracy: 0.9983 - val_loss: 0.0925 - val_accuracy: 0.9795\n",
            "Epoch 22/50\n",
            "960/960 [==============================] - 4s 4ms/step - loss: 0.0044 - accuracy: 0.9992 - val_loss: 0.0895 - val_accuracy: 0.9803\n",
            "Epoch 23/50\n",
            "960/960 [==============================] - 4s 5ms/step - loss: 0.0041 - accuracy: 0.9990 - val_loss: 0.0960 - val_accuracy: 0.9802\n",
            "Epoch 24/50\n",
            "960/960 [==============================] - 5s 5ms/step - loss: 0.0044 - accuracy: 0.9990 - val_loss: 0.0964 - val_accuracy: 0.9792\n",
            "Epoch 25/50\n",
            "960/960 [==============================] - 4s 5ms/step - loss: 0.0036 - accuracy: 0.9993 - val_loss: 0.0912 - val_accuracy: 0.9807\n",
            "Epoch 26/50\n",
            "960/960 [==============================] - 4s 4ms/step - loss: 0.0020 - accuracy: 0.9997 - val_loss: 0.0971 - val_accuracy: 0.9797\n",
            "Epoch 27/50\n",
            "960/960 [==============================] - 4s 4ms/step - loss: 0.0044 - accuracy: 0.9988 - val_loss: 0.1039 - val_accuracy: 0.9794\n",
            "Epoch 28/50\n",
            "960/960 [==============================] - 4s 4ms/step - loss: 0.0032 - accuracy: 0.9992 - val_loss: 0.0998 - val_accuracy: 0.9802\n",
            "Epoch 29/50\n",
            "960/960 [==============================] - 4s 4ms/step - loss: 0.0012 - accuracy: 0.9999 - val_loss: 0.0994 - val_accuracy: 0.9811\n",
            "Epoch 30/50\n",
            "960/960 [==============================] - 4s 4ms/step - loss: 0.0012 - accuracy: 0.9999 - val_loss: 0.1136 - val_accuracy: 0.9784\n",
            "Epoch 31/50\n",
            "960/960 [==============================] - 4s 4ms/step - loss: 0.0032 - accuracy: 0.9992 - val_loss: 0.1106 - val_accuracy: 0.9792\n",
            "Epoch 32/50\n",
            "960/960 [==============================] - 4s 4ms/step - loss: 0.0011 - accuracy: 0.9999 - val_loss: 0.1070 - val_accuracy: 0.9798\n",
            "Epoch 33/50\n",
            "960/960 [==============================] - 4s 5ms/step - loss: 0.0023 - accuracy: 0.9994 - val_loss: 0.1180 - val_accuracy: 0.9791\n",
            "Epoch 34/50\n",
            "960/960 [==============================] - 4s 4ms/step - loss: 0.0016 - accuracy: 0.9997 - val_loss: 0.1113 - val_accuracy: 0.9802\n",
            "Epoch 35/50\n",
            "960/960 [==============================] - 4s 4ms/step - loss: 0.0014 - accuracy: 0.9997 - val_loss: 0.1157 - val_accuracy: 0.9803\n",
            "Epoch 36/50\n",
            "960/960 [==============================] - 4s 4ms/step - loss: 0.0019 - accuracy: 0.9995 - val_loss: 0.1212 - val_accuracy: 0.9790\n",
            "Epoch 37/50\n",
            "960/960 [==============================] - 4s 4ms/step - loss: 0.0015 - accuracy: 0.9998 - val_loss: 0.1155 - val_accuracy: 0.9803\n",
            "Epoch 38/50\n",
            "960/960 [==============================] - 5s 5ms/step - loss: 4.3547e-04 - accuracy: 1.0000 - val_loss: 0.1129 - val_accuracy: 0.9812\n",
            "Epoch 39/50\n",
            "960/960 [==============================] - 4s 5ms/step - loss: 6.2731e-04 - accuracy: 0.9999 - val_loss: 0.1619 - val_accuracy: 0.9754\n",
            "Epoch 40/50\n",
            "960/960 [==============================] - 4s 5ms/step - loss: 0.0038 - accuracy: 0.9987 - val_loss: 0.1258 - val_accuracy: 0.9794\n",
            "Epoch 41/50\n",
            "960/960 [==============================] - 4s 5ms/step - loss: 5.0603e-04 - accuracy: 0.9999 - val_loss: 0.1157 - val_accuracy: 0.9818\n",
            "Epoch 42/50\n",
            "960/960 [==============================] - 4s 4ms/step - loss: 5.5835e-04 - accuracy: 0.9999 - val_loss: 0.1164 - val_accuracy: 0.9818\n",
            "Epoch 43/50\n",
            "960/960 [==============================] - 4s 4ms/step - loss: 1.7301e-04 - accuracy: 1.0000 - val_loss: 0.1159 - val_accuracy: 0.9814\n",
            "Epoch 44/50\n",
            "960/960 [==============================] - 4s 4ms/step - loss: 1.2808e-04 - accuracy: 1.0000 - val_loss: 0.1182 - val_accuracy: 0.9815\n",
            "Epoch 45/50\n",
            "960/960 [==============================] - 4s 4ms/step - loss: 1.2045e-04 - accuracy: 1.0000 - val_loss: 0.1260 - val_accuracy: 0.9797\n",
            "Epoch 46/50\n",
            "960/960 [==============================] - 4s 5ms/step - loss: 0.0055 - accuracy: 0.9982 - val_loss: 0.1264 - val_accuracy: 0.9805\n",
            "Epoch 47/50\n",
            "960/960 [==============================] - 4s 5ms/step - loss: 2.9822e-04 - accuracy: 1.0000 - val_loss: 0.1209 - val_accuracy: 0.9811\n",
            "Epoch 48/50\n",
            "960/960 [==============================] - 4s 4ms/step - loss: 1.4092e-04 - accuracy: 1.0000 - val_loss: 0.1184 - val_accuracy: 0.9819\n",
            "Epoch 49/50\n",
            "960/960 [==============================] - 4s 5ms/step - loss: 1.0297e-04 - accuracy: 1.0000 - val_loss: 0.1196 - val_accuracy: 0.9818\n",
            "Epoch 50/50\n",
            "960/960 [==============================] - 4s 5ms/step - loss: 8.5027e-05 - accuracy: 1.0000 - val_loss: 0.1222 - val_accuracy: 0.9815\n",
            "\n",
            "\n",
            "Elapsed Time =>  0:04:22.913148\n"
          ]
        }
      ]
    },
    {
      "cell_type": "code",
      "metadata": {
        "id": "2C2fV-8K6XsU",
        "colab": {
          "base_uri": "https://localhost:8080/"
        },
        "outputId": "8f171f73-4c86-4b21-8d6a-9511a9816e0b"
      },
      "source": [
        "model.evaluate(x_test.reshape(-1,28,28,1), t_test)"
      ],
      "execution_count": 8,
      "outputs": [
        {
          "output_type": "stream",
          "name": "stdout",
          "text": [
            "313/313 [==============================] - 1s 4ms/step - loss: 0.1052 - accuracy: 0.9839\n"
          ]
        },
        {
          "output_type": "execute_result",
          "data": {
            "text/plain": [
              "[0.10515271127223969, 0.9839000105857849]"
            ]
          },
          "metadata": {},
          "execution_count": 8
        }
      ]
    },
    {
      "cell_type": "code",
      "metadata": {
        "id": "NrWw136Q8rCX",
        "colab": {
          "base_uri": "https://localhost:8080/",
          "height": 295
        },
        "outputId": "2c89ce3e-644a-41d0-c31a-793c72e525ef"
      },
      "source": [
        "plt.title('Loss')\n",
        "plt.grid()\n",
        "plt.xlabel('epochs')\n",
        "plt.ylabel('loss')\n",
        "plt.plot(hist.history['loss'], label='train loss')\n",
        "plt.plot(hist.history['val_loss'], label='validation loss')\n",
        "plt.legend(loc='best')\n",
        "\n",
        "plt.show()"
      ],
      "execution_count": 9,
      "outputs": [
        {
          "output_type": "display_data",
          "data": {
            "image/png": "[encoded data removed]",
            "text/plain": [
              "<Figure size 432x288 with 1 Axes>"
            ]
          },
          "metadata": {
            "needs_background": "light"
          }
        }
      ]
    },
    {
      "cell_type": "code",
      "metadata": {
        "id": "X63MrOy663OK",
        "colab": {
          "base_uri": "https://localhost:8080/",
          "height": 295
        },
        "outputId": "f4f235ff-748d-422b-f075-d26661675188"
      },
      "source": [
        "plt.title('Accuracy')\n",
        "plt.grid()\n",
        "plt.xlabel('epochs')\n",
        "plt.ylabel('accuracy')\n",
        "plt.plot(hist.history['accuracy'], label='train accuracy')\n",
        "plt.plot(hist.history['val_accuracy'], label='validation accuracy')\n",
        "plt.legend(loc='best')\n",
        "\n",
        "plt.show()"
      ],
      "execution_count": 10,
      "outputs": [
        {
          "output_type": "display_data",
          "data": {
            "image/png": "[encoded data removed]",
            "text/plain": [
              "<Figure size 432x288 with 1 Axes>"
            ]
          },
          "metadata": {
            "needs_background": "light"
          }
        }
      ]
    },
    {
      "cell_type": "code",
      "metadata": {
        "colab": {
          "base_uri": "https://localhost:8080/"
        },
        "id": "K6kQvNeHxCpj",
        "outputId": "08b14028-dcff-4907-f11a-3d35eaa2c55b"
      },
      "source": [
        "rand_idx = np.random.randint(len(x_test))\n",
        "\n",
        "print(rand_idx)\n",
        "\n",
        "predicted_val = model.predict(x_test[rand_idx].reshape(-1,28,28,1))\n",
        "\n",
        "print(type(predicted_val), predicted_val.shape)\n",
        "\n",
        "print(predicted_val)\n",
        "\n",
        "print(np.argmax(predicted_val), t_test[rand_idx])"
      ],
      "execution_count": 15,
      "outputs": [
        {
          "output_type": "stream",
          "name": "stdout",
          "text": [
            "3168\n",
            "<class 'numpy.ndarray'> (1, 10)\n",
            "[[2.9477740e-31 1.0732472e-25 1.2657751e-20 3.5341849e-13 1.3210143e-16\n",
            "  1.9856330e-19 1.2783073e-30 2.5408397e-16 5.2557976e-16 1.0000000e+00]]\n",
            "9 9\n"
          ]
        }
      ]
    },
    {
      "cell_type": "code",
      "metadata": {
        "id": "uKwSZIhR7Fkk"
      },
      "source": [
        ""
      ],
      "execution_count": null,
      "outputs": []
    }
  ]
}