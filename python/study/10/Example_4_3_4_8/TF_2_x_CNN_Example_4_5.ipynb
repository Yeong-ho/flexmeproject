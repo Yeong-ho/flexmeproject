{
 "cells": [
  {
   "cell_type": "code",
   "execution_count": 1,
   "metadata": {
    "id": "Mz7L7JQA0zBd"
   },
   "outputs": [],
   "source": [
    "import tensorflow as tf\n",
    "\n",
    "from tensorflow.keras.layers import Flatten, Dense, Conv2D, MaxPooling2D, Dropout\n",
    "from tensorflow.keras.models import Sequential\n",
    "from tensorflow.keras.optimizers import Adam\n",
    "from tensorflow.keras.datasets import mnist\n",
    "\n",
    "import numpy as np\n",
    "from datetime import datetime\n",
    "import matplotlib.pyplot as plt"
   ]
  },
  {
   "cell_type": "code",
   "execution_count": 2,
   "metadata": {
    "colab": {
     "base_uri": "https://localhost:8080/"
    },
    "id": "hWSWQdg61_pp",
    "outputId": "fb77e4be-39bb-4cab-e23f-f0a9daa8e7b7"
   },
   "outputs": [
    {
     "name": "stdout",
     "output_type": "stream",
     "text": [
      "Downloading data from https://storage.googleapis.com/tensorflow/tf-keras-datasets/mnist.npz\n",
      "11493376/11490434 [==============================] - 0s 0us/step\n",
      "x_train.shape =  (60000, 28, 28)  , x_test.shape =  (10000, 28, 28)\n",
      "t_train.shape =  (60000,)  , t_test.shape =  (10000,)\n"
     ]
    }
   ],
   "source": [
    "(x_train, t_train), (x_test, t_test) = mnist.load_data()\n",
    "\n",
    "x_train = x_train / 255.0\n",
    "x_test = x_test / 255.0\n",
    "\n",
    "print('x_train.shape = ', x_train.shape, ' , x_test.shape = ', x_test.shape)\n",
    "print('t_train.shape = ', t_train.shape, ' , t_test.shape = ', t_test.shape)"
   ]
  },
  {
   "cell_type": "code",
   "execution_count": 3,
   "metadata": {
    "colab": {
     "base_uri": "https://localhost:8080/",
     "height": 589
    },
    "id": "8dvRVX7M_0dY",
    "outputId": "57834c4b-8fdd-4774-ef3b-e5988b04159b"
   },
   "outputs": [
    {
     "data": {
      "image/png": "[encoded data removed]",
      "text/plain": [
       "<Figure size 720x720 with 25 Axes>"
      ]
     },
     "metadata": {
      "tags": []
     },
     "output_type": "display_data"
    }
   ],
   "source": [
    "# 데이터 출력\n",
    "\n",
    "plt.figure(figsize=(10,10))\n",
    "\n",
    "for index in range(25):\n",
    "\n",
    "    plt.subplot(5, 5, index+1)\n",
    "    plt.xticks([])\n",
    "    plt.yticks([])\n",
    "    plt.grid(False)\n",
    "    plt.imshow(x_train[index], cmap='gray')\n",
    "    plt.xlabel(str(t_train[index]))\n",
    "\n",
    "plt.show()"
   ]
  },
  {
   "cell_type": "code",
   "execution_count": 4,
   "metadata": {
    "id": "TyTj4TLi3L2Q"
   },
   "outputs": [],
   "source": [
    "# sequential model construction\n",
    "\n",
    "model = Sequential()\n",
    "\n",
    "model.add(Conv2D(input_shape=(28,28,1), kernel_size=5, filters=32, strides=(1,1), activation='relu', use_bias=True, padding='SAME'))\n",
    "model.add(MaxPooling2D(pool_size=(2,2), padding='SAME'))\n",
    "model.add(Dropout(0.5))\n",
    "\n",
    "model.add(Conv2D(kernel_size=5, filters=64, strides=(1,1), activation='relu', use_bias=True, padding='SAME'))\n",
    "model.add(MaxPooling2D(pool_size=(2,2), padding='SAME'))\n",
    "model.add(Dropout(0.5))\n",
    "\n",
    "model.add(Flatten())\n",
    "\n",
    "model.add(Dense(10, activation='softmax'))"
   ]
  },
  {
   "cell_type": "code",
   "execution_count": 5,
   "metadata": {
    "id": "PRkYkMr6Dk1H"
   },
   "outputs": [],
   "source": [
    "model.compile(optimizer=Adam(), loss='sparse_categorical_crossentropy', metrics=['accuracy'])"
   ]
  },
  {
   "cell_type": "code",
   "execution_count": 6,
   "metadata": {
    "colab": {
     "base_uri": "https://localhost:8080/"
    },
    "id": "EB7zqH_H5MTO",
    "outputId": "0f6577a0-ea7b-4342-f4ac-ee724800c024"
   },
   "outputs": [
    {
     "name": "stdout",
     "output_type": "stream",
     "text": [
      "Model: \"sequential\"\n",
      "_________________________________________________________________\n",
      "Layer (type)                 Output Shape              Param #   \n",
      "=================================================================\n",
      "conv2d (Conv2D)              (None, 28, 28, 32)        832       \n",
      "_________________________________________________________________\n",
      "max_pooling2d (MaxPooling2D) (None, 14, 14, 32)        0         \n",
      "_________________________________________________________________\n",
      "dropout (Dropout)            (None, 14, 14, 32)        0         \n",
      "_________________________________________________________________\n",
      "conv2d_1 (Conv2D)            (None, 14, 14, 64)        51264     \n",
      "_________________________________________________________________\n",
      "max_pooling2d_1 (MaxPooling2 (None, 7, 7, 64)          0         \n",
      "_________________________________________________________________\n",
      "dropout_1 (Dropout)          (None, 7, 7, 64)          0         \n",
      "_________________________________________________________________\n",
      "flatten (Flatten)            (None, 3136)              0         \n",
      "_________________________________________________________________\n",
      "dense (Dense)                (None, 10)                31370     \n",
      "=================================================================\n",
      "Total params: 83,466\n",
      "Trainable params: 83,466\n",
      "Non-trainable params: 0\n",
      "_________________________________________________________________\n"
     ]
    }
   ],
   "source": [
    "model.summary()"
   ]
  },
  {
   "cell_type": "code",
   "execution_count": 7,
   "metadata": {
    "id": "8Exi8cMrwJAo"
   },
   "outputs": [],
   "source": [
    "x_train = x_train.reshape(-1,28,28,1)\n",
    "x_test = x_test.reshape(-1,28,28,1)"
   ]
  },
  {
   "cell_type": "code",
   "execution_count": 8,
   "metadata": {
    "colab": {
     "base_uri": "https://localhost:8080/"
    },
    "id": "lWC9NA-G5vvz",
    "outputId": "67209bbe-f164-4af9-ffbc-c0458f8a0641"
   },
   "outputs": [
    {
     "name": "stdout",
     "output_type": "stream",
     "text": [
      "Epoch 1/50\n",
      "1200/1200 [==============================] - 35s 3ms/step - loss: 0.2280 - accuracy: 0.9278 - val_loss: 0.0541 - val_accuracy: 0.9825\n",
      "Epoch 2/50\n",
      "1200/1200 [==============================] - 4s 3ms/step - loss: 0.0831 - accuracy: 0.9738 - val_loss: 0.0392 - val_accuracy: 0.9868\n",
      "Epoch 3/50\n",
      "1200/1200 [==============================] - 4s 3ms/step - loss: 0.0666 - accuracy: 0.9797 - val_loss: 0.0312 - val_accuracy: 0.9897\n",
      "Epoch 4/50\n",
      "1200/1200 [==============================] - 4s 3ms/step - loss: 0.0577 - accuracy: 0.9822 - val_loss: 0.0268 - val_accuracy: 0.9915\n",
      "Epoch 5/50\n",
      "1200/1200 [==============================] - 4s 3ms/step - loss: 0.0512 - accuracy: 0.9844 - val_loss: 0.0278 - val_accuracy: 0.9905\n",
      "Epoch 6/50\n",
      "1200/1200 [==============================] - 4s 3ms/step - loss: 0.0476 - accuracy: 0.9850 - val_loss: 0.0249 - val_accuracy: 0.9903\n",
      "Epoch 7/50\n",
      "1200/1200 [==============================] - 4s 3ms/step - loss: 0.0447 - accuracy: 0.9859 - val_loss: 0.0242 - val_accuracy: 0.9914\n",
      "Epoch 8/50\n",
      "1200/1200 [==============================] - 4s 3ms/step - loss: 0.0415 - accuracy: 0.9868 - val_loss: 0.0247 - val_accuracy: 0.9916\n",
      "Epoch 9/50\n",
      "1200/1200 [==============================] - 4s 3ms/step - loss: 0.0398 - accuracy: 0.9871 - val_loss: 0.0225 - val_accuracy: 0.9917\n",
      "Epoch 10/50\n",
      "1200/1200 [==============================] - 4s 3ms/step - loss: 0.0387 - accuracy: 0.9875 - val_loss: 0.0228 - val_accuracy: 0.9926\n",
      "Epoch 11/50\n",
      "1200/1200 [==============================] - 4s 3ms/step - loss: 0.0358 - accuracy: 0.9884 - val_loss: 0.0199 - val_accuracy: 0.9926\n",
      "Epoch 12/50\n",
      "1200/1200 [==============================] - 4s 3ms/step - loss: 0.0349 - accuracy: 0.9891 - val_loss: 0.0206 - val_accuracy: 0.9928\n",
      "Epoch 13/50\n",
      "1200/1200 [==============================] - 4s 3ms/step - loss: 0.0347 - accuracy: 0.9890 - val_loss: 0.0224 - val_accuracy: 0.9925\n",
      "Epoch 14/50\n",
      "1200/1200 [==============================] - 4s 3ms/step - loss: 0.0344 - accuracy: 0.9892 - val_loss: 0.0212 - val_accuracy: 0.9936\n",
      "Epoch 15/50\n",
      "1200/1200 [==============================] - 4s 3ms/step - loss: 0.0317 - accuracy: 0.9896 - val_loss: 0.0209 - val_accuracy: 0.9936\n",
      "Epoch 16/50\n",
      "1200/1200 [==============================] - 4s 3ms/step - loss: 0.0313 - accuracy: 0.9901 - val_loss: 0.0260 - val_accuracy: 0.9916\n",
      "Epoch 17/50\n",
      "1200/1200 [==============================] - 4s 3ms/step - loss: 0.0312 - accuracy: 0.9900 - val_loss: 0.0204 - val_accuracy: 0.9936\n",
      "Epoch 18/50\n",
      "1200/1200 [==============================] - 4s 3ms/step - loss: 0.0317 - accuracy: 0.9903 - val_loss: 0.0212 - val_accuracy: 0.9936\n",
      "Epoch 19/50\n",
      "1200/1200 [==============================] - 4s 3ms/step - loss: 0.0296 - accuracy: 0.9908 - val_loss: 0.0209 - val_accuracy: 0.9936\n",
      "Epoch 20/50\n",
      "1200/1200 [==============================] - 4s 3ms/step - loss: 0.0289 - accuracy: 0.9904 - val_loss: 0.0181 - val_accuracy: 0.9945\n",
      "Epoch 21/50\n",
      "1200/1200 [==============================] - 4s 3ms/step - loss: 0.0309 - accuracy: 0.9904 - val_loss: 0.0208 - val_accuracy: 0.9938\n",
      "Epoch 22/50\n",
      "1200/1200 [==============================] - 4s 3ms/step - loss: 0.0309 - accuracy: 0.9901 - val_loss: 0.0183 - val_accuracy: 0.9943\n",
      "Epoch 23/50\n",
      "1200/1200 [==============================] - 4s 3ms/step - loss: 0.0275 - accuracy: 0.9909 - val_loss: 0.0188 - val_accuracy: 0.9938\n",
      "Epoch 24/50\n",
      "1200/1200 [==============================] - 4s 3ms/step - loss: 0.0270 - accuracy: 0.9910 - val_loss: 0.0191 - val_accuracy: 0.9939\n",
      "Epoch 25/50\n",
      "1200/1200 [==============================] - 4s 3ms/step - loss: 0.0286 - accuracy: 0.9904 - val_loss: 0.0182 - val_accuracy: 0.9937\n",
      "Epoch 26/50\n",
      "1200/1200 [==============================] - 4s 3ms/step - loss: 0.0257 - accuracy: 0.9914 - val_loss: 0.0219 - val_accuracy: 0.9932\n",
      "Epoch 27/50\n",
      "1200/1200 [==============================] - 4s 3ms/step - loss: 0.0268 - accuracy: 0.9913 - val_loss: 0.0186 - val_accuracy: 0.9944\n",
      "Epoch 28/50\n",
      "1200/1200 [==============================] - 4s 3ms/step - loss: 0.0262 - accuracy: 0.9915 - val_loss: 0.0181 - val_accuracy: 0.9945\n",
      "Epoch 29/50\n",
      "1200/1200 [==============================] - 4s 3ms/step - loss: 0.0269 - accuracy: 0.9916 - val_loss: 0.0182 - val_accuracy: 0.9939\n",
      "Epoch 30/50\n",
      "1200/1200 [==============================] - 4s 3ms/step - loss: 0.0265 - accuracy: 0.9916 - val_loss: 0.0185 - val_accuracy: 0.9942\n",
      "Epoch 31/50\n",
      "1200/1200 [==============================] - 4s 3ms/step - loss: 0.0273 - accuracy: 0.9911 - val_loss: 0.0178 - val_accuracy: 0.9939\n",
      "Epoch 32/50\n",
      "1200/1200 [==============================] - 4s 3ms/step - loss: 0.0272 - accuracy: 0.9915 - val_loss: 0.0198 - val_accuracy: 0.9938\n",
      "Epoch 33/50\n",
      "1200/1200 [==============================] - 4s 3ms/step - loss: 0.0260 - accuracy: 0.9914 - val_loss: 0.0184 - val_accuracy: 0.9940\n",
      "Epoch 34/50\n",
      "1200/1200 [==============================] - 4s 3ms/step - loss: 0.0258 - accuracy: 0.9918 - val_loss: 0.0180 - val_accuracy: 0.9939\n",
      "Epoch 35/50\n",
      "1200/1200 [==============================] - 4s 3ms/step - loss: 0.0263 - accuracy: 0.9917 - val_loss: 0.0172 - val_accuracy: 0.9940\n",
      "Epoch 36/50\n",
      "1200/1200 [==============================] - 4s 3ms/step - loss: 0.0264 - accuracy: 0.9912 - val_loss: 0.0192 - val_accuracy: 0.9939\n",
      "Epoch 37/50\n",
      "1200/1200 [==============================] - 4s 3ms/step - loss: 0.0236 - accuracy: 0.9924 - val_loss: 0.0219 - val_accuracy: 0.9928\n",
      "Epoch 38/50\n",
      "1200/1200 [==============================] - 4s 3ms/step - loss: 0.0235 - accuracy: 0.9921 - val_loss: 0.0189 - val_accuracy: 0.9940\n",
      "Epoch 39/50\n",
      "1200/1200 [==============================] - 4s 3ms/step - loss: 0.0264 - accuracy: 0.9916 - val_loss: 0.0179 - val_accuracy: 0.9941\n",
      "Epoch 40/50\n",
      "1200/1200 [==============================] - 4s 3ms/step - loss: 0.0233 - accuracy: 0.9924 - val_loss: 0.0216 - val_accuracy: 0.9933\n",
      "Epoch 41/50\n",
      "1200/1200 [==============================] - 4s 3ms/step - loss: 0.0260 - accuracy: 0.9914 - val_loss: 0.0198 - val_accuracy: 0.9937\n",
      "Epoch 42/50\n",
      "1200/1200 [==============================] - 4s 3ms/step - loss: 0.0258 - accuracy: 0.9919 - val_loss: 0.0197 - val_accuracy: 0.9938\n",
      "Epoch 43/50\n",
      "1200/1200 [==============================] - 4s 3ms/step - loss: 0.0235 - accuracy: 0.9922 - val_loss: 0.0172 - val_accuracy: 0.9947\n",
      "Epoch 44/50\n",
      "1200/1200 [==============================] - 4s 3ms/step - loss: 0.0240 - accuracy: 0.9922 - val_loss: 0.0168 - val_accuracy: 0.9941\n",
      "Epoch 45/50\n",
      "1200/1200 [==============================] - 4s 3ms/step - loss: 0.0252 - accuracy: 0.9921 - val_loss: 0.0178 - val_accuracy: 0.9945\n",
      "Epoch 46/50\n",
      "1200/1200 [==============================] - 4s 3ms/step - loss: 0.0235 - accuracy: 0.9929 - val_loss: 0.0165 - val_accuracy: 0.9943\n",
      "Epoch 47/50\n",
      "1200/1200 [==============================] - 4s 3ms/step - loss: 0.0246 - accuracy: 0.9928 - val_loss: 0.0185 - val_accuracy: 0.9944\n",
      "Epoch 48/50\n",
      "1200/1200 [==============================] - 4s 3ms/step - loss: 0.0233 - accuracy: 0.9925 - val_loss: 0.0187 - val_accuracy: 0.9939\n",
      "Epoch 49/50\n",
      "1200/1200 [==============================] - 4s 3ms/step - loss: 0.0236 - accuracy: 0.9921 - val_loss: 0.0170 - val_accuracy: 0.9943\n",
      "Epoch 50/50\n",
      "1200/1200 [==============================] - 4s 3ms/step - loss: 0.0254 - accuracy: 0.9918 - val_loss: 0.0176 - val_accuracy: 0.9944\n",
      "\n",
      "\n",
      "Elapsed Time =>  0:04:22.631329\n"
     ]
    }
   ],
   "source": [
    "start_time = datetime.now()\n",
    "\n",
    "hist = model.fit(x_train, t_train, batch_size=50, epochs=50, validation_data=(x_test, t_test))\n",
    "\n",
    "end_time = datetime.now()\n",
    "\n",
    "print('\\n\\nElapsed Time => ', end_time - start_time)"
   ]
  },
  {
   "cell_type": "code",
   "execution_count": 9,
   "metadata": {
    "colab": {
     "base_uri": "https://localhost:8080/"
    },
    "id": "2C2fV-8K6XsU",
    "outputId": "4ae7579f-70df-4f05-feac-40d9b74a0cf8"
   },
   "outputs": [
    {
     "name": "stdout",
     "output_type": "stream",
     "text": [
      "313/313 [==============================] - 1s 3ms/step - loss: 0.0176 - accuracy: 0.9944\n"
     ]
    },
    {
     "data": {
      "text/plain": [
       "[0.01763896644115448, 0.9944000244140625]"
      ]
     },
     "execution_count": 9,
     "metadata": {
      "tags": []
     },
     "output_type": "execute_result"
    }
   ],
   "source": [
    "# x_test 도 마찬가지로 데이터를 4차원으로 reshape 으로 변환 해주지 않으면 error\n",
    "\n",
    "model.evaluate(x_test, t_test)"
   ]
  },
  {
   "cell_type": "code",
   "execution_count": 10,
   "metadata": {
    "colab": {
     "base_uri": "https://localhost:8080/",
     "height": 295
    },
    "id": "V2H-ARVci04l",
    "outputId": "aae74d28-09f9-414c-9961-3c760152a5b0"
   },
   "outputs": [
    {
     "data": {
      "image/png": "[encoded data removed]",
      "text/plain": [
       "<Figure size 432x288 with 1 Axes>"
      ]
     },
     "metadata": {
      "needs_background": "light",
      "tags": []
     },
     "output_type": "display_data"
    }
   ],
   "source": [
    "import matplotlib.pyplot as plt\n",
    "\n",
    "plt.plot(hist.history['accuracy'])\n",
    "plt.plot(hist.history['val_accuracy'])\n",
    "plt.title('Accuracy Trend')\n",
    "plt.ylabel('accuracy')\n",
    "plt.xlabel('epoch')\n",
    "plt.legend(['train','validation'], loc='best')\n",
    "plt.grid()\n",
    "plt.show()"
   ]
  },
  {
   "cell_type": "code",
   "execution_count": 11,
   "metadata": {
    "colab": {
     "base_uri": "https://localhost:8080/",
     "height": 295
    },
    "id": "kxmiD7y7WBe0",
    "outputId": "8050b487-3709-445a-bfb8-d0d29163a821"
   },
   "outputs": [
    {
     "data": {
      "image/png": "[encoded data removed]",
      "text/plain": [
       "<Figure size 432x288 with 1 Axes>"
      ]
     },
     "metadata": {
      "needs_background": "light",
      "tags": []
     },
     "output_type": "display_data"
    }
   ],
   "source": [
    "plt.plot(hist.history['loss'])\n",
    "plt.plot(hist.history['val_loss'])\n",
    "plt.title('Loss Trend')\n",
    "plt.ylabel('loss')\n",
    "plt.xlabel('epoch')\n",
    "plt.legend(['train','validation'], loc='best')\n",
    "plt.grid()\n",
    "plt.show()"
   ]
  },
  {
   "cell_type": "code",
   "execution_count": null,
   "metadata": {
    "id": "bFx1CcBGWEfl"
   },
   "outputs": [],
   "source": []
  }
 ],
 "metadata": {
  "accelerator": "GPU",
  "colab": {
   "collapsed_sections": [],
   "name": "TF_2_x_CNN_Example_4_5.ipynb",
   "provenance": []
  },
  "kernelspec": {
   "display_name": "Python 3",
   "language": "python",
   "name": "python3"
  },
  "language_info": {
   "codemirror_mode": {
    "name": "ipython",
    "version": 3
   },
   "file_extension": ".py",
   "mimetype": "text/x-python",
   "name": "python",
   "nbconvert_exporter": "python",
   "pygments_lexer": "ipython3",
   "version": "3.7.3"
  }
 },
 "nbformat": 4,
 "nbformat_minor": 1
}
