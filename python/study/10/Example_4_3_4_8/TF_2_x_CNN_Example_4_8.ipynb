{
 "cells": [
  {
   "cell_type": "code",
   "execution_count": 1,
   "metadata": {
    "id": "Mz7L7JQA0zBd"
   },
   "outputs": [],
   "source": [
    "import tensorflow as tf\n",
    "\n",
    "from tensorflow.keras.layers import Flatten, Dense, Conv2D, MaxPooling2D, Dropout\n",
    "from tensorflow.keras.models import Sequential\n",
    "from tensorflow.keras.optimizers import Adam\n",
    "from tensorflow.keras.datasets import mnist\n",
    "\n",
    "import numpy as np\n",
    "from datetime import datetime\n",
    "import matplotlib.pyplot as plt"
   ]
  },
  {
   "cell_type": "code",
   "execution_count": 2,
   "metadata": {
    "colab": {
     "base_uri": "https://localhost:8080/"
    },
    "id": "hWSWQdg61_pp",
    "outputId": "15432cec-89f0-4191-b6fc-3b01a43ba405"
   },
   "outputs": [
    {
     "name": "stdout",
     "output_type": "stream",
     "text": [
      "Downloading data from https://storage.googleapis.com/tensorflow/tf-keras-datasets/mnist.npz\n",
      "11493376/11490434 [==============================] - 0s 0us/step\n",
      "x_train.shape =  (60000, 28, 28)  , x_test.shape =  (10000, 28, 28)\n",
      "t_train.shape =  (60000,)  , t_test.shape =  (10000,)\n"
     ]
    }
   ],
   "source": [
    "(x_train, t_train), (x_test, t_test) = mnist.load_data()\n",
    "\n",
    "x_train = x_train / 255.0\n",
    "x_test = x_test / 255.0\n",
    "\n",
    "print('x_train.shape = ', x_train.shape, ' , x_test.shape = ', x_test.shape)\n",
    "print('t_train.shape = ', t_train.shape, ' , t_test.shape = ', t_test.shape)"
   ]
  },
  {
   "cell_type": "code",
   "execution_count": 3,
   "metadata": {
    "colab": {
     "base_uri": "https://localhost:8080/",
     "height": 589
    },
    "id": "8dvRVX7M_0dY",
    "outputId": "12e85ca3-8adb-4d49-b351-230c9046bf32"
   },
   "outputs": [
    {
     "data": {
      "image/png": "[encoded data removed]",
      "text/plain": [
       "<Figure size 720x720 with 25 Axes>"
      ]
     },
     "metadata": {
      "tags": []
     },
     "output_type": "display_data"
    }
   ],
   "source": [
    "# 데이터 출력\n",
    "\n",
    "plt.figure(figsize=(10,10))\n",
    "\n",
    "for index in range(25):\n",
    "\n",
    "    plt.subplot(5, 5, index+1)\n",
    "    plt.xticks([])\n",
    "    plt.yticks([])\n",
    "    plt.grid(False)\n",
    "    plt.imshow(x_train[index], cmap='gray')\n",
    "    plt.xlabel(str(t_train[index]))\n",
    "\n",
    "plt.show()"
   ]
  },
  {
   "cell_type": "code",
   "execution_count": 12,
   "metadata": {
    "id": "TyTj4TLi3L2Q"
   },
   "outputs": [],
   "source": [
    "# sequential model construction\n",
    "\n",
    "model = Sequential()\n",
    "\n",
    "model.add(Conv2D(input_shape=(28,28,1), kernel_size=3, filters=32, strides=(1,1), activation='relu', padding='SAME'))\n",
    "model.add(MaxPooling2D(pool_size=(2,2), padding='SAME'))\n",
    "model.add(Dropout(0.5))\n",
    "\n",
    "model.add(Conv2D(kernel_size=3, filters=64, strides=(1,1), activation='relu', padding='SAME'))\n",
    "model.add(MaxPooling2D(pool_size=(2,2), padding='SAME'))\n",
    "model.add(Dropout(0.5))\n",
    "\n",
    "model.add(Conv2D(kernel_size=3, filters=128, strides=(1,1), activation='relu', padding='SAME'))\n",
    "model.add(MaxPooling2D(pool_size=(2,2), padding='SAME'))\n",
    "model.add(Dropout(0.5))\n",
    "\n",
    "model.add(Flatten())\n",
    "\n",
    "model.add(Dense(10, activation='softmax'))"
   ]
  },
  {
   "cell_type": "code",
   "execution_count": 13,
   "metadata": {
    "id": "PRkYkMr6Dk1H"
   },
   "outputs": [],
   "source": [
    "model.compile(optimizer=Adam(), loss='sparse_categorical_crossentropy', metrics=['accuracy'])"
   ]
  },
  {
   "cell_type": "code",
   "execution_count": 14,
   "metadata": {
    "colab": {
     "base_uri": "https://localhost:8080/"
    },
    "id": "EB7zqH_H5MTO",
    "outputId": "68f5c261-0b8c-43aa-a77e-915686b9654e"
   },
   "outputs": [
    {
     "name": "stdout",
     "output_type": "stream",
     "text": [
      "Model: \"sequential_1\"\n",
      "_________________________________________________________________\n",
      "Layer (type)                 Output Shape              Param #   \n",
      "=================================================================\n",
      "conv2d_3 (Conv2D)            (None, 28, 28, 32)        320       \n",
      "_________________________________________________________________\n",
      "max_pooling2d_3 (MaxPooling2 (None, 14, 14, 32)        0         \n",
      "_________________________________________________________________\n",
      "dropout_3 (Dropout)          (None, 14, 14, 32)        0         \n",
      "_________________________________________________________________\n",
      "conv2d_4 (Conv2D)            (None, 14, 14, 64)        18496     \n",
      "_________________________________________________________________\n",
      "max_pooling2d_4 (MaxPooling2 (None, 7, 7, 64)          0         \n",
      "_________________________________________________________________\n",
      "dropout_4 (Dropout)          (None, 7, 7, 64)          0         \n",
      "_________________________________________________________________\n",
      "conv2d_5 (Conv2D)            (None, 7, 7, 128)         73856     \n",
      "_________________________________________________________________\n",
      "max_pooling2d_5 (MaxPooling2 (None, 4, 4, 128)         0         \n",
      "_________________________________________________________________\n",
      "dropout_5 (Dropout)          (None, 4, 4, 128)         0         \n",
      "_________________________________________________________________\n",
      "flatten_1 (Flatten)          (None, 2048)              0         \n",
      "_________________________________________________________________\n",
      "dense_1 (Dense)              (None, 10)                20490     \n",
      "=================================================================\n",
      "Total params: 113,162\n",
      "Trainable params: 113,162\n",
      "Non-trainable params: 0\n",
      "_________________________________________________________________\n"
     ]
    }
   ],
   "source": [
    "model.summary()"
   ]
  },
  {
   "cell_type": "code",
   "execution_count": 15,
   "metadata": {
    "id": "8Exi8cMrwJAo"
   },
   "outputs": [],
   "source": [
    "x_train = x_train.reshape(-1,28,28,1)\n",
    "x_test = x_test.reshape(-1,28,28,1)"
   ]
  },
  {
   "cell_type": "code",
   "execution_count": 16,
   "metadata": {
    "colab": {
     "base_uri": "https://localhost:8080/"
    },
    "id": "lWC9NA-G5vvz",
    "outputId": "0cf9b6cc-32c6-4f85-89ee-6dad80887177"
   },
   "outputs": [
    {
     "name": "stdout",
     "output_type": "stream",
     "text": [
      "Epoch 1/50\n",
      "1200/1200 [==============================] - 4s 3ms/step - loss: 0.3239 - accuracy: 0.8931 - val_loss: 0.0609 - val_accuracy: 0.9811\n",
      "Epoch 2/50\n",
      "1200/1200 [==============================] - 4s 3ms/step - loss: 0.1163 - accuracy: 0.9629 - val_loss: 0.0438 - val_accuracy: 0.9867\n",
      "Epoch 3/50\n",
      "1200/1200 [==============================] - 4s 3ms/step - loss: 0.0932 - accuracy: 0.9703 - val_loss: 0.0357 - val_accuracy: 0.9881\n",
      "Epoch 4/50\n",
      "1200/1200 [==============================] - 4s 3ms/step - loss: 0.0810 - accuracy: 0.9742 - val_loss: 0.0277 - val_accuracy: 0.9909\n",
      "Epoch 5/50\n",
      "1200/1200 [==============================] - 4s 3ms/step - loss: 0.0744 - accuracy: 0.9760 - val_loss: 0.0278 - val_accuracy: 0.9910\n",
      "Epoch 6/50\n",
      "1200/1200 [==============================] - 4s 3ms/step - loss: 0.0687 - accuracy: 0.9789 - val_loss: 0.0265 - val_accuracy: 0.9917\n",
      "Epoch 7/50\n",
      "1200/1200 [==============================] - 4s 3ms/step - loss: 0.0651 - accuracy: 0.9800 - val_loss: 0.0249 - val_accuracy: 0.9910\n",
      "Epoch 8/50\n",
      "1200/1200 [==============================] - 4s 3ms/step - loss: 0.0616 - accuracy: 0.9801 - val_loss: 0.0237 - val_accuracy: 0.9918\n",
      "Epoch 9/50\n",
      "1200/1200 [==============================] - 4s 3ms/step - loss: 0.0607 - accuracy: 0.9813 - val_loss: 0.0247 - val_accuracy: 0.9926\n",
      "Epoch 10/50\n",
      "1200/1200 [==============================] - 4s 3ms/step - loss: 0.0558 - accuracy: 0.9829 - val_loss: 0.0219 - val_accuracy: 0.9930\n",
      "Epoch 11/50\n",
      "1200/1200 [==============================] - 4s 3ms/step - loss: 0.0563 - accuracy: 0.9818 - val_loss: 0.0203 - val_accuracy: 0.9928\n",
      "Epoch 12/50\n",
      "1200/1200 [==============================] - 4s 3ms/step - loss: 0.0566 - accuracy: 0.9816 - val_loss: 0.0216 - val_accuracy: 0.9935\n",
      "Epoch 13/50\n",
      "1200/1200 [==============================] - 4s 3ms/step - loss: 0.0538 - accuracy: 0.9833 - val_loss: 0.0212 - val_accuracy: 0.9929\n",
      "Epoch 14/50\n",
      "1200/1200 [==============================] - 4s 3ms/step - loss: 0.0540 - accuracy: 0.9830 - val_loss: 0.0209 - val_accuracy: 0.9935\n",
      "Epoch 15/50\n",
      "1200/1200 [==============================] - 4s 3ms/step - loss: 0.0503 - accuracy: 0.9843 - val_loss: 0.0221 - val_accuracy: 0.9927\n",
      "Epoch 16/50\n",
      "1200/1200 [==============================] - 4s 3ms/step - loss: 0.0530 - accuracy: 0.9838 - val_loss: 0.0192 - val_accuracy: 0.9938\n",
      "Epoch 17/50\n",
      "1200/1200 [==============================] - 4s 3ms/step - loss: 0.0506 - accuracy: 0.9842 - val_loss: 0.0220 - val_accuracy: 0.9922\n",
      "Epoch 18/50\n",
      "1200/1200 [==============================] - 4s 3ms/step - loss: 0.0507 - accuracy: 0.9844 - val_loss: 0.0209 - val_accuracy: 0.9935\n",
      "Epoch 19/50\n",
      "1200/1200 [==============================] - 4s 3ms/step - loss: 0.0490 - accuracy: 0.9849 - val_loss: 0.0225 - val_accuracy: 0.9924\n",
      "Epoch 20/50\n",
      "1200/1200 [==============================] - 4s 3ms/step - loss: 0.0494 - accuracy: 0.9841 - val_loss: 0.0200 - val_accuracy: 0.9930\n",
      "Epoch 21/50\n",
      "1200/1200 [==============================] - 4s 3ms/step - loss: 0.0474 - accuracy: 0.9854 - val_loss: 0.0201 - val_accuracy: 0.9940\n",
      "Epoch 22/50\n",
      "1200/1200 [==============================] - 4s 3ms/step - loss: 0.0474 - accuracy: 0.9857 - val_loss: 0.0185 - val_accuracy: 0.9936\n",
      "Epoch 23/50\n",
      "1200/1200 [==============================] - 4s 3ms/step - loss: 0.0468 - accuracy: 0.9851 - val_loss: 0.0187 - val_accuracy: 0.9934\n",
      "Epoch 24/50\n",
      "1200/1200 [==============================] - 4s 3ms/step - loss: 0.0474 - accuracy: 0.9854 - val_loss: 0.0204 - val_accuracy: 0.9942\n",
      "Epoch 25/50\n",
      "1200/1200 [==============================] - 4s 3ms/step - loss: 0.0467 - accuracy: 0.9853 - val_loss: 0.0216 - val_accuracy: 0.9932\n",
      "Epoch 26/50\n",
      "1200/1200 [==============================] - 4s 3ms/step - loss: 0.0458 - accuracy: 0.9851 - val_loss: 0.0188 - val_accuracy: 0.9936\n",
      "Epoch 27/50\n",
      "1200/1200 [==============================] - 4s 3ms/step - loss: 0.0492 - accuracy: 0.9845 - val_loss: 0.0206 - val_accuracy: 0.9929\n",
      "Epoch 28/50\n",
      "1200/1200 [==============================] - 4s 3ms/step - loss: 0.0464 - accuracy: 0.9855 - val_loss: 0.0199 - val_accuracy: 0.9935\n",
      "Epoch 29/50\n",
      "1200/1200 [==============================] - 4s 3ms/step - loss: 0.0468 - accuracy: 0.9857 - val_loss: 0.0176 - val_accuracy: 0.9940\n",
      "Epoch 30/50\n",
      "1200/1200 [==============================] - 4s 3ms/step - loss: 0.0465 - accuracy: 0.9852 - val_loss: 0.0192 - val_accuracy: 0.9941\n",
      "Epoch 31/50\n",
      "1200/1200 [==============================] - 4s 3ms/step - loss: 0.0466 - accuracy: 0.9849 - val_loss: 0.0208 - val_accuracy: 0.9932\n",
      "Epoch 32/50\n",
      "1200/1200 [==============================] - 4s 3ms/step - loss: 0.0462 - accuracy: 0.9850 - val_loss: 0.0184 - val_accuracy: 0.9937\n",
      "Epoch 33/50\n",
      "1200/1200 [==============================] - 4s 3ms/step - loss: 0.0478 - accuracy: 0.9850 - val_loss: 0.0177 - val_accuracy: 0.9939\n",
      "Epoch 34/50\n",
      "1200/1200 [==============================] - 4s 3ms/step - loss: 0.0458 - accuracy: 0.9856 - val_loss: 0.0205 - val_accuracy: 0.9933\n",
      "Epoch 35/50\n",
      "1200/1200 [==============================] - 4s 3ms/step - loss: 0.0446 - accuracy: 0.9862 - val_loss: 0.0214 - val_accuracy: 0.9930\n",
      "Epoch 36/50\n",
      "1200/1200 [==============================] - 4s 3ms/step - loss: 0.0455 - accuracy: 0.9850 - val_loss: 0.0201 - val_accuracy: 0.9939\n",
      "Epoch 37/50\n",
      "1200/1200 [==============================] - 4s 3ms/step - loss: 0.0446 - accuracy: 0.9858 - val_loss: 0.0190 - val_accuracy: 0.9940\n",
      "Epoch 38/50\n",
      "1200/1200 [==============================] - 4s 3ms/step - loss: 0.0441 - accuracy: 0.9863 - val_loss: 0.0194 - val_accuracy: 0.9925\n",
      "Epoch 39/50\n",
      "1200/1200 [==============================] - 4s 3ms/step - loss: 0.0467 - accuracy: 0.9855 - val_loss: 0.0162 - val_accuracy: 0.9946\n",
      "Epoch 40/50\n",
      "1200/1200 [==============================] - 4s 3ms/step - loss: 0.0470 - accuracy: 0.9856 - val_loss: 0.0176 - val_accuracy: 0.9934\n",
      "Epoch 41/50\n",
      "1200/1200 [==============================] - 4s 3ms/step - loss: 0.0431 - accuracy: 0.9865 - val_loss: 0.0177 - val_accuracy: 0.9942\n",
      "Epoch 42/50\n",
      "1200/1200 [==============================] - 4s 3ms/step - loss: 0.0454 - accuracy: 0.9858 - val_loss: 0.0214 - val_accuracy: 0.9932\n",
      "Epoch 43/50\n",
      "1200/1200 [==============================] - 4s 3ms/step - loss: 0.0417 - accuracy: 0.9869 - val_loss: 0.0196 - val_accuracy: 0.9941\n",
      "Epoch 44/50\n",
      "1200/1200 [==============================] - 4s 3ms/step - loss: 0.0431 - accuracy: 0.9864 - val_loss: 0.0197 - val_accuracy: 0.9931\n",
      "Epoch 45/50\n",
      "1200/1200 [==============================] - 4s 3ms/step - loss: 0.0474 - accuracy: 0.9853 - val_loss: 0.0184 - val_accuracy: 0.9935\n",
      "Epoch 46/50\n",
      "1200/1200 [==============================] - 4s 3ms/step - loss: 0.0430 - accuracy: 0.9866 - val_loss: 0.0194 - val_accuracy: 0.9935\n",
      "Epoch 47/50\n",
      "1200/1200 [==============================] - 4s 3ms/step - loss: 0.0439 - accuracy: 0.9865 - val_loss: 0.0179 - val_accuracy: 0.9933\n",
      "Epoch 48/50\n",
      "1200/1200 [==============================] - 4s 3ms/step - loss: 0.0431 - accuracy: 0.9864 - val_loss: 0.0186 - val_accuracy: 0.9935\n",
      "Epoch 49/50\n",
      "1200/1200 [==============================] - 4s 3ms/step - loss: 0.0431 - accuracy: 0.9868 - val_loss: 0.0177 - val_accuracy: 0.9943\n",
      "Epoch 50/50\n",
      "1200/1200 [==============================] - 4s 3ms/step - loss: 0.0437 - accuracy: 0.9864 - val_loss: 0.0191 - val_accuracy: 0.9942\n",
      "\n",
      "\n",
      "Elapsed Time =>  0:03:14.420902\n"
     ]
    }
   ],
   "source": [
    "start_time = datetime.now()\n",
    "\n",
    "hist = model.fit(x_train, t_train, batch_size=50, epochs=50, validation_data=(x_test, t_test))\n",
    "\n",
    "end_time = datetime.now()\n",
    "\n",
    "print('\\n\\nElapsed Time => ', end_time - start_time)"
   ]
  },
  {
   "cell_type": "code",
   "execution_count": 17,
   "metadata": {
    "colab": {
     "base_uri": "https://localhost:8080/"
    },
    "id": "2C2fV-8K6XsU",
    "outputId": "2ade29fb-33f7-4f60-8340-2390759a3fbe"
   },
   "outputs": [
    {
     "name": "stdout",
     "output_type": "stream",
     "text": [
      "313/313 [==============================] - 1s 2ms/step - loss: 0.0191 - accuracy: 0.9942\n"
     ]
    },
    {
     "data": {
      "text/plain": [
       "[0.019122177734971046, 0.9941999912261963]"
      ]
     },
     "execution_count": 17,
     "metadata": {
      "tags": []
     },
     "output_type": "execute_result"
    }
   ],
   "source": [
    "# x_test 도 마찬가지로 데이터를 4차원으로 reshape 으로 변환 해주지 않으면 error\n",
    "\n",
    "model.evaluate(x_test, t_test)"
   ]
  },
  {
   "cell_type": "code",
   "execution_count": 18,
   "metadata": {
    "colab": {
     "base_uri": "https://localhost:8080/",
     "height": 295
    },
    "id": "V2H-ARVci04l",
    "outputId": "2a7c8c2e-664c-4964-f60c-704b5851b829"
   },
   "outputs": [
    {
     "data": {
      "image/png": "[encoded data removed]",
      "text/plain": [
       "<Figure size 432x288 with 1 Axes>"
      ]
     },
     "metadata": {
      "needs_background": "light",
      "tags": []
     },
     "output_type": "display_data"
    }
   ],
   "source": [
    "import matplotlib.pyplot as plt\n",
    "\n",
    "plt.plot(hist.history['accuracy'])\n",
    "plt.plot(hist.history['val_accuracy'])\n",
    "plt.title('Accuracy Trend')\n",
    "plt.ylabel('accuracy')\n",
    "plt.xlabel('epoch')\n",
    "plt.legend(['train','validation'], loc='best')\n",
    "plt.grid()\n",
    "plt.show()"
   ]
  },
  {
   "cell_type": "code",
   "execution_count": 19,
   "metadata": {
    "colab": {
     "base_uri": "https://localhost:8080/",
     "height": 295
    },
    "id": "kxmiD7y7WBe0",
    "outputId": "7ce17db2-2fea-48b6-d8ab-53e409373e00"
   },
   "outputs": [
    {
     "data": {
      "image/png": "[encoded data removed]",
      "text/plain": [
       "<Figure size 432x288 with 1 Axes>"
      ]
     },
     "metadata": {
      "needs_background": "light",
      "tags": []
     },
     "output_type": "display_data"
    }
   ],
   "source": [
    "plt.plot(hist.history['loss'])\n",
    "plt.plot(hist.history['val_loss'])\n",
    "plt.title('Loss Trend')\n",
    "plt.ylabel('loss')\n",
    "plt.xlabel('epoch')\n",
    "plt.legend(['train','validation'], loc='best')\n",
    "plt.grid()\n",
    "plt.show()"
   ]
  },
  {
   "cell_type": "code",
   "execution_count": null,
   "metadata": {
    "id": "bFx1CcBGWEfl"
   },
   "outputs": [],
   "source": []
  }
 ],
 "metadata": {
  "accelerator": "GPU",
  "colab": {
   "collapsed_sections": [],
   "name": "TF_2_x_CNN_Example_5_2.ipynb",
   "provenance": []
  },
  "kernelspec": {
   "display_name": "Python 3",
   "language": "python",
   "name": "python3"
  },
  "language_info": {
   "codemirror_mode": {
    "name": "ipython",
    "version": 3
   },
   "file_extension": ".py",
   "mimetype": "text/x-python",
   "name": "python",
   "nbconvert_exporter": "python",
   "pygments_lexer": "ipython3",
   "version": "3.7.3"
  }
 },
 "nbformat": 4,
 "nbformat_minor": 1
}
