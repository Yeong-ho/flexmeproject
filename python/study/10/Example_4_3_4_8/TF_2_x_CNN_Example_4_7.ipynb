{
  "nbformat": 4,
  "nbformat_minor": 0,
  "metadata": {
    "colab": {
      "name": "TF_2_x_CNN_Example_5_2.ipynb",
      "provenance": [],
      "collapsed_sections": []
    },
    "kernelspec": {
      "name": "python3",
      "display_name": "Python 3"
    },
    "accelerator": "GPU"
  },
  "cells": [
    {
      "cell_type": "code",
      "metadata": {
        "id": "Mz7L7JQA0zBd"
      },
      "source": [
        "import tensorflow as tf\n",
        "\n",
        "from tensorflow.keras.layers import Flatten, Dense, Conv2D, MaxPooling2D, Dropout\n",
        "from tensorflow.keras.models import Sequential\n",
        "from tensorflow.keras.optimizers import Adam\n",
        "from tensorflow.keras.datasets import mnist\n",
        "\n",
        "import numpy as np\n",
        "from datetime import datetime\n",
        "import matplotlib.pyplot as plt"
      ],
      "execution_count": 1,
      "outputs": []
    },
    {
      "cell_type": "code",
      "metadata": {
        "id": "hWSWQdg61_pp",
        "colab": {
          "base_uri": "https://localhost:8080/"
        },
        "outputId": "15432cec-89f0-4191-b6fc-3b01a43ba405"
      },
      "source": [
        "(x_train, t_train), (x_test, t_test) = mnist.load_data()\n",
        "\n",
        "x_train = x_train / 255.0\n",
        "x_test = x_test / 255.0\n",
        "\n",
        "print('x_train.shape = ', x_train.shape, ' , x_test.shape = ', x_test.shape)\n",
        "print('t_train.shape = ', t_train.shape, ' , t_test.shape = ', t_test.shape)"
      ],
      "execution_count": 2,
      "outputs": [
        {
          "output_type": "stream",
          "text": [
            "Downloading data from https://storage.googleapis.com/tensorflow/tf-keras-datasets/mnist.npz\n",
            "11493376/11490434 [==============================] - 0s 0us/step\n",
            "x_train.shape =  (60000, 28, 28)  , x_test.shape =  (10000, 28, 28)\n",
            "t_train.shape =  (60000,)  , t_test.shape =  (10000,)\n"
          ],
          "name": "stdout"
        }
      ]
    },
    {
      "cell_type": "code",
      "metadata": {
        "id": "8dvRVX7M_0dY",
        "colab": {
          "base_uri": "https://localhost:8080/",
          "height": 589
        },
        "outputId": "12e85ca3-8adb-4d49-b351-230c9046bf32"
      },
      "source": [
        "# 데이터 출력\n",
        "\n",
        "plt.figure(figsize=(10,10))\n",
        "\n",
        "for index in range(25):\n",
        "\n",
        "    plt.subplot(5, 5, index+1)\n",
        "    plt.xticks([])\n",
        "    plt.yticks([])\n",
        "    plt.grid(False)\n",
        "    plt.imshow(x_train[index], cmap='gray')\n",
        "    plt.xlabel(str(t_train[index]))\n",
        "\n",
        "plt.show()"
      ],
      "execution_count": 3,
      "outputs": [
        {
          "output_type": "display_data",
          "data": {
            "image/png": "[encoded data removed]",
            "text/plain": [
              "<Figure size 720x720 with 25 Axes>"
            ]
          },
          "metadata": {
            "tags": []
          }
        }
      ]
    },
    {
      "cell_type": "code",
      "metadata": {
        "id": "TyTj4TLi3L2Q"
      },
      "source": [
        "# sequential model construction\n",
        "\n",
        "model = Sequential()\n",
        "\n",
        "model.add(Conv2D(input_shape=(28,28,1), kernel_size=3, filters=32, strides=(1,1), activation='relu', padding='SAME'))\n",
        "model.add(MaxPooling2D(pool_size=(2,2), padding='SAME'))\n",
        "model.add(Dropout(0.25))\n",
        "\n",
        "model.add(Conv2D(kernel_size=3, filters=64, strides=(1,1), activation='relu', padding='SAME'))\n",
        "model.add(MaxPooling2D(pool_size=(2,2), padding='SAME'))\n",
        "model.add(Dropout(0.25))\n",
        "\n",
        "model.add(Conv2D(kernel_size=3, filters=128, strides=(1,1), activation='relu', padding='SAME'))\n",
        "model.add(MaxPooling2D(pool_size=(2,2), padding='SAME'))\n",
        "model.add(Dropout(0.25))\n",
        "\n",
        "model.add(Flatten())\n",
        "\n",
        "model.add(Dense(10, activation='softmax'))"
      ],
      "execution_count": 4,
      "outputs": []
    },
    {
      "cell_type": "code",
      "metadata": {
        "id": "PRkYkMr6Dk1H"
      },
      "source": [
        "model.compile(optimizer=Adam(), loss='sparse_categorical_crossentropy', metrics=['accuracy'])"
      ],
      "execution_count": 5,
      "outputs": []
    },
    {
      "cell_type": "code",
      "metadata": {
        "id": "EB7zqH_H5MTO",
        "colab": {
          "base_uri": "https://localhost:8080/"
        },
        "outputId": "18effc63-a546-44b0-ba5b-23aa7549bd90"
      },
      "source": [
        "model.summary()"
      ],
      "execution_count": 6,
      "outputs": [
        {
          "output_type": "stream",
          "text": [
            "Model: \"sequential\"\n",
            "_________________________________________________________________\n",
            "Layer (type)                 Output Shape              Param #   \n",
            "=================================================================\n",
            "conv2d (Conv2D)              (None, 28, 28, 32)        320       \n",
            "_________________________________________________________________\n",
            "max_pooling2d (MaxPooling2D) (None, 14, 14, 32)        0         \n",
            "_________________________________________________________________\n",
            "dropout (Dropout)            (None, 14, 14, 32)        0         \n",
            "_________________________________________________________________\n",
            "conv2d_1 (Conv2D)            (None, 14, 14, 64)        18496     \n",
            "_________________________________________________________________\n",
            "max_pooling2d_1 (MaxPooling2 (None, 7, 7, 64)          0         \n",
            "_________________________________________________________________\n",
            "dropout_1 (Dropout)          (None, 7, 7, 64)          0         \n",
            "_________________________________________________________________\n",
            "conv2d_2 (Conv2D)            (None, 7, 7, 128)         73856     \n",
            "_________________________________________________________________\n",
            "max_pooling2d_2 (MaxPooling2 (None, 4, 4, 128)         0         \n",
            "_________________________________________________________________\n",
            "dropout_2 (Dropout)          (None, 4, 4, 128)         0         \n",
            "_________________________________________________________________\n",
            "flatten (Flatten)            (None, 2048)              0         \n",
            "_________________________________________________________________\n",
            "dense (Dense)                (None, 10)                20490     \n",
            "=================================================================\n",
            "Total params: 113,162\n",
            "Trainable params: 113,162\n",
            "Non-trainable params: 0\n",
            "_________________________________________________________________\n"
          ],
          "name": "stdout"
        }
      ]
    },
    {
      "cell_type": "code",
      "metadata": {
        "id": "8Exi8cMrwJAo"
      },
      "source": [
        "x_train = x_train.reshape(-1,28,28,1)\n",
        "x_test = x_test.reshape(-1,28,28,1)"
      ],
      "execution_count": 7,
      "outputs": []
    },
    {
      "cell_type": "code",
      "metadata": {
        "id": "lWC9NA-G5vvz",
        "colab": {
          "base_uri": "https://localhost:8080/"
        },
        "outputId": "c814783c-649a-49c6-d79b-8c8ca1e260bc"
      },
      "source": [
        "start_time = datetime.now()\n",
        "\n",
        "hist = model.fit(x_train, t_train, batch_size=50, epochs=50, validation_data=(x_test, t_test))\n",
        "\n",
        "end_time = datetime.now()\n",
        "\n",
        "print('\\n\\nElapsed Time => ', end_time - start_time)"
      ],
      "execution_count": 8,
      "outputs": [
        {
          "output_type": "stream",
          "text": [
            "Epoch 1/50\n",
            "1200/1200 [==============================] - 35s 3ms/step - loss: 0.2129 - accuracy: 0.9311 - val_loss: 0.0474 - val_accuracy: 0.9844\n",
            "Epoch 2/50\n",
            "1200/1200 [==============================] - 4s 3ms/step - loss: 0.0689 - accuracy: 0.9776 - val_loss: 0.0356 - val_accuracy: 0.9885\n",
            "Epoch 3/50\n",
            "1200/1200 [==============================] - 4s 3ms/step - loss: 0.0516 - accuracy: 0.9837 - val_loss: 0.0295 - val_accuracy: 0.9902\n",
            "Epoch 4/50\n",
            "1200/1200 [==============================] - 4s 3ms/step - loss: 0.0444 - accuracy: 0.9855 - val_loss: 0.0256 - val_accuracy: 0.9915\n",
            "Epoch 5/50\n",
            "1200/1200 [==============================] - 4s 3ms/step - loss: 0.0377 - accuracy: 0.9880 - val_loss: 0.0199 - val_accuracy: 0.9932\n",
            "Epoch 6/50\n",
            "1200/1200 [==============================] - 4s 3ms/step - loss: 0.0331 - accuracy: 0.9893 - val_loss: 0.0213 - val_accuracy: 0.9932\n",
            "Epoch 7/50\n",
            "1200/1200 [==============================] - 4s 3ms/step - loss: 0.0314 - accuracy: 0.9901 - val_loss: 0.0204 - val_accuracy: 0.9930\n",
            "Epoch 8/50\n",
            "1200/1200 [==============================] - 4s 3ms/step - loss: 0.0283 - accuracy: 0.9908 - val_loss: 0.0193 - val_accuracy: 0.9934\n",
            "Epoch 9/50\n",
            "1200/1200 [==============================] - 4s 3ms/step - loss: 0.0264 - accuracy: 0.9914 - val_loss: 0.0199 - val_accuracy: 0.9932\n",
            "Epoch 10/50\n",
            "1200/1200 [==============================] - 4s 3ms/step - loss: 0.0241 - accuracy: 0.9918 - val_loss: 0.0209 - val_accuracy: 0.9937\n",
            "Epoch 11/50\n",
            "1200/1200 [==============================] - 4s 3ms/step - loss: 0.0240 - accuracy: 0.9922 - val_loss: 0.0210 - val_accuracy: 0.9936\n",
            "Epoch 12/50\n",
            "1200/1200 [==============================] - 4s 3ms/step - loss: 0.0206 - accuracy: 0.9932 - val_loss: 0.0228 - val_accuracy: 0.9920\n",
            "Epoch 13/50\n",
            "1200/1200 [==============================] - 4s 3ms/step - loss: 0.0223 - accuracy: 0.9928 - val_loss: 0.0235 - val_accuracy: 0.9923\n",
            "Epoch 14/50\n",
            "1200/1200 [==============================] - 4s 3ms/step - loss: 0.0193 - accuracy: 0.9935 - val_loss: 0.0242 - val_accuracy: 0.9936\n",
            "Epoch 15/50\n",
            "1200/1200 [==============================] - 4s 3ms/step - loss: 0.0185 - accuracy: 0.9937 - val_loss: 0.0246 - val_accuracy: 0.9940\n",
            "Epoch 16/50\n",
            "1200/1200 [==============================] - 4s 3ms/step - loss: 0.0183 - accuracy: 0.9939 - val_loss: 0.0253 - val_accuracy: 0.9922\n",
            "Epoch 17/50\n",
            "1200/1200 [==============================] - 4s 3ms/step - loss: 0.0174 - accuracy: 0.9944 - val_loss: 0.0232 - val_accuracy: 0.9938\n",
            "Epoch 18/50\n",
            "1200/1200 [==============================] - 4s 3ms/step - loss: 0.0184 - accuracy: 0.9941 - val_loss: 0.0215 - val_accuracy: 0.9941\n",
            "Epoch 19/50\n",
            "1200/1200 [==============================] - 4s 3ms/step - loss: 0.0160 - accuracy: 0.9946 - val_loss: 0.0223 - val_accuracy: 0.9939\n",
            "Epoch 20/50\n",
            "1200/1200 [==============================] - 4s 3ms/step - loss: 0.0160 - accuracy: 0.9947 - val_loss: 0.0238 - val_accuracy: 0.9929\n",
            "Epoch 21/50\n",
            "1200/1200 [==============================] - 4s 3ms/step - loss: 0.0151 - accuracy: 0.9951 - val_loss: 0.0243 - val_accuracy: 0.9925\n",
            "Epoch 22/50\n",
            "1200/1200 [==============================] - 4s 3ms/step - loss: 0.0160 - accuracy: 0.9946 - val_loss: 0.0206 - val_accuracy: 0.9943\n",
            "Epoch 23/50\n",
            "1200/1200 [==============================] - 4s 3ms/step - loss: 0.0141 - accuracy: 0.9954 - val_loss: 0.0257 - val_accuracy: 0.9924\n",
            "Epoch 24/50\n",
            "1200/1200 [==============================] - 4s 3ms/step - loss: 0.0149 - accuracy: 0.9952 - val_loss: 0.0228 - val_accuracy: 0.9935\n",
            "Epoch 25/50\n",
            "1200/1200 [==============================] - 4s 3ms/step - loss: 0.0142 - accuracy: 0.9954 - val_loss: 0.0250 - val_accuracy: 0.9940\n",
            "Epoch 26/50\n",
            "1200/1200 [==============================] - 4s 3ms/step - loss: 0.0153 - accuracy: 0.9952 - val_loss: 0.0259 - val_accuracy: 0.9936\n",
            "Epoch 27/50\n",
            "1200/1200 [==============================] - 4s 3ms/step - loss: 0.0133 - accuracy: 0.9957 - val_loss: 0.0214 - val_accuracy: 0.9937\n",
            "Epoch 28/50\n",
            "1200/1200 [==============================] - 4s 3ms/step - loss: 0.0144 - accuracy: 0.9953 - val_loss: 0.0233 - val_accuracy: 0.9935\n",
            "Epoch 29/50\n",
            "1200/1200 [==============================] - 4s 3ms/step - loss: 0.0138 - accuracy: 0.9956 - val_loss: 0.0239 - val_accuracy: 0.9933\n",
            "Epoch 30/50\n",
            "1200/1200 [==============================] - 4s 3ms/step - loss: 0.0123 - accuracy: 0.9959 - val_loss: 0.0253 - val_accuracy: 0.9936\n",
            "Epoch 31/50\n",
            "1200/1200 [==============================] - 4s 3ms/step - loss: 0.0133 - accuracy: 0.9954 - val_loss: 0.0222 - val_accuracy: 0.9941\n",
            "Epoch 32/50\n",
            "1200/1200 [==============================] - 4s 3ms/step - loss: 0.0134 - accuracy: 0.9955 - val_loss: 0.0235 - val_accuracy: 0.9943\n",
            "Epoch 33/50\n",
            "1200/1200 [==============================] - 4s 3ms/step - loss: 0.0145 - accuracy: 0.9955 - val_loss: 0.0231 - val_accuracy: 0.9942\n",
            "Epoch 34/50\n",
            "1200/1200 [==============================] - 4s 3ms/step - loss: 0.0134 - accuracy: 0.9956 - val_loss: 0.0253 - val_accuracy: 0.9942\n",
            "Epoch 35/50\n",
            "1200/1200 [==============================] - 4s 3ms/step - loss: 0.0150 - accuracy: 0.9950 - val_loss: 0.0233 - val_accuracy: 0.9941\n",
            "Epoch 36/50\n",
            "1200/1200 [==============================] - 4s 3ms/step - loss: 0.0126 - accuracy: 0.9958 - val_loss: 0.0236 - val_accuracy: 0.9939\n",
            "Epoch 37/50\n",
            "1200/1200 [==============================] - 4s 3ms/step - loss: 0.0129 - accuracy: 0.9957 - val_loss: 0.0257 - val_accuracy: 0.9931\n",
            "Epoch 38/50\n",
            "1200/1200 [==============================] - 4s 3ms/step - loss: 0.0138 - accuracy: 0.9958 - val_loss: 0.0264 - val_accuracy: 0.9935\n",
            "Epoch 39/50\n",
            "1200/1200 [==============================] - 4s 3ms/step - loss: 0.0117 - accuracy: 0.9961 - val_loss: 0.0241 - val_accuracy: 0.9941\n",
            "Epoch 40/50\n",
            "1200/1200 [==============================] - 4s 3ms/step - loss: 0.0122 - accuracy: 0.9960 - val_loss: 0.0220 - val_accuracy: 0.9945\n",
            "Epoch 41/50\n",
            "1200/1200 [==============================] - 4s 3ms/step - loss: 0.0112 - accuracy: 0.9964 - val_loss: 0.0259 - val_accuracy: 0.9935\n",
            "Epoch 42/50\n",
            "1200/1200 [==============================] - 4s 3ms/step - loss: 0.0119 - accuracy: 0.9959 - val_loss: 0.0250 - val_accuracy: 0.9941\n",
            "Epoch 43/50\n",
            "1200/1200 [==============================] - 4s 3ms/step - loss: 0.0123 - accuracy: 0.9959 - val_loss: 0.0215 - val_accuracy: 0.9946\n",
            "Epoch 44/50\n",
            "1200/1200 [==============================] - 4s 3ms/step - loss: 0.0109 - accuracy: 0.9965 - val_loss: 0.0262 - val_accuracy: 0.9943\n",
            "Epoch 45/50\n",
            "1200/1200 [==============================] - 4s 3ms/step - loss: 0.0137 - accuracy: 0.9958 - val_loss: 0.0238 - val_accuracy: 0.9944\n",
            "Epoch 46/50\n",
            "1200/1200 [==============================] - 4s 3ms/step - loss: 0.0099 - accuracy: 0.9969 - val_loss: 0.0243 - val_accuracy: 0.9941\n",
            "Epoch 47/50\n",
            "1200/1200 [==============================] - 4s 3ms/step - loss: 0.0122 - accuracy: 0.9962 - val_loss: 0.0265 - val_accuracy: 0.9941\n",
            "Epoch 48/50\n",
            "1200/1200 [==============================] - 4s 3ms/step - loss: 0.0109 - accuracy: 0.9964 - val_loss: 0.0239 - val_accuracy: 0.9947\n",
            "Epoch 49/50\n",
            "1200/1200 [==============================] - 4s 3ms/step - loss: 0.0122 - accuracy: 0.9963 - val_loss: 0.0289 - val_accuracy: 0.9936\n",
            "Epoch 50/50\n",
            "1200/1200 [==============================] - 4s 3ms/step - loss: 0.0126 - accuracy: 0.9960 - val_loss: 0.0304 - val_accuracy: 0.9936\n",
            "\n",
            "\n",
            "Elapsed Time =>  0:03:45.373207\n"
          ],
          "name": "stdout"
        }
      ]
    },
    {
      "cell_type": "code",
      "metadata": {
        "id": "2C2fV-8K6XsU",
        "colab": {
          "base_uri": "https://localhost:8080/"
        },
        "outputId": "ef718d40-a2a4-4d79-d8a6-7b2d1d6250ae"
      },
      "source": [
        "# x_test 도 마찬가지로 데이터를 4차원으로 reshape 으로 변환 해주지 않으면 error\n",
        "\n",
        "model.evaluate(x_test, t_test)"
      ],
      "execution_count": 9,
      "outputs": [
        {
          "output_type": "stream",
          "text": [
            "313/313 [==============================] - 1s 3ms/step - loss: 0.0304 - accuracy: 0.9936\n"
          ],
          "name": "stdout"
        },
        {
          "output_type": "execute_result",
          "data": {
            "text/plain": [
              "[0.03043229691684246, 0.9936000108718872]"
            ]
          },
          "metadata": {
            "tags": []
          },
          "execution_count": 9
        }
      ]
    },
    {
      "cell_type": "code",
      "metadata": {
        "id": "V2H-ARVci04l",
        "colab": {
          "base_uri": "https://localhost:8080/",
          "height": 295
        },
        "outputId": "663243fd-9932-4df1-f35f-1adc12a0e4e8"
      },
      "source": [
        "import matplotlib.pyplot as plt\n",
        "\n",
        "plt.plot(hist.history['accuracy'])\n",
        "plt.plot(hist.history['val_accuracy'])\n",
        "plt.title('Accuracy Trend')\n",
        "plt.ylabel('accuracy')\n",
        "plt.xlabel('epoch')\n",
        "plt.legend(['train','validation'], loc='best')\n",
        "plt.grid()\n",
        "plt.show()"
      ],
      "execution_count": 10,
      "outputs": [
        {
          "output_type": "display_data",
          "data": {
            "image/png": "[encoded data removed]",
            "text/plain": [
              "<Figure size 432x288 with 1 Axes>"
            ]
          },
          "metadata": {
            "tags": [],
            "needs_background": "light"
          }
        }
      ]
    },
    {
      "cell_type": "code",
      "metadata": {
        "colab": {
          "base_uri": "https://localhost:8080/",
          "height": 295
        },
        "id": "kxmiD7y7WBe0",
        "outputId": "822c7036-e073-4674-ea65-e361951782dc"
      },
      "source": [
        "plt.plot(hist.history['loss'])\n",
        "plt.plot(hist.history['val_loss'])\n",
        "plt.title('Loss Trend')\n",
        "plt.ylabel('loss')\n",
        "plt.xlabel('epoch')\n",
        "plt.legend(['train','validation'], loc='best')\n",
        "plt.grid()\n",
        "plt.show()"
      ],
      "execution_count": 11,
      "outputs": [
        {
          "output_type": "display_data",
          "data": {
            "image/png": "[encoded data removed]",
            "text/plain": [
              "<Figure size 432x288 with 1 Axes>"
            ]
          },
          "metadata": {
            "tags": [],
            "needs_background": "light"
          }
        }
      ]
    },
    {
      "cell_type": "code",
      "metadata": {
        "id": "bFx1CcBGWEfl"
      },
      "source": [
        ""
      ],
      "execution_count": null,
      "outputs": []
    }
  ]
}