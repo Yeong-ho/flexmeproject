{
  "nbformat": 4,
  "nbformat_minor": 0,
  "metadata": {
    "colab": {
      "name": "TF_2_x_CNN_Example_7_1.ipynb",
      "provenance": [],
      "collapsed_sections": []
    },
    "kernelspec": {
      "name": "python3",
      "display_name": "Python 3"
    },
    "accelerator": "GPU"
  },
  "cells": [
    {
      "cell_type": "code",
      "metadata": {
        "id": "Mz7L7JQA0zBd"
      },
      "source": [
        "import tensorflow as tf\n",
        "\n",
        "from tensorflow.keras.layers import Flatten, Dense, Conv2D, MaxPooling2D, Dropout\n",
        "from tensorflow.keras.models import Sequential\n",
        "from tensorflow.keras.optimizers import Adam\n",
        "from tensorflow.keras.datasets import mnist\n",
        "\n",
        "import numpy as np\n",
        "from datetime import datetime\n",
        "import matplotlib.pyplot as plt"
      ],
      "execution_count": 15,
      "outputs": []
    },
    {
      "cell_type": "code",
      "metadata": {
        "id": "hWSWQdg61_pp",
        "colab": {
          "base_uri": "https://localhost:8080/"
        },
        "outputId": "61ca4e4f-e971-4ba1-8f51-29b59324b9cc"
      },
      "source": [
        "(x_train, t_train), (x_test, t_test) = mnist.load_data()\n",
        "\n",
        "x_train = x_train / 255.0\n",
        "x_test = x_test / 255.0\n",
        "\n",
        "print('x_train.shape = ', x_train.shape, ' , x_test.shape = ', x_test.shape)\n",
        "print('t_train.shape = ', t_train.shape, ' , t_test.shape = ', t_test.shape)"
      ],
      "execution_count": 2,
      "outputs": [
        {
          "output_type": "stream",
          "text": [
            "Downloading data from https://storage.googleapis.com/tensorflow/tf-keras-datasets/mnist.npz\n",
            "11493376/11490434 [==============================] - 0s 0us/step\n",
            "x_train.shape =  (60000, 28, 28)  , x_test.shape =  (10000, 28, 28)\n",
            "t_train.shape =  (60000,)  , t_test.shape =  (10000,)\n"
          ],
          "name": "stdout"
        }
      ]
    },
    {
      "cell_type": "code",
      "metadata": {
        "id": "8dvRVX7M_0dY",
        "colab": {
          "base_uri": "https://localhost:8080/",
          "height": 589
        },
        "outputId": "ae3cbade-ad7b-4085-fb13-23c17a52311b"
      },
      "source": [
        "# 데이터 출력\n",
        "\n",
        "plt.figure(figsize=(10,10))\n",
        "\n",
        "for index in range(25):\n",
        "\n",
        "    plt.subplot(5, 5, index+1)\n",
        "    plt.xticks([])\n",
        "    plt.yticks([])\n",
        "    plt.grid(False)\n",
        "    plt.imshow(x_train[index], cmap='gray')\n",
        "    plt.xlabel(str(t_train[index]))\n",
        "\n",
        "plt.show()"
      ],
      "execution_count": 3,
      "outputs": [
        {
          "output_type": "display_data",
          "data": {
            "image/png": "[encoded data removed]",
            "text/plain": [
              "<Figure size 720x720 with 25 Axes>"
            ]
          },
          "metadata": {
            "tags": []
          }
        }
      ]
    },
    {
      "cell_type": "code",
      "metadata": {
        "id": "011OLa7CCG8k"
      },
      "source": [
        "# hyper paramter\n",
        "\n",
        "learning_rate = 0.001\n",
        "epochs = 30\n",
        "batch_size = 50"
      ],
      "execution_count": 4,
      "outputs": []
    },
    {
      "cell_type": "code",
      "metadata": {
        "id": "TyTj4TLi3L2Q"
      },
      "source": [
        "# sequential model construction\n",
        "\n",
        "model = Sequential()\n",
        "\n",
        "model.add(Conv2D(input_shape=(28,28,1), kernel_size=3, filters=32, strides=(1,1), activation='relu', padding='VALID'))\n",
        "model.add(MaxPooling2D(pool_size=(2,2), padding='SAME'))\n",
        "Dropout(0.25)\n",
        "\n",
        "model.add(Conv2D(kernel_size=3, filters=64, strides=(1,1), activation='relu', padding='VALID'))\n",
        "model.add(MaxPooling2D(pool_size=(2,2), padding='SAME'))\n",
        "Dropout(0.25)\n",
        "\n",
        "model.add(Conv2D(kernel_size=3, filters=128, strides=(1,1), activation='relu',padding='VALID'))\n",
        "\n",
        "# pooling_3 = MaxPooling2D(pool_size=(2,2), padding='SAME')\n",
        "# model.add(pooling_3)\n",
        "\n",
        "model.add(Flatten())\n",
        "\n",
        "# 출력층 \n",
        "model.add(Dense(10, activation='softmax'))"
      ],
      "execution_count": 24,
      "outputs": []
    },
    {
      "cell_type": "code",
      "metadata": {
        "id": "PRkYkMr6Dk1H"
      },
      "source": [
        "# model compile\n",
        "# one hot encoding 방식이 아니기 때문에, loss=sparse_categorical_crossentropy 정의\n",
        "\n",
        "model.compile(optimizer=Adam(learning_rate), loss='sparse_categorical_crossentropy', metrics=['accuracy'])"
      ],
      "execution_count": 25,
      "outputs": []
    },
    {
      "cell_type": "code",
      "metadata": {
        "id": "EB7zqH_H5MTO",
        "colab": {
          "base_uri": "https://localhost:8080/"
        },
        "outputId": "680a38af-b706-4d99-c405-2d37e8f06de1"
      },
      "source": [
        "model.summary()"
      ],
      "execution_count": 26,
      "outputs": [
        {
          "output_type": "stream",
          "text": [
            "Model: \"sequential_2\"\n",
            "_________________________________________________________________\n",
            "Layer (type)                 Output Shape              Param #   \n",
            "=================================================================\n",
            "conv2d_6 (Conv2D)            (None, 26, 26, 32)        320       \n",
            "_________________________________________________________________\n",
            "max_pooling2d_4 (MaxPooling2 (None, 13, 13, 32)        0         \n",
            "_________________________________________________________________\n",
            "conv2d_7 (Conv2D)            (None, 11, 11, 64)        18496     \n",
            "_________________________________________________________________\n",
            "max_pooling2d_5 (MaxPooling2 (None, 6, 6, 64)          0         \n",
            "_________________________________________________________________\n",
            "conv2d_8 (Conv2D)            (None, 4, 4, 128)         73856     \n",
            "_________________________________________________________________\n",
            "flatten_2 (Flatten)          (None, 2048)              0         \n",
            "_________________________________________________________________\n",
            "dense_2 (Dense)              (None, 10)                20490     \n",
            "=================================================================\n",
            "Total params: 113,162\n",
            "Trainable params: 113,162\n",
            "Non-trainable params: 0\n",
            "_________________________________________________________________\n"
          ],
          "name": "stdout"
        }
      ]
    },
    {
      "cell_type": "code",
      "metadata": {
        "id": "z-d4vAcvIUp0"
      },
      "source": [
        "x_train = x_train.reshape(-1, 28, 28, 1)\n",
        "x_test = x_test.reshape(-1, 28, 28, 1)"
      ],
      "execution_count": 27,
      "outputs": []
    },
    {
      "cell_type": "code",
      "metadata": {
        "id": "lWC9NA-G5vvz",
        "colab": {
          "base_uri": "https://localhost:8080/"
        },
        "outputId": "da14726f-e0ef-4d91-fa04-2b1836cb9533"
      },
      "source": [
        "start_time = datetime.now()\n",
        "\n",
        "hist = model.fit(x_train, t_train, \n",
        "                 batch_size=batch_size, epochs=epochs, \n",
        "                 validation_data=(x_test, t_test))\n",
        "\n",
        "end_time = datetime.now()\n",
        "\n",
        "print('\\n\\nElapsed Time => ', end_time - start_time)"
      ],
      "execution_count": 28,
      "outputs": [
        {
          "output_type": "stream",
          "text": [
            "Epoch 1/30\n",
            "1200/1200 [==============================] - 4s 3ms/step - loss: 0.1403 - accuracy: 0.9568 - val_loss: 0.0574 - val_accuracy: 0.9810\n",
            "Epoch 2/30\n",
            "1200/1200 [==============================] - 3s 3ms/step - loss: 0.0410 - accuracy: 0.9870 - val_loss: 0.0335 - val_accuracy: 0.9893\n",
            "Epoch 3/30\n",
            "1200/1200 [==============================] - 3s 3ms/step - loss: 0.0287 - accuracy: 0.9909 - val_loss: 0.0297 - val_accuracy: 0.9907\n",
            "Epoch 4/30\n",
            "1200/1200 [==============================] - 3s 3ms/step - loss: 0.0221 - accuracy: 0.9932 - val_loss: 0.0306 - val_accuracy: 0.9899\n",
            "Epoch 5/30\n",
            "1200/1200 [==============================] - 3s 3ms/step - loss: 0.0161 - accuracy: 0.9949 - val_loss: 0.0308 - val_accuracy: 0.9915\n",
            "Epoch 6/30\n",
            "1200/1200 [==============================] - 3s 3ms/step - loss: 0.0137 - accuracy: 0.9958 - val_loss: 0.0326 - val_accuracy: 0.9904\n",
            "Epoch 7/30\n",
            "1200/1200 [==============================] - 3s 3ms/step - loss: 0.0109 - accuracy: 0.9964 - val_loss: 0.0451 - val_accuracy: 0.9876\n",
            "Epoch 8/30\n",
            "1200/1200 [==============================] - 3s 3ms/step - loss: 0.0083 - accuracy: 0.9972 - val_loss: 0.0337 - val_accuracy: 0.9901\n",
            "Epoch 9/30\n",
            "1200/1200 [==============================] - 3s 3ms/step - loss: 0.0084 - accuracy: 0.9973 - val_loss: 0.0302 - val_accuracy: 0.9920\n",
            "Epoch 10/30\n",
            "1200/1200 [==============================] - 3s 3ms/step - loss: 0.0074 - accuracy: 0.9977 - val_loss: 0.0309 - val_accuracy: 0.9925\n",
            "Epoch 11/30\n",
            "1200/1200 [==============================] - 3s 3ms/step - loss: 0.0063 - accuracy: 0.9979 - val_loss: 0.0481 - val_accuracy: 0.9888\n",
            "Epoch 12/30\n",
            "1200/1200 [==============================] - 3s 3ms/step - loss: 0.0051 - accuracy: 0.9984 - val_loss: 0.0376 - val_accuracy: 0.9929\n",
            "Epoch 13/30\n",
            "1200/1200 [==============================] - 3s 3ms/step - loss: 0.0045 - accuracy: 0.9985 - val_loss: 0.0339 - val_accuracy: 0.9926\n",
            "Epoch 14/30\n",
            "1200/1200 [==============================] - 3s 3ms/step - loss: 0.0049 - accuracy: 0.9983 - val_loss: 0.0476 - val_accuracy: 0.9893\n",
            "Epoch 15/30\n",
            "1200/1200 [==============================] - 3s 3ms/step - loss: 0.0033 - accuracy: 0.9988 - val_loss: 0.0414 - val_accuracy: 0.9923\n",
            "Epoch 16/30\n",
            "1200/1200 [==============================] - 3s 3ms/step - loss: 0.0048 - accuracy: 0.9984 - val_loss: 0.0508 - val_accuracy: 0.9912\n",
            "Epoch 17/30\n",
            "1200/1200 [==============================] - 3s 3ms/step - loss: 0.0031 - accuracy: 0.9991 - val_loss: 0.0404 - val_accuracy: 0.9924\n",
            "Epoch 18/30\n",
            "1200/1200 [==============================] - 3s 3ms/step - loss: 0.0025 - accuracy: 0.9992 - val_loss: 0.0442 - val_accuracy: 0.9926\n",
            "Epoch 19/30\n",
            "1200/1200 [==============================] - 4s 3ms/step - loss: 0.0037 - accuracy: 0.9988 - val_loss: 0.0444 - val_accuracy: 0.9926\n",
            "Epoch 20/30\n",
            "1200/1200 [==============================] - 4s 3ms/step - loss: 0.0026 - accuracy: 0.9992 - val_loss: 0.0422 - val_accuracy: 0.9928\n",
            "Epoch 21/30\n",
            "1200/1200 [==============================] - 4s 3ms/step - loss: 0.0032 - accuracy: 0.9991 - val_loss: 0.0461 - val_accuracy: 0.9926\n",
            "Epoch 22/30\n",
            "1200/1200 [==============================] - 3s 3ms/step - loss: 0.0024 - accuracy: 0.9992 - val_loss: 0.0527 - val_accuracy: 0.9911\n",
            "Epoch 23/30\n",
            "1200/1200 [==============================] - 3s 3ms/step - loss: 0.0031 - accuracy: 0.9990 - val_loss: 0.0553 - val_accuracy: 0.9909\n",
            "Epoch 24/30\n",
            "1200/1200 [==============================] - 3s 3ms/step - loss: 0.0031 - accuracy: 0.9989 - val_loss: 0.0494 - val_accuracy: 0.9926\n",
            "Epoch 25/30\n",
            "1200/1200 [==============================] - 3s 3ms/step - loss: 0.0030 - accuracy: 0.9991 - val_loss: 0.0559 - val_accuracy: 0.9907\n",
            "Epoch 26/30\n",
            "1200/1200 [==============================] - 3s 3ms/step - loss: 0.0028 - accuracy: 0.9990 - val_loss: 0.0466 - val_accuracy: 0.9927\n",
            "Epoch 27/30\n",
            "1200/1200 [==============================] - 4s 3ms/step - loss: 0.0020 - accuracy: 0.9994 - val_loss: 0.0527 - val_accuracy: 0.9920\n",
            "Epoch 28/30\n",
            "1200/1200 [==============================] - 3s 3ms/step - loss: 0.0023 - accuracy: 0.9991 - val_loss: 0.0458 - val_accuracy: 0.9930\n",
            "Epoch 29/30\n",
            "1200/1200 [==============================] - 3s 3ms/step - loss: 0.0025 - accuracy: 0.9993 - val_loss: 0.0568 - val_accuracy: 0.9919\n",
            "Epoch 30/30\n",
            "1200/1200 [==============================] - 3s 3ms/step - loss: 0.0032 - accuracy: 0.9992 - val_loss: 0.0463 - val_accuracy: 0.9931\n",
            "\n",
            "\n",
            "Elapsed Time =>  0:02:22.332642\n"
          ],
          "name": "stdout"
        }
      ]
    },
    {
      "cell_type": "code",
      "metadata": {
        "id": "2C2fV-8K6XsU",
        "colab": {
          "base_uri": "https://localhost:8080/"
        },
        "outputId": "27af56da-1589-4f23-c6f1-bda736f88f76"
      },
      "source": [
        "# x_test 도 마찬가지로 데이터를 4차원으로 reshape 으로 변환 해주지 않으면 error\n",
        "\n",
        "model.evaluate(x_test, t_test)"
      ],
      "execution_count": 29,
      "outputs": [
        {
          "output_type": "stream",
          "text": [
            "313/313 [==============================] - 1s 3ms/step - loss: 0.0463 - accuracy: 0.9931\n"
          ],
          "name": "stdout"
        },
        {
          "output_type": "execute_result",
          "data": {
            "text/plain": [
              "[0.04632584750652313, 0.9930999875068665]"
            ]
          },
          "metadata": {
            "tags": []
          },
          "execution_count": 29
        }
      ]
    },
    {
      "cell_type": "code",
      "metadata": {
        "id": "3j2siXRfFGNd",
        "colab": {
          "base_uri": "https://localhost:8080/",
          "height": 295
        },
        "outputId": "d4996108-3406-4d91-851a-b141f19dee16"
      },
      "source": [
        "plt.title('accuracy trend')\n",
        "plt.grid()\n",
        "plt.xlabel('epochs')\n",
        "plt.ylabel('accuracy')\n",
        "\n",
        "plt.plot(hist.history['accuracy'], label='train')\n",
        "plt.plot(hist.history['val_accuracy'], label='validation')\n",
        "\n",
        "plt.legend(loc='best')\n",
        "\n",
        "plt.show()"
      ],
      "execution_count": 30,
      "outputs": [
        {
          "output_type": "display_data",
          "data": {
            "image/png": "[encoded data removed]",
            "text/plain": [
              "<Figure size 432x288 with 1 Axes>"
            ]
          },
          "metadata": {
            "tags": [],
            "needs_background": "light"
          }
        }
      ]
    },
    {
      "cell_type": "code",
      "metadata": {
        "colab": {
          "base_uri": "https://localhost:8080/",
          "height": 295
        },
        "id": "6NtIQdzwJREL",
        "outputId": "cd64c076-4583-462e-f6f5-924522ab6185"
      },
      "source": [
        "plt.title('loss trend')\n",
        "plt.grid()\n",
        "plt.xlabel('epochs')\n",
        "plt.ylabel('loss')\n",
        "\n",
        "plt.plot(hist.history['loss'], label='train')\n",
        "plt.plot(hist.history['val_loss'], label='validation')\n",
        "\n",
        "plt.legend(loc='best')\n",
        "\n",
        "plt.show()"
      ],
      "execution_count": 31,
      "outputs": [
        {
          "output_type": "display_data",
          "data": {
            "image/png": "[encoded data removed]",
            "text/plain": [
              "<Figure size 432x288 with 1 Axes>"
            ]
          },
          "metadata": {
            "tags": [],
            "needs_background": "light"
          }
        }
      ]
    },
    {
      "cell_type": "code",
      "metadata": {
        "id": "W7CLOWMiJcVc"
      },
      "source": [
        ""
      ],
      "execution_count": null,
      "outputs": []
    }
  ]
}