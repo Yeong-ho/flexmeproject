{
  "nbformat": 4,
  "nbformat_minor": 0,
  "metadata": {
    "colab": {
      "name": "KerasModel_Example_1.ipynb",
      "provenance": [],
      "collapsed_sections": []
    },
    "kernelspec": {
      "name": "python3",
      "display_name": "Python 3"
    },
    "language_info": {
      "name": "python"
    },
    "accelerator": "GPU"
  },
  "cells": [
    {
      "cell_type": "markdown",
      "metadata": {
        "id": "qqJzgApFW7qg"
      },
      "source": [
        "Sequential API 모델 예시"
      ]
    },
    {
      "cell_type": "code",
      "metadata": {
        "colab": {
          "base_uri": "https://localhost:8080/"
        },
        "id": "UEjkv_eg_5SG",
        "outputId": "80ddffb5-f038-4e26-8f7d-53da4e63a36a"
      },
      "source": [
        "import tensorflow as tf\n",
        "\n",
        "from tensorflow.keras.models import Sequential, Model\n",
        "from tensorflow.keras.layers import Dense, Flatten\n",
        "\n",
        "model = Sequential()\n",
        "\n",
        "model.add(Dense(8, activation='relu', input_shape=(4,)))\n",
        "model.add(Dense(16, activation='relu'))\n",
        "model.add(Dense(32, activation='relu'))\n",
        "\n",
        "model.add(Dense(10, activation='softmax'))\n",
        "\n",
        "model.summary()"
      ],
      "execution_count": 1,
      "outputs": [
        {
          "output_type": "stream",
          "name": "stdout",
          "text": [
            "Model: \"sequential\"\n",
            "_________________________________________________________________\n",
            "Layer (type)                 Output Shape              Param #   \n",
            "=================================================================\n",
            "dense (Dense)                (None, 8)                 40        \n",
            "_________________________________________________________________\n",
            "dense_1 (Dense)              (None, 16)                144       \n",
            "_________________________________________________________________\n",
            "dense_2 (Dense)              (None, 32)                544       \n",
            "_________________________________________________________________\n",
            "dense_3 (Dense)              (None, 10)                330       \n",
            "=================================================================\n",
            "Total params: 1,058\n",
            "Trainable params: 1,058\n",
            "Non-trainable params: 0\n",
            "_________________________________________________________________\n"
          ]
        }
      ]
    },
    {
      "cell_type": "code",
      "metadata": {
        "colab": {
          "base_uri": "https://localhost:8080/"
        },
        "id": "9XARvAxgnRbq",
        "outputId": "16324c5f-dd4e-4d9f-9107-de5ecd641c5c"
      },
      "source": [
        "for idx in range(len(model.layers)):\n",
        "\n",
        "    print('model.layers[%d] = %s, %s' %(idx, model.layers[idx].name, model.layers[idx].output.shape) )"
      ],
      "execution_count": 2,
      "outputs": [
        {
          "output_type": "stream",
          "name": "stdout",
          "text": [
            "model.layers[0] = dense, (None, 8)\n",
            "model.layers[1] = dense_1, (None, 16)\n",
            "model.layers[2] = dense_2, (None, 32)\n",
            "model.layers[3] = dense_3, (None, 10)\n"
          ]
        }
      ]
    },
    {
      "cell_type": "code",
      "metadata": {
        "colab": {
          "base_uri": "https://localhost:8080/"
        },
        "id": "1120Lhy3czz5",
        "outputId": "23ee7bcd-8da3-4216-fb2f-ef752d06e430"
      },
      "source": [
        "# layer index\n",
        "\n",
        "for idx in range(len(model.layers)):\n",
        "    partial_model = Model(inputs=model.inputs, outputs=model.layers[idx].output)\n",
        "    partial_model.summary()\n",
        "    print('====================================')"
      ],
      "execution_count": 3,
      "outputs": [
        {
          "output_type": "stream",
          "name": "stdout",
          "text": [
            "Model: \"model\"\n",
            "_________________________________________________________________\n",
            "Layer (type)                 Output Shape              Param #   \n",
            "=================================================================\n",
            "dense_input (InputLayer)     [(None, 4)]               0         \n",
            "_________________________________________________________________\n",
            "dense (Dense)                (None, 8)                 40        \n",
            "=================================================================\n",
            "Total params: 40\n",
            "Trainable params: 40\n",
            "Non-trainable params: 0\n",
            "_________________________________________________________________\n",
            "====================================\n",
            "Model: \"model_1\"\n",
            "_________________________________________________________________\n",
            "Layer (type)                 Output Shape              Param #   \n",
            "=================================================================\n",
            "dense_input (InputLayer)     [(None, 4)]               0         \n",
            "_________________________________________________________________\n",
            "dense (Dense)                (None, 8)                 40        \n",
            "_________________________________________________________________\n",
            "dense_1 (Dense)              (None, 16)                144       \n",
            "=================================================================\n",
            "Total params: 184\n",
            "Trainable params: 184\n",
            "Non-trainable params: 0\n",
            "_________________________________________________________________\n",
            "====================================\n",
            "Model: \"model_2\"\n",
            "_________________________________________________________________\n",
            "Layer (type)                 Output Shape              Param #   \n",
            "=================================================================\n",
            "dense_input (InputLayer)     [(None, 4)]               0         \n",
            "_________________________________________________________________\n",
            "dense (Dense)                (None, 8)                 40        \n",
            "_________________________________________________________________\n",
            "dense_1 (Dense)              (None, 16)                144       \n",
            "_________________________________________________________________\n",
            "dense_2 (Dense)              (None, 32)                544       \n",
            "=================================================================\n",
            "Total params: 728\n",
            "Trainable params: 728\n",
            "Non-trainable params: 0\n",
            "_________________________________________________________________\n",
            "====================================\n",
            "Model: \"model_3\"\n",
            "_________________________________________________________________\n",
            "Layer (type)                 Output Shape              Param #   \n",
            "=================================================================\n",
            "dense_input (InputLayer)     [(None, 4)]               0         \n",
            "_________________________________________________________________\n",
            "dense (Dense)                (None, 8)                 40        \n",
            "_________________________________________________________________\n",
            "dense_1 (Dense)              (None, 16)                144       \n",
            "_________________________________________________________________\n",
            "dense_2 (Dense)              (None, 32)                544       \n",
            "_________________________________________________________________\n",
            "dense_3 (Dense)              (None, 10)                330       \n",
            "=================================================================\n",
            "Total params: 1,058\n",
            "Trainable params: 1,058\n",
            "Non-trainable params: 0\n",
            "_________________________________________________________________\n",
            "====================================\n"
          ]
        }
      ]
    },
    {
      "cell_type": "markdown",
      "metadata": {
        "id": "N54FnfN_XAf7"
      },
      "source": [
        "Functional API 모델 예시"
      ]
    },
    {
      "cell_type": "code",
      "metadata": {
        "colab": {
          "base_uri": "https://localhost:8080/"
        },
        "id": "QhlB8hNnAJX0",
        "outputId": "3391da41-3b07-46eb-a8db-7bc80f22df27"
      },
      "source": [
        "import tensorflow as tf\n",
        "\n",
        "from tensorflow.keras.layers import Input, Dense\n",
        "from tensorflow.keras.models import Model\n",
        "\n",
        "input_ = Input(shape=(4,))\n",
        "\n",
        "x = Dense(8, activation='relu')(input_)\n",
        "x = Dense(16, activation='relu')(x)\n",
        "x = Dense(32, activation='relu')(x)\n",
        "\n",
        "output_ = Dense(10, activation='softmax')(x)\n",
        "\n",
        "model = Model(inputs=input_,  outputs=output_)\n",
        "\n",
        "model.summary()"
      ],
      "execution_count": 4,
      "outputs": [
        {
          "output_type": "stream",
          "name": "stdout",
          "text": [
            "Model: \"model_4\"\n",
            "_________________________________________________________________\n",
            "Layer (type)                 Output Shape              Param #   \n",
            "=================================================================\n",
            "input_1 (InputLayer)         [(None, 4)]               0         \n",
            "_________________________________________________________________\n",
            "dense_4 (Dense)              (None, 8)                 40        \n",
            "_________________________________________________________________\n",
            "dense_5 (Dense)              (None, 16)                144       \n",
            "_________________________________________________________________\n",
            "dense_6 (Dense)              (None, 32)                544       \n",
            "_________________________________________________________________\n",
            "dense_7 (Dense)              (None, 10)                330       \n",
            "=================================================================\n",
            "Total params: 1,058\n",
            "Trainable params: 1,058\n",
            "Non-trainable params: 0\n",
            "_________________________________________________________________\n"
          ]
        }
      ]
    },
    {
      "cell_type": "code",
      "metadata": {
        "colab": {
          "base_uri": "https://localhost:8080/"
        },
        "id": "bBs9Aqnbn1W3",
        "outputId": "ff6100f8-2b05-405f-ff63-c256eeaaffc6"
      },
      "source": [
        "for idx in range(len(model.layers)):\n",
        "\n",
        "    print('model.layers[%d] = %s, %s' %(idx, model.layers[idx].name, model.layers[idx].output.shape) )"
      ],
      "execution_count": 5,
      "outputs": [
        {
          "output_type": "stream",
          "name": "stdout",
          "text": [
            "model.layers[0] = input_1, (None, 4)\n",
            "model.layers[1] = dense_4, (None, 8)\n",
            "model.layers[2] = dense_5, (None, 16)\n",
            "model.layers[3] = dense_6, (None, 32)\n",
            "model.layers[4] = dense_7, (None, 10)\n"
          ]
        }
      ]
    },
    {
      "cell_type": "code",
      "metadata": {
        "colab": {
          "base_uri": "https://localhost:8080/"
        },
        "id": "iviq6xGRd5HC",
        "outputId": "5958da65-79d7-4aab-8aa8-f60340945af1"
      },
      "source": [
        "# layer index\n",
        "\n",
        "for idx in range(len(model.layers)):\n",
        "    partial_model = Model(inputs=input_, outputs=model.layers[idx].output)\n",
        "    partial_model.summary()\n",
        "    print('====================================')"
      ],
      "execution_count": 6,
      "outputs": [
        {
          "output_type": "stream",
          "name": "stdout",
          "text": [
            "Model: \"model_5\"\n",
            "_________________________________________________________________\n",
            "Layer (type)                 Output Shape              Param #   \n",
            "=================================================================\n",
            "input_1 (InputLayer)         [(None, 4)]               0         \n",
            "=================================================================\n",
            "Total params: 0\n",
            "Trainable params: 0\n",
            "Non-trainable params: 0\n",
            "_________________________________________________________________\n",
            "====================================\n",
            "Model: \"model_6\"\n",
            "_________________________________________________________________\n",
            "Layer (type)                 Output Shape              Param #   \n",
            "=================================================================\n",
            "input_1 (InputLayer)         [(None, 4)]               0         \n",
            "_________________________________________________________________\n",
            "dense_4 (Dense)              (None, 8)                 40        \n",
            "=================================================================\n",
            "Total params: 40\n",
            "Trainable params: 40\n",
            "Non-trainable params: 0\n",
            "_________________________________________________________________\n",
            "====================================\n",
            "Model: \"model_7\"\n",
            "_________________________________________________________________\n",
            "Layer (type)                 Output Shape              Param #   \n",
            "=================================================================\n",
            "input_1 (InputLayer)         [(None, 4)]               0         \n",
            "_________________________________________________________________\n",
            "dense_4 (Dense)              (None, 8)                 40        \n",
            "_________________________________________________________________\n",
            "dense_5 (Dense)              (None, 16)                144       \n",
            "=================================================================\n",
            "Total params: 184\n",
            "Trainable params: 184\n",
            "Non-trainable params: 0\n",
            "_________________________________________________________________\n",
            "====================================\n",
            "Model: \"model_8\"\n",
            "_________________________________________________________________\n",
            "Layer (type)                 Output Shape              Param #   \n",
            "=================================================================\n",
            "input_1 (InputLayer)         [(None, 4)]               0         \n",
            "_________________________________________________________________\n",
            "dense_4 (Dense)              (None, 8)                 40        \n",
            "_________________________________________________________________\n",
            "dense_5 (Dense)              (None, 16)                144       \n",
            "_________________________________________________________________\n",
            "dense_6 (Dense)              (None, 32)                544       \n",
            "=================================================================\n",
            "Total params: 728\n",
            "Trainable params: 728\n",
            "Non-trainable params: 0\n",
            "_________________________________________________________________\n",
            "====================================\n",
            "Model: \"model_9\"\n",
            "_________________________________________________________________\n",
            "Layer (type)                 Output Shape              Param #   \n",
            "=================================================================\n",
            "input_1 (InputLayer)         [(None, 4)]               0         \n",
            "_________________________________________________________________\n",
            "dense_4 (Dense)              (None, 8)                 40        \n",
            "_________________________________________________________________\n",
            "dense_5 (Dense)              (None, 16)                144       \n",
            "_________________________________________________________________\n",
            "dense_6 (Dense)              (None, 32)                544       \n",
            "_________________________________________________________________\n",
            "dense_7 (Dense)              (None, 10)                330       \n",
            "=================================================================\n",
            "Total params: 1,058\n",
            "Trainable params: 1,058\n",
            "Non-trainable params: 0\n",
            "_________________________________________________________________\n",
            "====================================\n"
          ]
        }
      ]
    },
    {
      "cell_type": "code",
      "metadata": {
        "id": "O_hcy2S5qCBz"
      },
      "source": [
        ""
      ],
      "execution_count": null,
      "outputs": []
    }
  ]
}