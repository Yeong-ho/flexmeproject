{
 "cells": [
  {
   "cell_type": "code",
   "execution_count": null,
   "metadata": {
    "id": "cyOmMKaVNLix"
   },
   "outputs": [],
   "source": [
    "import tensorflow as tf\n",
    "import numpy as np\n",
    "\n",
    "from tensorflow.keras.models import Sequential\n",
    "from tensorflow.keras.layers import Flatten, Dense\n",
    "\n",
    "from tensorflow.keras.datasets import fashion_mnist"
   ]
  },
  {
   "cell_type": "code",
   "execution_count": null,
   "metadata": {
    "colab": {
     "base_uri": "https://localhost:8080/"
    },
    "id": "tmt1dca5PD75",
    "outputId": "973f9324-6a55-4f19-f503-59adf99848c4"
   },
   "outputs": [
    {
     "name": "stdout",
     "output_type": "stream",
     "text": [
      "Downloading data from https://storage.googleapis.com/tensorflow/tf-keras-datasets/train-labels-idx1-ubyte.gz\n",
      "32768/29515 [=================================] - 0s 0us/step\n",
      "40960/29515 [=========================================] - 0s 0us/step\n",
      "Downloading data from https://storage.googleapis.com/tensorflow/tf-keras-datasets/train-images-idx3-ubyte.gz\n",
      "26427392/26421880 [==============================] - 0s 0us/step\n",
      "26435584/26421880 [==============================] - 0s 0us/step\n",
      "Downloading data from https://storage.googleapis.com/tensorflow/tf-keras-datasets/t10k-labels-idx1-ubyte.gz\n",
      "16384/5148 [===============================================================================================] - 0s 0us/step\n",
      "Downloading data from https://storage.googleapis.com/tensorflow/tf-keras-datasets/t10k-images-idx3-ubyte.gz\n",
      "4423680/4422102 [==============================] - 0s 0us/step\n",
      "4431872/4422102 [==============================] - 0s 0us/step\n",
      "\n",
      "x_train.shape =  (60000, 28, 28) , t_train.shape =  (60000,)\n",
      "x_test.shape =  (10000, 28, 28) , t_test.shape =  (10000,)\n"
     ]
    }
   ],
   "source": [
    "(x_train, t_train), (x_test, t_test) = fashion_mnist.load_data()   \n",
    "\n",
    "print('')\n",
    "print('x_train.shape = ', x_train.shape, ', t_train.shape = ', t_train.shape)\n",
    "print('x_test.shape = ', x_test.shape, ', t_test.shape = ', t_test.shape)"
   ]
  },
  {
   "cell_type": "code",
   "execution_count": null,
   "metadata": {
    "id": "jy2LJY6mSfd9"
   },
   "outputs": [],
   "source": [
    "# x_train, x_test 값 범위를 0 ~ 1 사이로 정규화\n",
    "\n",
    "x_train = x_train / 255.0\n",
    "x_test = x_test / 255.0"
   ]
  },
  {
   "cell_type": "code",
   "execution_count": null,
   "metadata": {
    "id": "DnXY9nEDU1MS"
   },
   "outputs": [],
   "source": [
    "model = Sequential()      # model 생성\n",
    "\n",
    "model.add(Flatten(input_shape=(28, 28, 1)))  \n",
    "\n",
    "model.add(Dense(100, activation='relu'))     \n",
    "\n",
    "model.add(Dense(10, activation='softmax'))"
   ]
  },
  {
   "cell_type": "code",
   "execution_count": null,
   "metadata": {
    "colab": {
     "base_uri": "https://localhost:8080/"
    },
    "id": "-8w6Gk2HW75r",
    "outputId": "27b6e2bd-d862-41c4-cd9c-3d53605055ea"
   },
   "outputs": [
    {
     "name": "stdout",
     "output_type": "stream",
     "text": [
      "Model: \"sequential\"\n",
      "_________________________________________________________________\n",
      "Layer (type)                 Output Shape              Param #   \n",
      "=================================================================\n",
      "flatten (Flatten)            (None, 784)               0         \n",
      "_________________________________________________________________\n",
      "dense (Dense)                (None, 100)               78500     \n",
      "_________________________________________________________________\n",
      "dense_1 (Dense)              (None, 10)                1010      \n",
      "=================================================================\n",
      "Total params: 79,510\n",
      "Trainable params: 79,510\n",
      "Non-trainable params: 0\n",
      "_________________________________________________________________\n"
     ]
    }
   ],
   "source": [
    "from tensorflow.keras.optimizers import SGD\n",
    "\n",
    "model.compile(optimizer=SGD(learning_rate=0.1), \n",
    "              loss='sparse_categorical_crossentropy', \n",
    "              metrics=['accuracy'])\n",
    "\n",
    "model.summary()"
   ]
  },
  {
   "cell_type": "code",
   "execution_count": null,
   "metadata": {
    "colab": {
     "base_uri": "https://localhost:8080/"
    },
    "id": "4s4pVgNtbTld",
    "outputId": "7495acd3-b2c9-45d0-9419-26d7c20df7de"
   },
   "outputs": [
    {
     "name": "stdout",
     "output_type": "stream",
     "text": [
      "Epoch 1/50\n",
      "1500/1500 [==============================] - 7s 3ms/step - loss: 0.5591 - accuracy: 0.8002 - val_loss: 0.4422 - val_accuracy: 0.8418\n",
      "\n",
      "Epoch 00001: val_loss improved from inf to 0.44218, saving model to ./modelchpoint_test.h5\n",
      "Epoch 2/50\n",
      "1500/1500 [==============================] - 4s 2ms/step - loss: 0.4103 - accuracy: 0.8524 - val_loss: 0.3919 - val_accuracy: 0.8566\n",
      "\n",
      "Epoch 00002: val_loss improved from 0.44218 to 0.39185, saving model to ./modelchpoint_test.h5\n",
      "Epoch 3/50\n",
      "1500/1500 [==============================] - 4s 2ms/step - loss: 0.3717 - accuracy: 0.8646 - val_loss: 0.3951 - val_accuracy: 0.8551\n",
      "\n",
      "Epoch 00003: val_loss did not improve from 0.39185\n",
      "Epoch 4/50\n",
      "1500/1500 [==============================] - 4s 2ms/step - loss: 0.3497 - accuracy: 0.8717 - val_loss: 0.3721 - val_accuracy: 0.8647\n",
      "\n",
      "Epoch 00004: val_loss improved from 0.39185 to 0.37206, saving model to ./modelchpoint_test.h5\n",
      "Epoch 5/50\n",
      "1500/1500 [==============================] - 4s 3ms/step - loss: 0.3306 - accuracy: 0.8801 - val_loss: 0.3507 - val_accuracy: 0.8736\n",
      "\n",
      "Epoch 00005: val_loss improved from 0.37206 to 0.35066, saving model to ./modelchpoint_test.h5\n",
      "Epoch 6/50\n",
      "1500/1500 [==============================] - 4s 2ms/step - loss: 0.3175 - accuracy: 0.8827 - val_loss: 0.3544 - val_accuracy: 0.8707\n",
      "\n",
      "Epoch 00006: val_loss did not improve from 0.35066\n",
      "Epoch 7/50\n",
      "1500/1500 [==============================] - 4s 3ms/step - loss: 0.3046 - accuracy: 0.8875 - val_loss: 0.3325 - val_accuracy: 0.8828\n",
      "\n",
      "Epoch 00007: val_loss improved from 0.35066 to 0.33254, saving model to ./modelchpoint_test.h5\n",
      "Epoch 8/50\n",
      "1500/1500 [==============================] - 4s 3ms/step - loss: 0.2958 - accuracy: 0.8911 - val_loss: 0.3455 - val_accuracy: 0.8753\n",
      "\n",
      "Epoch 00008: val_loss did not improve from 0.33254\n",
      "Epoch 9/50\n",
      "1500/1500 [==============================] - 4s 2ms/step - loss: 0.2852 - accuracy: 0.8949 - val_loss: 0.3518 - val_accuracy: 0.8758\n",
      "\n",
      "Epoch 00009: val_loss did not improve from 0.33254\n",
      "Epoch 10/50\n",
      "1500/1500 [==============================] - 4s 2ms/step - loss: 0.2773 - accuracy: 0.8967 - val_loss: 0.3297 - val_accuracy: 0.8822\n",
      "\n",
      "Epoch 00010: val_loss improved from 0.33254 to 0.32974, saving model to ./modelchpoint_test.h5\n",
      "Epoch 11/50\n",
      "1500/1500 [==============================] - 4s 3ms/step - loss: 0.2699 - accuracy: 0.9013 - val_loss: 0.3214 - val_accuracy: 0.8849\n",
      "\n",
      "Epoch 00011: val_loss improved from 0.32974 to 0.32141, saving model to ./modelchpoint_test.h5\n",
      "Epoch 12/50\n",
      "1500/1500 [==============================] - 4s 3ms/step - loss: 0.2635 - accuracy: 0.9021 - val_loss: 0.3274 - val_accuracy: 0.8789\n",
      "\n",
      "Epoch 00012: val_loss did not improve from 0.32141\n",
      "Epoch 13/50\n",
      "1500/1500 [==============================] - 4s 3ms/step - loss: 0.2559 - accuracy: 0.9057 - val_loss: 0.3132 - val_accuracy: 0.8856\n",
      "\n",
      "Epoch 00013: val_loss improved from 0.32141 to 0.31323, saving model to ./modelchpoint_test.h5\n",
      "Epoch 14/50\n",
      "1500/1500 [==============================] - 4s 2ms/step - loss: 0.2510 - accuracy: 0.9076 - val_loss: 0.3163 - val_accuracy: 0.8894\n",
      "\n",
      "Epoch 00014: val_loss did not improve from 0.31323\n",
      "Epoch 15/50\n",
      "1500/1500 [==============================] - 4s 2ms/step - loss: 0.2440 - accuracy: 0.9097 - val_loss: 0.3247 - val_accuracy: 0.8834\n",
      "\n",
      "Epoch 00015: val_loss did not improve from 0.31323\n",
      "Epoch 16/50\n",
      "1500/1500 [==============================] - 4s 3ms/step - loss: 0.2385 - accuracy: 0.9116 - val_loss: 0.3253 - val_accuracy: 0.8838\n",
      "\n",
      "Epoch 00016: val_loss did not improve from 0.31323\n",
      "Epoch 17/50\n",
      "1500/1500 [==============================] - 4s 3ms/step - loss: 0.2344 - accuracy: 0.9135 - val_loss: 0.3276 - val_accuracy: 0.8863\n",
      "\n",
      "Epoch 00017: val_loss did not improve from 0.31323\n",
      "Epoch 18/50\n",
      "1500/1500 [==============================] - 4s 3ms/step - loss: 0.2301 - accuracy: 0.9140 - val_loss: 0.3166 - val_accuracy: 0.8873\n",
      "\n",
      "Epoch 00018: val_loss did not improve from 0.31323\n",
      "Epoch 19/50\n",
      "1500/1500 [==============================] - 4s 3ms/step - loss: 0.2239 - accuracy: 0.9171 - val_loss: 0.3715 - val_accuracy: 0.8710\n",
      "\n",
      "Epoch 00019: val_loss did not improve from 0.31323\n",
      "Epoch 20/50\n",
      "1500/1500 [==============================] - 4s 3ms/step - loss: 0.2193 - accuracy: 0.9188 - val_loss: 0.3458 - val_accuracy: 0.8811\n",
      "\n",
      "Epoch 00020: val_loss did not improve from 0.31323\n",
      "Epoch 21/50\n",
      "1500/1500 [==============================] - 4s 3ms/step - loss: 0.2152 - accuracy: 0.9184 - val_loss: 0.3196 - val_accuracy: 0.8893\n",
      "\n",
      "Epoch 00021: val_loss did not improve from 0.31323\n",
      "Epoch 22/50\n",
      "1500/1500 [==============================] - 4s 3ms/step - loss: 0.2097 - accuracy: 0.9221 - val_loss: 0.3274 - val_accuracy: 0.8879\n",
      "\n",
      "Epoch 00022: val_loss did not improve from 0.31323\n",
      "Epoch 23/50\n",
      "1500/1500 [==============================] - 4s 3ms/step - loss: 0.2105 - accuracy: 0.9214 - val_loss: 0.3271 - val_accuracy: 0.8870\n",
      "\n",
      "Epoch 00023: val_loss did not improve from 0.31323\n",
      "Epoch 24/50\n",
      "1500/1500 [==============================] - 4s 3ms/step - loss: 0.2021 - accuracy: 0.9236 - val_loss: 0.3372 - val_accuracy: 0.8796\n",
      "\n",
      "Epoch 00024: val_loss did not improve from 0.31323\n",
      "Epoch 25/50\n",
      "1500/1500 [==============================] - 4s 3ms/step - loss: 0.1994 - accuracy: 0.9266 - val_loss: 0.3252 - val_accuracy: 0.8877\n",
      "\n",
      "Epoch 00025: val_loss did not improve from 0.31323\n",
      "Epoch 26/50\n",
      "1500/1500 [==============================] - 4s 3ms/step - loss: 0.1965 - accuracy: 0.9264 - val_loss: 0.3664 - val_accuracy: 0.8763\n",
      "\n",
      "Epoch 00026: val_loss did not improve from 0.31323\n",
      "Epoch 27/50\n",
      "1500/1500 [==============================] - 4s 3ms/step - loss: 0.1930 - accuracy: 0.9287 - val_loss: 0.3358 - val_accuracy: 0.8891\n",
      "\n",
      "Epoch 00027: val_loss did not improve from 0.31323\n",
      "Epoch 28/50\n",
      "1500/1500 [==============================] - 4s 3ms/step - loss: 0.1897 - accuracy: 0.9281 - val_loss: 0.3205 - val_accuracy: 0.8918\n",
      "\n",
      "Epoch 00028: val_loss did not improve from 0.31323\n",
      "Epoch 29/50\n",
      "1500/1500 [==============================] - 4s 3ms/step - loss: 0.1858 - accuracy: 0.9304 - val_loss: 0.3446 - val_accuracy: 0.8875\n",
      "\n",
      "Epoch 00029: val_loss did not improve from 0.31323\n",
      "Epoch 30/50\n",
      "1500/1500 [==============================] - 4s 3ms/step - loss: 0.1829 - accuracy: 0.9314 - val_loss: 0.3523 - val_accuracy: 0.8858\n",
      "\n",
      "Epoch 00030: val_loss did not improve from 0.31323\n",
      "Epoch 31/50\n",
      "1500/1500 [==============================] - 4s 3ms/step - loss: 0.1806 - accuracy: 0.9318 - val_loss: 0.3366 - val_accuracy: 0.8875\n",
      "\n",
      "Epoch 00031: val_loss did not improve from 0.31323\n",
      "Epoch 32/50\n",
      "1500/1500 [==============================] - 4s 3ms/step - loss: 0.1772 - accuracy: 0.9344 - val_loss: 0.3531 - val_accuracy: 0.8847\n",
      "\n",
      "Epoch 00032: val_loss did not improve from 0.31323\n",
      "Epoch 33/50\n",
      "1500/1500 [==============================] - 4s 3ms/step - loss: 0.1737 - accuracy: 0.9358 - val_loss: 0.3269 - val_accuracy: 0.8915\n",
      "\n",
      "Epoch 00033: val_loss did not improve from 0.31323\n",
      "Epoch 34/50\n",
      "1500/1500 [==============================] - 4s 3ms/step - loss: 0.1721 - accuracy: 0.9356 - val_loss: 0.3562 - val_accuracy: 0.8855\n",
      "\n",
      "Epoch 00034: val_loss did not improve from 0.31323\n",
      "Epoch 35/50\n",
      "1500/1500 [==============================] - 4s 3ms/step - loss: 0.1672 - accuracy: 0.9370 - val_loss: 0.3584 - val_accuracy: 0.8849\n",
      "\n",
      "Epoch 00035: val_loss did not improve from 0.31323\n",
      "Epoch 36/50\n",
      "1500/1500 [==============================] - 4s 3ms/step - loss: 0.1657 - accuracy: 0.9378 - val_loss: 0.3388 - val_accuracy: 0.8878\n",
      "\n",
      "Epoch 00036: val_loss did not improve from 0.31323\n",
      "Epoch 37/50\n",
      "1500/1500 [==============================] - 4s 3ms/step - loss: 0.1623 - accuracy: 0.9399 - val_loss: 0.3579 - val_accuracy: 0.8870\n",
      "\n",
      "Epoch 00037: val_loss did not improve from 0.31323\n",
      "Epoch 38/50\n",
      "1500/1500 [==============================] - 4s 3ms/step - loss: 0.1604 - accuracy: 0.9400 - val_loss: 0.3723 - val_accuracy: 0.8829\n",
      "\n",
      "Epoch 00038: val_loss did not improve from 0.31323\n",
      "Epoch 39/50\n",
      "1500/1500 [==============================] - 4s 3ms/step - loss: 0.1585 - accuracy: 0.9411 - val_loss: 0.3674 - val_accuracy: 0.8898\n",
      "\n",
      "Epoch 00039: val_loss did not improve from 0.31323\n",
      "Epoch 40/50\n",
      "1500/1500 [==============================] - 4s 2ms/step - loss: 0.1548 - accuracy: 0.9423 - val_loss: 0.3581 - val_accuracy: 0.8859\n",
      "\n",
      "Epoch 00040: val_loss did not improve from 0.31323\n",
      "Epoch 41/50\n",
      "1500/1500 [==============================] - 4s 3ms/step - loss: 0.1526 - accuracy: 0.9437 - val_loss: 0.3678 - val_accuracy: 0.8826\n",
      "\n",
      "Epoch 00041: val_loss did not improve from 0.31323\n",
      "Epoch 42/50\n",
      "1500/1500 [==============================] - 4s 2ms/step - loss: 0.1483 - accuracy: 0.9454 - val_loss: 0.3695 - val_accuracy: 0.8874\n",
      "\n",
      "Epoch 00042: val_loss did not improve from 0.31323\n",
      "Epoch 43/50\n",
      "1500/1500 [==============================] - 4s 3ms/step - loss: 0.1488 - accuracy: 0.9455 - val_loss: 0.3606 - val_accuracy: 0.8868\n",
      "\n",
      "Epoch 00043: val_loss did not improve from 0.31323\n",
      "Epoch 44/50\n",
      "1500/1500 [==============================] - 4s 3ms/step - loss: 0.1454 - accuracy: 0.9456 - val_loss: 0.3844 - val_accuracy: 0.8883\n",
      "\n",
      "Epoch 00044: val_loss did not improve from 0.31323\n",
      "Epoch 45/50\n",
      "1500/1500 [==============================] - 4s 3ms/step - loss: 0.1428 - accuracy: 0.9475 - val_loss: 0.3681 - val_accuracy: 0.8914\n",
      "\n",
      "Epoch 00045: val_loss did not improve from 0.31323\n",
      "Epoch 46/50\n",
      "1500/1500 [==============================] - 4s 3ms/step - loss: 0.1404 - accuracy: 0.9486 - val_loss: 0.3777 - val_accuracy: 0.8864\n",
      "\n",
      "Epoch 00046: val_loss did not improve from 0.31323\n",
      "Epoch 47/50\n",
      "1500/1500 [==============================] - 4s 3ms/step - loss: 0.1371 - accuracy: 0.9499 - val_loss: 0.3865 - val_accuracy: 0.8810\n",
      "\n",
      "Epoch 00047: val_loss did not improve from 0.31323\n",
      "Epoch 48/50\n",
      "1500/1500 [==============================] - 4s 3ms/step - loss: 0.1376 - accuracy: 0.9489 - val_loss: 0.3976 - val_accuracy: 0.8856\n",
      "\n",
      "Epoch 00048: val_loss did not improve from 0.31323\n",
      "Epoch 49/50\n",
      "1500/1500 [==============================] - 4s 3ms/step - loss: 0.1339 - accuracy: 0.9505 - val_loss: 0.3740 - val_accuracy: 0.8878\n",
      "\n",
      "Epoch 00049: val_loss did not improve from 0.31323\n",
      "Epoch 50/50\n",
      "1500/1500 [==============================] - 4s 3ms/step - loss: 0.1343 - accuracy: 0.9508 - val_loss: 0.3837 - val_accuracy: 0.8841\n",
      "\n",
      "Epoch 00050: val_loss did not improve from 0.31323\n"
     ]
    }
   ],
   "source": [
    "from tensorflow.keras.callbacks import ModelCheckpoint\n",
    "\n",
    "file_path = './modelchpoint_test.h5'                # 저장할 file path\n",
    "\n",
    "checkpoint = ModelCheckpoint(file_path,             # 저장할 file path\n",
    "                             monitor='val_loss',    # val_loss 값이 개선되었을때 호출\n",
    "                             verbose=1,             # log 출력\n",
    "                             save_best_only=True,   # best 값만 저장\n",
    "                             mode='auto')           # auto는 자동으로 best를 찾음\n",
    "\n",
    "\n",
    "\n",
    "hist = model.fit(x_train, t_train, \n",
    "                 epochs=50, validation_split=0.2,\n",
    "                 callbacks=[checkpoint])"
   ]
  },
  {
   "cell_type": "code",
   "execution_count": null,
   "metadata": {
    "colab": {
     "base_uri": "https://localhost:8080/"
    },
    "id": "JS2bZ_QTd2Go",
    "outputId": "e056ed96-dfe0-473e-ef4f-3a5d52356629"
   },
   "outputs": [
    {
     "name": "stdout",
     "output_type": "stream",
     "text": [
      "313/313 [==============================] - 1s 3ms/step - loss: 0.4115 - accuracy: 0.8793\n"
     ]
    },
    {
     "data": {
      "text/plain": [
       "[0.41147470474243164, 0.8792999982833862]"
      ]
     },
     "execution_count": 8,
     "metadata": {},
     "output_type": "execute_result"
    }
   ],
   "source": [
    "# test data 이용하여 정확도 검증\n",
    "\n",
    "model.evaluate(x_test, t_test)"
   ]
  },
  {
   "cell_type": "code",
   "execution_count": null,
   "metadata": {
    "colab": {
     "base_uri": "https://localhost:8080/",
     "height": 295
    },
    "id": "LGgx_34Keskt",
    "outputId": "c3e7d20b-c58b-46aa-8134-b31d19b8fc1f"
   },
   "outputs": [
    {
     "data": {
      "image/png": "[encoded data removed]",
      "text/plain": [
       "<Figure size 432x288 with 1 Axes>"
      ]
     },
     "metadata": {
      "needs_background": "light"
     },
     "output_type": "display_data"
    }
   ],
   "source": [
    "# 손실함수 그래프\n",
    "import matplotlib.pyplot as plt\n",
    "\n",
    "plt.title('Loss Trend')\n",
    "plt.xlabel('epochs')\n",
    "plt.ylabel('loss')\n",
    "plt.grid()\n",
    "\n",
    "plt.plot(hist.history['loss'], label='training loss')\n",
    "plt.plot(hist.history['val_loss'], label='validation loss')\n",
    "plt.legend(loc='best')\n",
    "\n",
    "plt.show()"
   ]
  },
  {
   "cell_type": "code",
   "execution_count": null,
   "metadata": {
    "colab": {
     "base_uri": "https://localhost:8080/",
     "height": 295
    },
    "id": "NTFcF9yPf82R",
    "outputId": "78927cf0-031e-41a4-da53-74b01570a20d"
   },
   "outputs": [
    {
     "data": {
      "image/png": "[encoded data removed]",
      "text/plain": [
       "<Figure size 432x288 with 1 Axes>"
      ]
     },
     "metadata": {
      "needs_background": "light"
     },
     "output_type": "display_data"
    }
   ],
   "source": [
    "# 정확도 함수 그래프\n",
    "\n",
    "plt.title('Accuracy Trend')\n",
    "plt.xlabel('epochs')\n",
    "plt.ylabel('accuracy')\n",
    "plt.grid()\n",
    "\n",
    "plt.plot(hist.history['accuracy'], label='training accuracy')\n",
    "plt.plot(hist.history['val_accuracy'], label='validation accuracy')\n",
    "plt.legend(loc='best')\n",
    "\n",
    "plt.show()"
   ]
  },
  {
   "cell_type": "code",
   "execution_count": null,
   "metadata": {
    "colab": {
     "base_uri": "https://localhost:8080/",
     "height": 295
    },
    "id": "-eT9BeUpg2jO",
    "outputId": "9017a42d-e0cd-45c3-b877-e4166d6b7b54"
   },
   "outputs": [
    {
     "data": {
      "image/png": "[encoded data removed]",
      "text/plain": [
       "<Figure size 576x288 with 2 Axes>"
      ]
     },
     "metadata": {
      "needs_background": "light"
     },
     "output_type": "display_data"
    }
   ],
   "source": [
    "plt.figure(figsize=(8, 4))\n",
    "\n",
    "plt.subplot(1, 2, 1)\n",
    "\n",
    "plt.title('Loss Trend')\n",
    "plt.grid()\n",
    "plt.xlabel('epochs')\n",
    "plt.ylabel('loss')\n",
    "\n",
    "plt.plot(hist.history['loss'], label='training loss')\n",
    "plt.plot(hist.history['val_loss'], label='validation loss')\n",
    "plt.legend(loc='best')\n",
    "\n",
    "\n",
    "plt.subplot(1, 2, 2)\n",
    "\n",
    "plt.xlabel('epochs')\n",
    "plt.ylabel('accuracy')\n",
    "plt.grid()\n",
    "\n",
    "plt.plot(hist.history['accuracy'], label='training accuracy')\n",
    "plt.plot(hist.history['val_accuracy'], label='validation accuracy')\n",
    "plt.legend(loc='best')\n",
    "\n",
    "plt.show()"
   ]
  },
  {
   "cell_type": "code",
   "execution_count": null,
   "metadata": {
    "id": "2uC7r59VfPrF"
   },
   "outputs": [],
   "source": []
  }
 ],
 "metadata": {
  "accelerator": "GPU",
  "colab": {
   "collapsed_sections": [],
   "name": "TF_2_x_5_FashionMNIST_Callback_ModelCheckpoint.ipynb",
   "provenance": []
  },
  "kernelspec": {
   "display_name": "Python 3",
   "language": "python",
   "name": "python3"
  },
  "language_info": {
   "codemirror_mode": {
    "name": "ipython",
    "version": 3
   },
   "file_extension": ".py",
   "mimetype": "text/x-python",
   "name": "python",
   "nbconvert_exporter": "python",
   "pygments_lexer": "ipython3",
   "version": "3.8.3"
  }
 },
 "nbformat": 4,
 "nbformat_minor": 1
}
