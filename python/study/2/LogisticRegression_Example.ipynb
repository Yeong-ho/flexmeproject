{
  "cells": [
    {
      "cell_type": "markdown",
      "metadata": {
        "id": "HVPjIORrOxp8"
      },
      "source": [
        "## numerical_derivative, sigmoid 함수 정의"
      ]
    },
    {
      "cell_type": "code",
      "execution_count": 1,
      "metadata": {
        "id": "ONLApAPKOxqO"
      },
      "outputs": [],
      "source": [
        "import numpy as np\n",
        "from datetime import datetime\n",
        "\n",
        "np.random.seed(0)\n",
        "\n",
        "def numerical_derivative(f, x):\n",
        "    delta_x = 1e-4 # 0.0001\n",
        "    grad = np.zeros_like(x)\n",
        "    \n",
        "    it = np.nditer(x, flags=['multi_index'], op_flags=['readwrite'])\n",
        "    \n",
        "    while not it.finished:\n",
        "        idx = it.multi_index        \n",
        "        tmp_val = x[idx]\n",
        "        x[idx] = float(tmp_val) + delta_x\n",
        "        fx1 = f(x) # f(x+delta_x)\n",
        "        \n",
        "        x[idx] = float(tmp_val) - delta_x \n",
        "        fx2 = f(x) # f(x-delta_x)\n",
        "        grad[idx] = (fx1 - fx2) / (2*delta_x)\n",
        "        \n",
        "        x[idx] = tmp_val \n",
        "        it.iternext()   \n",
        "        \n",
        "    return grad"
      ]
    },
    {
      "cell_type": "code",
      "execution_count": 2,
      "metadata": {
        "id": "l9KYhcJ6Oxqb"
      },
      "outputs": [],
      "source": [
        "# 최종출력은 y = sigmoid(Wx+b) 이며, 손실함수는 cross-entropy 로 나타냄\n",
        "\n",
        "def sigmoid(z):\n",
        "    return 1 / (1+np.exp(-z))"
      ]
    },
    {
      "cell_type": "markdown",
      "metadata": {
        "id": "KLkHhqE1PB_C"
      },
      "source": [
        "## data definition"
      ]
    },
    {
      "cell_type": "code",
      "execution_count": 3,
      "metadata": {
        "colab": {
          "base_uri": "https://localhost:8080/"
        },
        "id": "dR6A0Sc1Oxqc",
        "outputId": "20437ce8-2925-4770-c942-a2e07e1a1290"
      },
      "outputs": [
        {
          "name": "stdout",
          "output_type": "stream",
          "text": [
            "x_data.shape =  (10, 1) , t_data.shape =  (10, 1)\n"
          ]
        }
      ],
      "source": [
        "x_data = np.array([2, 4, 6, 8, 10, 12, 14, 16, 18, 20]).reshape(10,1)   \n",
        "t_data = np.array([0, 0, 0, 0,  0,  0,  1,  1,  1,  1]).reshape(10,1)\n",
        "\n",
        "print(\"x_data.shape = \", x_data.shape, \", t_data.shape = \", t_data.shape)"
      ]
    },
    {
      "cell_type": "markdown",
      "metadata": {
        "id": "sFnhA47FPFzp"
      },
      "source": [
        "## initialize weights and bias"
      ]
    },
    {
      "cell_type": "code",
      "execution_count": 4,
      "metadata": {
        "colab": {
          "base_uri": "https://localhost:8080/"
        },
        "id": "9MtmDwl2Oxqf",
        "outputId": "48e9c802-c233-48c9-fd02-3ab993964cd5"
      },
      "outputs": [
        {
          "name": "stdout",
          "output_type": "stream",
          "text": [
            "W =  [[0.5488135]] , W.shape =  (1, 1) , b =  [0.71518937] , b.shape =  (1,)\n"
          ]
        }
      ],
      "source": [
        "W = np.random.rand(1,1)  \n",
        "b = np.random.rand(1)  \n",
        "\n",
        "print(\"W = \", W, \", W.shape = \", W.shape, \", b = \", b, \", b.shape = \", b.shape)"
      ]
    },
    {
      "cell_type": "markdown",
      "metadata": {
        "id": "BIrUcRvcPQeG"
      },
      "source": [
        "## define loss function and output, y"
      ]
    },
    {
      "cell_type": "code",
      "execution_count": 5,
      "metadata": {
        "id": "ldAtOucnOxqg"
      },
      "outputs": [],
      "source": [
        "def loss_func(x, t):\n",
        "    \n",
        "    delta = 1e-7    # log 무한대 발산 방지\n",
        "    \n",
        "    z = np.dot(x, W) + b\n",
        "    y = sigmoid(z)\n",
        "    \n",
        "    # cross-entropy \n",
        "    return  -np.sum( t*np.log(y + delta) + (1-t)*np.log((1 - y)+delta ) ) \n",
        "\n",
        "# 손실함수 값 계산 함수\n",
        "# 입력변수 x, t : numpy type\n",
        "def error_val(x, t):\n",
        "    delta = 1e-7    # log 무한대 발산 방지\n",
        "    \n",
        "    z = np.dot(x, W) + b\n",
        "    y = sigmoid(z)\n",
        "    \n",
        "    # cross-entropy \n",
        "    return  -np.sum( t*np.log(y + delta) + (1-t)*np.log((1 - y)+delta ) ) "
      ]
    },
    {
      "cell_type": "markdown",
      "metadata": {
        "id": "0OAKzLBvPU5e"
      },
      "source": [
        "## learning"
      ]
    },
    {
      "cell_type": "code",
      "execution_count": 6,
      "metadata": {
        "colab": {
          "base_uri": "https://localhost:8080/"
        },
        "id": "4uaeY4ijOxqi",
        "outputId": "4e54b60f-34bf-4e6c-d6e3-b901e4d68270"
      },
      "outputs": [
        {
          "name": "stdout",
          "output_type": "stream",
          "text": [
            "Initial error value =  27.572348887805205\n",
            "step =  0 error value =  11.083107627560512\n",
            "step =  5000 error value =  0.8460538852420929\n",
            "step =  10000 error value =  0.6213212802190435\n",
            "step =  15000 error value =  0.5096928691516133\n",
            "step =  20000 error value =  0.4379216494151207\n",
            "step =  25000 error value =  0.38625342252958283\n",
            "step =  30000 error value =  0.34660969259370533\n",
            "step =  35000 error value =  0.31491869701805886\n",
            "step =  40000 error value =  0.2888470707057566\n",
            "step =  45000 error value =  0.2669359732255671\n",
            "step =  50000 error value =  0.2482141370712009\n",
            "step =  55000 error value =  0.23200351293423327\n",
            "step =  60000 error value =  0.217812927336217\n",
            "step =  65000 error value =  0.20527589515576555\n",
            "step =  70000 error value =  0.19411226769561546\n",
            "step =  75000 error value =  0.18410353081080733\n",
            "step =  80000 error value =  0.1750763101296366\n",
            "step =  85000 error value =  0.16689101622278724\n",
            "step =  90000 error value =  0.15943382228981376\n",
            "step =  95000 error value =  0.15261086776663912\n",
            "step =  100000 error value =  0.14634398759497833\n",
            "\n",
            "Elapsed Time =>  0:00:14.077175\n"
          ]
        }
      ],
      "source": [
        "learning_rate = 1e-3  # 발산하는 경우, 1e-3 ~ 1e-6 등으로 바꾸어서 실행\n",
        "\n",
        "f = lambda x : loss_func(x_data,t_data)  \n",
        "\n",
        "print(\"Initial error value = \", error_val(x_data, t_data) )\n",
        "\n",
        "start_time = datetime.now()\n",
        "\n",
        "for step in  range(100001):  \n",
        "    \n",
        "    W -= learning_rate * numerical_derivative(f, W)\n",
        "    \n",
        "    b -= learning_rate * numerical_derivative(f, b)\n",
        "    \n",
        "    if (step % 5000 == 0):\n",
        "        print(\"step = \", step, \"error value = \", error_val(x_data, t_data) )\n",
        "        \n",
        "end_time = datetime.now()\n",
        "        \n",
        "print(\"\")\n",
        "print(\"Elapsed Time => \", end_time - start_time)"
      ]
    },
    {
      "cell_type": "markdown",
      "metadata": {
        "id": "MdCQM7SiPL_N"
      },
      "source": [
        "## evaluate and predict"
      ]
    },
    {
      "cell_type": "code",
      "execution_count": 7,
      "metadata": {
        "id": "Eb-JN1wnPOkt"
      },
      "outputs": [],
      "source": [
        "# 학습을 마친 후, 임의의 데이터에 대해 미래 값 예측 함수\n",
        "# 입력변수 test_data : numpy type\n",
        "def predict(test_data):\n",
        "    \n",
        "    z = np.dot(test_data, W) + b\n",
        "    y = sigmoid(z)\n",
        "    \n",
        "    if y >= 0.5:\n",
        "        result = 1  # True\n",
        "    else:\n",
        "        result = 0  # False\n",
        "    \n",
        "    return y, result"
      ]
    },
    {
      "cell_type": "code",
      "execution_count": 8,
      "metadata": {
        "colab": {
          "base_uri": "https://localhost:8080/"
        },
        "id": "kypteKwcOxqk",
        "outputId": "e3680da4-0ef2-4c2f-b4de-13f87a664256"
      },
      "outputs": [
        {
          "name": "stdout",
          "output_type": "stream",
          "text": [
            "[0.52082848] 1\n"
          ]
        }
      ],
      "source": [
        "test_data = np.array([13.0])\n",
        "\n",
        "(real_val, logical_val) = predict(test_data)\n",
        "\n",
        "print(real_val, logical_val)"
      ]
    },
    {
      "cell_type": "code",
      "execution_count": 9,
      "metadata": {
        "colab": {
          "base_uri": "https://localhost:8080/"
        },
        "id": "sur5--LQOxqo",
        "outputId": "6df38bcc-be83-4574-ba4c-e077049ea7c0"
      },
      "outputs": [
        {
          "name": "stdout",
          "output_type": "stream",
          "text": [
            "[0.00611092] 0\n"
          ]
        }
      ],
      "source": [
        "test_data = np.array([11.0])\n",
        "\n",
        "(real_val, logical_val) = predict(test_data)\n",
        "\n",
        "print(real_val, logical_val)"
      ]
    },
    {
      "cell_type": "code",
      "execution_count": 10,
      "metadata": {
        "colab": {
          "base_uri": "https://localhost:8080/"
        },
        "id": "CColqliiOxqq",
        "outputId": "700725ca-6f6b-45f7-dc17-d948970db60b"
      },
      "outputs": [
        {
          "name": "stdout",
          "output_type": "stream",
          "text": [
            "[1.] 1\n"
          ]
        }
      ],
      "source": [
        "test_data = np.array([31.0])\n",
        "\n",
        "(real_val, logical_val) = predict(test_data)\n",
        "\n",
        "print(real_val, logical_val)"
      ]
    },
    {
      "cell_type": "code",
      "execution_count": 11,
      "metadata": {
        "colab": {
          "base_uri": "https://localhost:8080/"
        },
        "id": "ZUmb7D8DOxqr",
        "outputId": "aae9665e-3cc2-47f4-f5a7-55dda77ca8eb"
      },
      "outputs": [
        {
          "name": "stdout",
          "output_type": "stream",
          "text": [
            "[6.29548072e-12] 0\n"
          ]
        }
      ],
      "source": [
        "test_data = np.array([3.0])\n",
        "\n",
        "(real_val, logical_val) = predict(test_data)\n",
        "\n",
        "print(real_val, logical_val)"
      ]
    },
    {
      "cell_type": "code",
      "execution_count": 12,
      "metadata": {
        "colab": {
          "base_uri": "https://localhost:8080/"
        },
        "id": "6ngOhEyAOxqs",
        "outputId": "8f6f4ee5-11f6-4c67-90e2-46281176716e"
      },
      "outputs": [
        {
          "name": "stdout",
          "output_type": "stream",
          "text": [
            "[2.29555467e-11] 0\n"
          ]
        }
      ],
      "source": [
        "test_data = np.array([3.5])\n",
        "\n",
        "(real_val, logical_val) = predict(test_data)\n",
        "\n",
        "print(real_val, logical_val)"
      ]
    },
    {
      "cell_type": "code",
      "execution_count": null,
      "metadata": {
        "id": "eBEvqwwhOxqt"
      },
      "outputs": [],
      "source": []
    }
  ],
  "metadata": {
    "anaconda-cloud": {},
    "colab": {
      "collapsed_sections": [],
      "name": "LogisticRegression_Example.ipynb",
      "provenance": []
    },
    "kernelspec": {
      "display_name": "Python 3",
      "language": "python",
      "name": "python3"
    },
    "language_info": {
      "codemirror_mode": {
        "name": "ipython",
        "version": 3
      },
      "file_extension": ".py",
      "mimetype": "text/x-python",
      "name": "python",
      "nbconvert_exporter": "python",
      "pygments_lexer": "ipython3",
      "version": "3.7.3"
    }
  },
  "nbformat": 4,
  "nbformat_minor": 0
}
